{
 "cells": [
  {
   "cell_type": "code",
   "execution_count": 4,
   "metadata": {},
   "outputs": [],
   "source": [
    "import numpy as np\n",
    "import matplotlib.pyplot as plt\n",
    "from emnist import extract_training_samples\n",
    "from sklearn.utils import shuffle\n",
    "from functools import partial\n",
    "import time\n",
    "\n",
    "from vertices_generator import vertices\n",
    "from kernel import Gaussian_kernel\n",
    "from mdwsvm import mdwsvm\n",
    "from mdwsvm_ad import mdwsvm_ad\n",
    "from one_class_svm import one_class_svm\n",
    "from hybrid import hybrid\n",
    "from metric import within_class_error"
   ]
  },
  {
   "attachments": {},
   "cell_type": "markdown",
   "metadata": {},
   "source": [
    "# Loading Training, Validation, and Test Data"
   ]
  },
  {
   "cell_type": "code",
   "execution_count": 5,
   "metadata": {},
   "outputs": [
    {
     "name": "stdout",
     "output_type": "stream",
     "text": [
      "16349\n"
     ]
    }
   ],
   "source": [
    "# Load data\n",
    "digits_images, digits_labels = extract_training_samples('digits')\n",
    "letters_images, letters_labels = extract_training_samples('byclass')\n",
    "\n",
    "# Get number \n",
    "mask_1 = (digits_labels == 1)\n",
    "digits_images_1 = digits_images[mask_1]\n",
    "digits_labels_1 = digits_labels[mask_1]\n",
    "\n",
    "mask_3 = (digits_labels == 3)\n",
    "digits_images_3 = digits_images[mask_3]\n",
    "digits_labels_3 = digits_labels[mask_3]\n",
    "\n",
    "mask_5 = (digits_labels == 5)\n",
    "digits_images_5 = digits_images[mask_5]\n",
    "digits_labels_5 = digits_labels[mask_5]\n",
    "\n",
    "mask_7 = (digits_labels == 7)\n",
    "digits_images_7 = digits_images[mask_7]\n",
    "digits_labels_7 = digits_labels[mask_7]\n",
    "\n",
    "\n",
    "# Get letter u, v, w, x, y, z\n",
    "mask_uvwxyz = (letters_labels == 56) | (letters_labels == 57) | (letters_labels == 58) | (letters_labels == 59) | (letters_labels == 60) | (letters_labels == 61)\n",
    "letters_images = letters_images[mask_uvwxyz]\n",
    "letters_labels = letters_labels[mask_uvwxyz]\n",
    "print(len(letters_labels))"
   ]
  },
  {
   "cell_type": "code",
   "execution_count": 6,
   "metadata": {},
   "outputs": [],
   "source": [
    "# Get training and testing data\n",
    "X_train = np.zeros((800,28,28))\n",
    "y_train = np.zeros((800), dtype=int)\n",
    "X_val = np.zeros((8000,28,28))\n",
    "y_val = np.zeros((8000), dtype=int)\n",
    "X_test = np.zeros((8000,28,28))\n",
    "y_test = np.zeros((8000), dtype=int)\n",
    "\n",
    "# 800 digits normalized training data \n",
    "X_train[0:150,:,:] = digits_images_1[0:150,:,:] / 255\n",
    "X_train[150:300,:,:] = digits_images_3[0:150,:,:] / 255\n",
    "X_train[300:550,:,:] = digits_images_5[0:250,:,:] / 255\n",
    "X_train[550:800,:,:] = digits_images_7[0:250,:,:] / 255\n",
    "X_train = X_train.reshape(800,784).T \n",
    "# 800 digits training label\n",
    "y_train[0:150] = digits_labels_1[0:150] - 1\n",
    "y_train[150:300] = digits_labels_3[0:150] - 2\n",
    "y_train[300:550] = digits_labels_5[0:250] - 3\n",
    "y_train[550:800] = digits_labels_7[0:250] - 4\n",
    "\n",
    "# Used for hybrid\n",
    "# Get 400 digits for validation X\n",
    "X_val[0:100,:,:] = digits_images_1[1000:1100,:,:] / 255\n",
    "X_val[100:200,:,:] = digits_images_3[1000:1100,:,:] / 255\n",
    "X_val[200:300,:,:] = digits_images_5[1000:1100,:,:] / 255\n",
    "X_val[300:400,:,:] = digits_images_7[1000:1100,:,:] / 255\n",
    "# 400 digits validation label\n",
    "y_val[0:100] = digits_labels_1[1000:1100] - 1\n",
    "y_val[100:200] = digits_labels_3[1000:1100] - 2\n",
    "y_val[200:300] = digits_labels_5[1000:1100] - 3\n",
    "y_val[300:400] = digits_labels_7[1000:1100] - 4\n",
    "# Get 7600 lowercase letters\n",
    "X_val[400:8000,:,:] = letters_images[0:7600,:,:] / 255\n",
    "y_val[400:8000] = letters_labels[0:7600]\n",
    "# Get true y label to calculate hybrid error\n",
    "y_val_true_hybrid = -np.ones((8000), dtype=int)\n",
    "y_val_true_hybrid[0:400] = y_val[0:400]\n",
    "# Get true y label to calculate mdwsvm_ad error\n",
    "y_val_true_mdwsvm_ad = 4 * np.ones((8000), dtype=int)\n",
    "y_val_true_mdwsvm_ad[0:400] = y_val[0:400]\n",
    "# 400 digits and 7600 letters normalized data\n",
    "X_val = X_val.reshape(8000,784).T\n",
    "\n",
    "# Get 400 digits for test X\n",
    "X_test[0:100,:,:] = digits_images_1[1100:1200,:,:] / 255\n",
    "X_test[100:200,:,:] = digits_images_3[1100:1200,:,:] / 255\n",
    "X_test[200:300,:,:] = digits_images_5[1100:1200,:,:] / 255\n",
    "X_test[300:400,:,:] = digits_images_7[1100:1200,:,:] / 255\n",
    "# 400 digits test label\n",
    "y_test[0:100] = digits_labels_1[1100:1200] - 1\n",
    "y_test[100:200] = digits_labels_3[1100:1200] - 2\n",
    "y_test[200:300] = digits_labels_5[1100:1200] - 3\n",
    "y_test[300:400] = digits_labels_7[1100:1200] - 4\n",
    "# Get 7600 lowercase letters\n",
    "X_test[400:8000,:,:] = letters_images[8000:15600,:,:] / 255\n",
    "y_test[400:8000] = letters_labels[8000:15600]\n",
    "# Get true y label to calculate hybrid error\n",
    "y_test_true_hybrid = -np.ones((8000), dtype=int)\n",
    "y_test_true_hybrid[0:400] = y_test[0:400]\n",
    "# Get true y label to calculate mdwsvm_ad error\n",
    "y_test_true_mdwsvm_ad = 4 * np.ones((8000), dtype=int)\n",
    "y_test_true_mdwsvm_ad[0:400] = y_test[0:400]\n",
    "# 400 digits and 7600 letters normalized data\n",
    "X_test = X_test.reshape(8000,784).T\n",
    "\n",
    "# y_test: 0,1,2,3,56-61\n",
    "# y_test_true_hybrid: -1,0,1,2,3\n",
    "# y_test_true_mdwsvm_ad: 0,1,2,3,4"
   ]
  },
  {
   "cell_type": "markdown",
   "metadata": {},
   "source": []
  },
  {
   "cell_type": "code",
   "execution_count": 22,
   "metadata": {},
   "outputs": [
    {
     "data": {
      "text/plain": [
       "(array([0, 1, 2, 3]), array([150, 150, 250, 250], dtype=int64))"
      ]
     },
     "execution_count": 22,
     "metadata": {},
     "output_type": "execute_result"
    }
   ],
   "source": [
    "np.unique(y_train, return_counts=True)"
   ]
  },
  {
   "cell_type": "code",
   "execution_count": 23,
   "metadata": {},
   "outputs": [
    {
     "data": {
      "text/plain": [
       "(array([ 0,  1,  2,  3, 56, 57, 58, 59, 60, 61]),\n",
       " array([ 100,  100,  100,  100, 1317, 1368, 1271, 1312, 1085, 1247],\n",
       "       dtype=int64))"
      ]
     },
     "execution_count": 23,
     "metadata": {},
     "output_type": "execute_result"
    }
   ],
   "source": [
    "np.unique(y_val, return_counts=True)"
   ]
  },
  {
   "cell_type": "code",
   "execution_count": 24,
   "metadata": {},
   "outputs": [
    {
     "data": {
      "text/plain": [
       "(array([ 0,  1,  2,  3, 56, 57, 58, 59, 60, 61]),\n",
       " array([ 100,  100,  100,  100, 1339, 1327, 1255, 1315, 1084, 1280],\n",
       "       dtype=int64))"
      ]
     },
     "execution_count": 24,
     "metadata": {},
     "output_type": "execute_result"
    }
   ],
   "source": [
    "np.unique(y_test, return_counts=True)"
   ]
  },
  {
   "cell_type": "code",
   "execution_count": 25,
   "metadata": {},
   "outputs": [
    {
     "data": {
      "text/plain": [
       "(784, 800)"
      ]
     },
     "execution_count": 25,
     "metadata": {},
     "output_type": "execute_result"
    }
   ],
   "source": [
    "X_train.shape"
   ]
  },
  {
   "attachments": {},
   "cell_type": "markdown",
   "metadata": {},
   "source": [
    "# MDWSVM"
   ]
  },
  {
   "attachments": {},
   "cell_type": "markdown",
   "metadata": {},
   "source": [
    "## Cross Validation for MDWSVM"
   ]
  },
  {
   "attachments": {},
   "cell_type": "markdown",
   "metadata": {},
   "source": [
    "Only use the training data to do k-fold cross validation, and choose the best hyperparameter C based on average cross validation error (sum of all cross validation errors for one C divided by k). Use alpha = 0.5."
   ]
  },
  {
   "cell_type": "code",
   "execution_count": 26,
   "metadata": {},
   "outputs": [
    {
     "name": "stdout",
     "output_type": "stream",
     "text": [
      "0.7219278257500831\n",
      "0.8804499317653143\n",
      "0.9063206637381365\n",
      "0.9238592444711161\n",
      "0.9106620778738762\n",
      "0.9003943726964261\n",
      "0.9136824123822656\n",
      "0.9125231552450671\n",
      "0.8859543690333105\n",
      "0.8792666353572519\n",
      "0.8698996777188814\n",
      "0.8820229014921457\n",
      "0.8646591198657886\n",
      "0.8505137407449042\n",
      "0.8477638929055858\n",
      "0.8526854615330368\n"
     ]
    }
   ],
   "source": [
    "c_values = [2**i for i in range(-3,13)]\n",
    "w1 = vertices(4)\n",
    "size = X_train.shape[1]\n",
    "num_folds = 5\n",
    "\n",
    "X_train_new, y_train_new = shuffle(X_train.T, y_train, random_state=42)\n",
    "X_train_new = X_train_new.T\n",
    "folder_size = int(size / num_folds)\n",
    "# Loop over each value of c and perform cross-validation\n",
    "best_c = 0\n",
    "best_score = -1\n",
    "for c in c_values:\n",
    "    scores = np.zeros(num_folds)\n",
    "    # Perform cross-validation and calculate the average score\n",
    "    for i in range(num_folds):\n",
    "        # Get testing set    \n",
    "        testx = X_train_new[:, i*folder_size:(i+1)*folder_size]\n",
    "        testy = y_train_new[i*folder_size:(i+1)*folder_size]\n",
    "        # Get training set    \n",
    "        trainx = np.hstack((X_train_new[:, 0:(i)*folder_size], X_train_new[:, (i+1)*folder_size:size]))\n",
    "        trainy = np.hstack((y_train_new[0:(i)*folder_size], y_train_new[(i+1)*folder_size:size]))\n",
    "        method = mdwsvm(trainx, trainy, w1, c)\n",
    "        \n",
    "        pred_y = method.predict(testx)\n",
    "        score = 1 - within_class_error(testy, pred_y)\n",
    "        scores[i] = score\n",
    "    # Check if the current value of c is the best so far\n",
    "    avg_score = np.mean(scores)\n",
    "    print(avg_score)\n",
    "    if avg_score > best_score:\n",
    "        best_c = c\n",
    "        best_score = avg_score"
   ]
  },
  {
   "cell_type": "code",
   "execution_count": 27,
   "metadata": {},
   "outputs": [
    {
     "name": "stdout",
     "output_type": "stream",
     "text": [
      "The best c is 1\n",
      "The best score is 0.07614075552888389\n"
     ]
    }
   ],
   "source": [
    "print('The best c is', best_c)\n",
    "print('The best score is', best_score)"
   ]
  },
  {
   "attachments": {},
   "cell_type": "markdown",
   "metadata": {},
   "source": [
    "## Test Error for MDWSVM"
   ]
  },
  {
   "attachments": {},
   "cell_type": "markdown",
   "metadata": {},
   "source": [
    "1. Use the best C to train the model again using training data\n",
    "2. Evaluate the model on the test data."
   ]
  },
  {
   "cell_type": "code",
   "execution_count": 5,
   "metadata": {},
   "outputs": [
    {
     "ename": "NameError",
     "evalue": "name 'w1' is not defined",
     "output_type": "error",
     "traceback": [
      "\u001b[1;31m---------------------------------------------------------------------------\u001b[0m",
      "\u001b[1;31mNameError\u001b[0m                                 Traceback (most recent call last)",
      "\u001b[1;32md:\\研究生\\研一\\下学期\\EECS553\\project\\mdwsvm-ad\\cv_anomaly.ipynb Cell 18\u001b[0m in \u001b[0;36m<cell line: 2>\u001b[1;34m()\u001b[0m\n\u001b[0;32m      <a href='vscode-notebook-cell:/d%3A/%E7%A0%94%E7%A9%B6%E7%94%9F/%E7%A0%94%E4%B8%80/%E4%B8%8B%E5%AD%A6%E6%9C%9F/EECS553/project/mdwsvm-ad/cv_anomaly.ipynb#X23sZmlsZQ%3D%3D?line=0'>1</a>\u001b[0m best_c \u001b[39m=\u001b[39m \u001b[39m1\u001b[39m\n\u001b[1;32m----> <a href='vscode-notebook-cell:/d%3A/%E7%A0%94%E7%A9%B6%E7%94%9F/%E7%A0%94%E4%B8%80/%E4%B8%8B%E5%AD%A6%E6%9C%9F/EECS553/project/mdwsvm-ad/cv_anomaly.ipynb#X23sZmlsZQ%3D%3D?line=1'>2</a>\u001b[0m model1 \u001b[39m=\u001b[39m mdwsvm(X_train, y_train, w1, best_c)\n\u001b[0;32m      <a href='vscode-notebook-cell:/d%3A/%E7%A0%94%E7%A9%B6%E7%94%9F/%E7%A0%94%E4%B8%80/%E4%B8%8B%E5%AD%A6%E6%9C%9F/EECS553/project/mdwsvm-ad/cv_anomaly.ipynb#X23sZmlsZQ%3D%3D?line=2'>3</a>\u001b[0m y_pred_1 \u001b[39m=\u001b[39m model1\u001b[39m.\u001b[39mpredict(X_test)\n",
      "\u001b[1;31mNameError\u001b[0m: name 'w1' is not defined"
     ]
    }
   ],
   "source": [
    "best_c = 1\n",
    "model1 = mdwsvm(X_train, y_train, w1, best_c)\n",
    "y_pred_1 = model1.predict(X_test)"
   ]
  },
  {
   "cell_type": "code",
   "execution_count": null,
   "metadata": {},
   "outputs": [
    {
     "name": "stdout",
     "output_type": "stream",
     "text": [
      "The error is 0.636\n"
     ]
    }
   ],
   "source": [
    "print('The error is', within_class_error(y_test, y_pred_1))"
   ]
  },
  {
   "attachments": {},
   "cell_type": "markdown",
   "metadata": {},
   "source": [
    "# Hybrid"
   ]
  },
  {
   "attachments": {},
   "cell_type": "markdown",
   "metadata": {},
   "source": [
    "## Grid Search for Hybrid Method"
   ]
  },
  {
   "attachments": {},
   "cell_type": "markdown",
   "metadata": {},
   "source": [
    "Find hyperparameters for hybrid: v and sigma2. \n",
    "1. Use C find in MDWSVM. \n",
    "2. For each pair of v and sigma2, train the model use training data and evaluate it on the validation data. Return the validation error. \n",
    "3. Choose the best pair of hyperparameters that has lowest validation error.\n",
    "4. Record the running time of the whole training process for each pair of v and sigma2. (Use later to compare the speed of this method and our method)"
   ]
  },
  {
   "attachments": {},
   "cell_type": "markdown",
   "metadata": {},
   "source": [
    "Range:\n",
    "1. v in [0.1, 0.9] step = 0.1\n",
    "2. sigma2 in [1,5,10,15,20,25,30,40,50]"
   ]
  },
  {
   "cell_type": "code",
   "execution_count": 4,
   "metadata": {},
   "outputs": [
    {
     "name": "stdout",
     "output_type": "stream",
     "text": [
      "-----Start: v=0.10 sigma2=0.00-----\n",
      "0.40549999999999997\n",
      "-----Start: v=0.10 sigma2=0.01-----\n",
      "0.644157894736842\n",
      "-----Start: v=0.10 sigma2=0.05-----\n",
      "0.7029473684210527\n",
      "-----Start: v=0.10 sigma2=0.10-----\n",
      "0.34055263157894733\n",
      "-----Start: v=0.10 sigma2=0.30-----\n",
      "0.630578947368421\n",
      "-----Start: v=0.10 sigma2=0.60-----\n",
      "0.6400526315789474\n",
      "-----Start: v=0.10 sigma2=1.00-----\n",
      "0.664\n",
      "-----Start: v=0.10 sigma2=1.50-----\n",
      "0.6759999999999999\n",
      "-----Start: v=0.30 sigma2=0.00-----\n",
      "0.5382631578947368\n",
      "-----Start: v=0.30 sigma2=0.01-----\n",
      "0.7340263157894736\n",
      "-----Start: v=0.30 sigma2=0.05-----\n",
      "0.7211578947368421\n",
      "-----Start: v=0.30 sigma2=0.10-----\n",
      "0.5819736842105263\n",
      "-----Start: v=0.30 sigma2=0.30-----\n",
      "0.632578947368421\n",
      "-----Start: v=0.30 sigma2=0.60-----\n",
      "0.6400526315789474\n",
      "-----Start: v=0.30 sigma2=1.00-----\n",
      "0.664\n",
      "-----Start: v=0.30 sigma2=1.50-----\n",
      "0.6759999999999999\n",
      "-----Start: v=0.50 sigma2=0.00-----\n",
      "0.6271315789473684\n",
      "-----Start: v=0.50 sigma2=0.01-----\n",
      "0.6486315789473684\n",
      "-----Start: v=0.50 sigma2=0.05-----\n",
      "0.6112105263157894\n",
      "-----Start: v=0.50 sigma2=0.10-----\n",
      "0.4851052631578947\n",
      "-----Start: v=0.50 sigma2=0.30-----\n",
      "0.632578947368421\n",
      "-----Start: v=0.50 sigma2=0.60-----\n",
      "0.6400526315789474\n",
      "-----Start: v=0.50 sigma2=1.00-----\n",
      "0.664\n",
      "-----Start: v=0.50 sigma2=1.50-----\n",
      "0.6759999999999999\n",
      "-----Start: v=0.70 sigma2=0.00-----\n",
      "0.6816578947368421\n",
      "-----Start: v=0.70 sigma2=0.01-----\n",
      "0.6993947368421052\n",
      "-----Start: v=0.70 sigma2=0.05-----\n",
      "0.5976842105263158\n",
      "-----Start: v=0.70 sigma2=0.10-----\n",
      "0.6683947368421053\n",
      "-----Start: v=0.70 sigma2=0.30-----\n",
      "0.632578947368421\n",
      "-----Start: v=0.70 sigma2=0.60-----\n",
      "0.6400526315789474\n",
      "-----Start: v=0.70 sigma2=1.00-----\n",
      "0.664\n",
      "-----Start: v=0.70 sigma2=1.50-----\n",
      "0.6759999999999999\n",
      "-----Start: v=0.90 sigma2=0.00-----\n",
      "0.4621052631578947\n",
      "-----Start: v=0.90 sigma2=0.01-----\n",
      "0.7105526315789474\n",
      "-----Start: v=0.90 sigma2=0.05-----\n",
      "0.732\n",
      "-----Start: v=0.90 sigma2=0.10-----\n",
      "0.6825263157894736\n",
      "-----Start: v=0.90 sigma2=0.30-----\n",
      "0.632578947368421\n",
      "-----Start: v=0.90 sigma2=0.60-----\n",
      "0.6400526315789474\n",
      "-----Start: v=0.90 sigma2=1.00-----\n",
      "0.664\n",
      "-----Start: v=0.90 sigma2=1.50-----\n",
      "0.6759999999999999\n"
     ]
    }
   ],
   "source": [
    "v_values = [0.1, 0.3, 0.5, 0.7, 0.9]\n",
    "sigma2_values = [0.001, 0.01, 0.05, 0.1, 0.3, 0.6, 1, 1.5]\n",
    "w1 = vertices(4)\n",
    "\n",
    "best_c = 1\n",
    "best_v = 0\n",
    "best_sigma2 = 0\n",
    "best_score = -1\n",
    "time_record_1 = []\n",
    "for v in v_values:\n",
    "    for s in sigma2_values:\n",
    "        print('-'*5+'Start: v=%.2f'%v+' sigma2=%.3f'%s+'-'*5)\n",
    "        k = partial(Gaussian_kernel, sigma2=s)\n",
    "        st = time.time()\n",
    "        y_pred = hybrid(X_train, y_train, X_val, v, w1, best_c, k)\n",
    "        et = time.time()\n",
    "        time_record_1.append(et - st)\n",
    "        score = 1 - within_class_error(y_val_true_hybrid, y_pred)\n",
    "        print(score)\n",
    "        if score > best_score:\n",
    "            best_v = v\n",
    "            best_sigma2 = s\n",
    "            best_score = score\n"
   ]
  },
  {
   "cell_type": "code",
   "execution_count": 5,
   "metadata": {},
   "outputs": [
    {
     "name": "stdout",
     "output_type": "stream",
     "text": [
      "The best v is 0.3\n",
      "The best sigma2 is 0.01\n",
      "The best score is 0.7340263157894736\n"
     ]
    }
   ],
   "source": [
    "print('The best v is', best_v)\n",
    "print('The best sigma2 is', best_sigma2)\n",
    "print('The best score is', best_score)"
   ]
  },
  {
   "attachments": {},
   "cell_type": "markdown",
   "metadata": {},
   "source": [
    "## Test error for Hybrid Model"
   ]
  },
  {
   "attachments": {},
   "cell_type": "markdown",
   "metadata": {},
   "source": [
    "1. Use the best v, sigma2 and C to train the model using training data\n",
    "2. Evaluate the model on the test data"
   ]
  },
  {
   "cell_type": "code",
   "execution_count": 7,
   "metadata": {},
   "outputs": [],
   "source": [
    "best_sigma2 = 0.1\n",
    "best_v = 0.3\n",
    "best_c = 1\n",
    "w1 = vertices(4)\n",
    "best_k = partial(Gaussian_kernel, sigma2=best_sigma2)\n",
    "y_pred_2 = hybrid(X_train, y_train, X_test, best_v, w1, best_c, best_k)"
   ]
  },
  {
   "cell_type": "code",
   "execution_count": 8,
   "metadata": {},
   "outputs": [
    {
     "name": "stdout",
     "output_type": "stream",
     "text": [
      "The error is 0.5054999999999998\n"
     ]
    }
   ],
   "source": [
    "print('The error is', within_class_error(y_test_true_hybrid, y_pred_2))"
   ]
  },
  {
   "attachments": {},
   "cell_type": "markdown",
   "metadata": {},
   "source": [
    "# MDWSVM_AD"
   ]
  },
  {
   "attachments": {},
   "cell_type": "markdown",
   "metadata": {},
   "source": [
    "## Grid Search for MDWSVM_AD Method"
   ]
  },
  {
   "attachments": {},
   "cell_type": "markdown",
   "metadata": {},
   "source": [
    "Find best hyperparameters\n",
    "1. For each pair of v, sigma2 and C, train the model use training data and evaluate it on the validation data. Return the validation error. \n",
    "2. Choose the best pair of hyperparameters that has lowest validation error.\n",
    "3. Record the running time of the whole training process for each pair of v, sigma2 and C. (This method should be faster than hybrid and should have a little bit higher accuracy when using the best hyperparameters`)"
   ]
  },
  {
   "attachments": {},
   "cell_type": "markdown",
   "metadata": {},
   "source": [
    "Range:\n",
    "1. v in [0.6~0.95] step=0.05\n",
    "2. sigma in [1, 5] + [10~20] with step=0.5\n",
    "3. C in [1,5,8,9,10,11]"
   ]
  },
  {
   "cell_type": "code",
   "execution_count": 5,
   "metadata": {},
   "outputs": [
    {
     "name": "stdout",
     "output_type": "stream",
     "text": [
      "-----Start: v=0.100 sigma2=10.000 c=1.000-----\n",
      "0.7824473684210527\n",
      "-----Start: v=0.100 sigma2=10.000 c=5.000-----\n",
      "0.8016578947368421\n",
      "-----Start: v=0.100 sigma2=10.000 c=8.000-----\n",
      "0.7824473684210527\n",
      "-----Start: v=0.100 sigma2=10.000 c=9.000-----\n",
      "0.8017105263157895\n",
      "-----Start: v=0.100 sigma2=10.000 c=10.000-----\n",
      "0.7824736842105263\n",
      "-----Start: v=0.100 sigma2=10.000 c=11.000-----\n",
      "0.7824736842105263\n",
      "-----Start: v=0.100 sigma2=12.000 c=1.000-----\n",
      "0.8743947368421052\n",
      "-----Start: v=0.100 sigma2=12.000 c=5.000-----\n",
      "0.8437368421052631\n",
      "-----Start: v=0.100 sigma2=12.000 c=8.000-----\n",
      "0.8398684210526316\n",
      "-----Start: v=0.100 sigma2=12.000 c=9.000-----\n",
      "0.8698947368421053\n",
      "-----Start: v=0.100 sigma2=12.000 c=10.000-----\n",
      "0.8458157894736842\n",
      "-----Start: v=0.100 sigma2=12.000 c=11.000-----\n",
      "0.8698947368421053\n",
      "-----Start: v=0.100 sigma2=14.000 c=1.000-----\n",
      "0.8301315789473684\n",
      "-----Start: v=0.100 sigma2=14.000 c=5.000-----\n",
      "0.8282631578947368\n",
      "-----Start: v=0.100 sigma2=14.000 c=8.000-----\n",
      "0.8263421052631579\n",
      "-----Start: v=0.100 sigma2=14.000 c=9.000-----\n",
      "0.8263684210526316\n",
      "-----Start: v=0.100 sigma2=14.000 c=10.000-----\n",
      "0.8244210526315789\n",
      "-----Start: v=0.100 sigma2=14.000 c=11.000-----\n",
      "0.8541842105263158\n",
      "-----Start: v=0.100 sigma2=16.000 c=1.000-----\n",
      "0.8104473684210527\n",
      "-----Start: v=0.100 sigma2=16.000 c=5.000-----\n",
      "0.7847368421052632\n",
      "-----Start: v=0.100 sigma2=16.000 c=8.000-----\n",
      "0.7868157894736842\n",
      "-----Start: v=0.100 sigma2=16.000 c=9.000-----\n",
      "0.7828684210526315\n",
      "-----Start: v=0.100 sigma2=16.000 c=10.000-----\n",
      "0.806921052631579\n",
      "-----Start: v=0.100 sigma2=16.000 c=11.000-----\n",
      "0.8089473684210526\n",
      "-----Start: v=0.100 sigma2=18.000 c=1.000-----\n",
      "0.7807105263157894\n",
      "-----Start: v=0.100 sigma2=18.000 c=5.000-----\n",
      "0.7567894736842106\n",
      "-----Start: v=0.100 sigma2=18.000 c=8.000-----\n",
      "0.7568684210526315\n",
      "-----Start: v=0.100 sigma2=18.000 c=9.000-----\n",
      "0.7508684210526316\n",
      "-----Start: v=0.100 sigma2=18.000 c=10.000-----\n",
      "0.7508684210526316\n",
      "-----Start: v=0.100 sigma2=18.000 c=11.000-----\n",
      "0.7748684210526315\n",
      "-----Start: v=0.100 sigma2=55.000 c=1.000-----\n",
      "0.722\n",
      "-----Start: v=0.100 sigma2=55.000 c=5.000-----\n",
      "0.698\n",
      "-----Start: v=0.100 sigma2=55.000 c=8.000-----\n",
      "0.742\n",
      "-----Start: v=0.100 sigma2=55.000 c=9.000-----\n",
      "0.748\n",
      "-----Start: v=0.100 sigma2=55.000 c=10.000-----\n",
      "0.708\n",
      "-----Start: v=0.100 sigma2=55.000 c=11.000-----\n",
      "0.748\n",
      "-----Start: v=0.300 sigma2=10.000 c=1.000-----\n",
      "0.7956052631578947\n",
      "-----Start: v=0.300 sigma2=10.000 c=5.000-----\n",
      "0.7803947368421053\n",
      "-----Start: v=0.300 sigma2=10.000 c=8.000-----\n",
      "0.7803947368421053\n",
      "-----Start: v=0.300 sigma2=10.000 c=9.000-----\n",
      "0.7803947368421053\n",
      "-----Start: v=0.300 sigma2=10.000 c=10.000-----\n",
      "0.7803947368421053\n",
      "-----Start: v=0.300 sigma2=10.000 c=11.000-----\n",
      "0.7974736842105263\n",
      "-----Start: v=0.300 sigma2=12.000 c=1.000-----\n",
      "0.8683421052631579\n",
      "-----Start: v=0.300 sigma2=12.000 c=5.000-----\n",
      "0.8373157894736842\n",
      "-----Start: v=0.300 sigma2=12.000 c=8.000-----\n",
      "0.8373947368421053\n",
      "-----Start: v=0.300 sigma2=12.000 c=9.000-----\n",
      "0.8674473684210526\n",
      "-----Start: v=0.300 sigma2=12.000 c=10.000-----\n",
      "0.8674736842105263\n",
      "-----Start: v=0.300 sigma2=12.000 c=11.000-----\n",
      "0.8674736842105263\n",
      "-----Start: v=0.300 sigma2=14.000 c=1.000-----\n",
      "0.8214736842105264\n",
      "-----Start: v=0.300 sigma2=14.000 c=5.000-----\n",
      "0.8215526315789474\n",
      "-----Start: v=0.300 sigma2=14.000 c=8.000-----\n",
      "0.8454473684210526\n",
      "-----Start: v=0.300 sigma2=14.000 c=9.000-----\n",
      "0.8502894736842106\n",
      "-----Start: v=0.300 sigma2=14.000 c=10.000-----\n",
      "0.8197105263157894\n",
      "-----Start: v=0.300 sigma2=14.000 c=11.000-----\n",
      "0.8197631578947369\n",
      "-----Start: v=0.300 sigma2=16.000 c=1.000-----\n",
      "0.7844473684210527\n",
      "-----Start: v=0.300 sigma2=16.000 c=5.000-----\n",
      "0.7846052631578948\n",
      "-----Start: v=0.300 sigma2=16.000 c=8.000-----\n",
      "0.7846578947368421\n",
      "-----Start: v=0.300 sigma2=16.000 c=9.000-----\n",
      "0.7847105263157894\n",
      "-----Start: v=0.300 sigma2=16.000 c=10.000-----\n",
      "0.7827631578947368\n",
      "-----Start: v=0.300 sigma2=16.000 c=11.000-----\n",
      "0.7828157894736842\n",
      "-----Start: v=0.300 sigma2=18.000 c=1.000-----\n",
      "0.7573684210526316\n",
      "-----Start: v=0.300 sigma2=18.000 c=5.000-----\n",
      "0.7574473684210526\n",
      "-----Start: v=0.300 sigma2=18.000 c=8.000-----\n",
      "0.7155\n",
      "-----Start: v=0.300 sigma2=18.000 c=9.000-----\n",
      "0.7555263157894737\n",
      "-----Start: v=0.300 sigma2=18.000 c=10.000-----\n",
      "0.7575263157894737\n",
      "-----Start: v=0.300 sigma2=18.000 c=11.000-----\n",
      "0.779421052631579\n",
      "-----Start: v=0.300 sigma2=55.000 c=1.000-----\n",
      "0.75\n",
      "-----Start: v=0.300 sigma2=55.000 c=5.000-----\n",
      "0.706\n",
      "-----Start: v=0.300 sigma2=55.000 c=8.000-----\n",
      "0.702\n",
      "-----Start: v=0.300 sigma2=55.000 c=9.000-----\n",
      "0.682\n",
      "-----Start: v=0.300 sigma2=55.000 c=10.000-----\n",
      "0.6779999999999999\n",
      "-----Start: v=0.300 sigma2=55.000 c=11.000-----\n",
      "0.728\n",
      "-----Start: v=0.500 sigma2=10.000 c=1.000-----\n",
      "0.8015263157894736\n",
      "-----Start: v=0.500 sigma2=10.000 c=5.000-----\n",
      "0.7842105263157895\n",
      "-----Start: v=0.500 sigma2=10.000 c=8.000-----\n",
      "0.7516052631578948\n",
      "-----Start: v=0.500 sigma2=10.000 c=9.000-----\n",
      "0.7822368421052631\n",
      "-----Start: v=0.500 sigma2=10.000 c=10.000-----\n",
      "0.7516315789473684\n",
      "-----Start: v=0.500 sigma2=10.000 c=11.000-----\n",
      "0.7763684210526316\n",
      "-----Start: v=0.500 sigma2=12.000 c=1.000-----\n",
      "0.8715263157894737\n",
      "-----Start: v=0.500 sigma2=12.000 c=5.000-----\n",
      "0.8075\n",
      "-----Start: v=0.500 sigma2=12.000 c=8.000-----\n",
      "0.8675526315789474\n",
      "-----Start: v=0.500 sigma2=12.000 c=9.000-----\n",
      "0.8695526315789474\n",
      "-----Start: v=0.500 sigma2=12.000 c=10.000-----\n",
      "0.867578947368421\n",
      "-----Start: v=0.500 sigma2=12.000 c=11.000-----\n",
      "0.8721052631578947\n",
      "-----Start: v=0.500 sigma2=14.000 c=1.000-----\n",
      "0.8487631578947368\n",
      "-----Start: v=0.500 sigma2=14.000 c=5.000-----\n",
      "0.8258947368421052\n",
      "-----Start: v=0.500 sigma2=14.000 c=8.000-----\n",
      "0.8260263157894737\n",
      "-----Start: v=0.500 sigma2=14.000 c=9.000-----\n",
      "0.8260263157894737\n",
      "-----Start: v=0.500 sigma2=14.000 c=10.000-----\n",
      "0.8261052631578947\n",
      "-----Start: v=0.500 sigma2=14.000 c=11.000-----\n",
      "0.8478157894736842\n",
      "-----Start: v=0.500 sigma2=16.000 c=1.000-----\n",
      "0.8070526315789474\n",
      "-----Start: v=0.500 sigma2=16.000 c=5.000-----\n",
      "0.728578947368421\n",
      "-----Start: v=0.500 sigma2=16.000 c=8.000-----\n",
      "0.7964210526315789\n",
      "-----Start: v=0.500 sigma2=16.000 c=9.000-----\n",
      "0.7887368421052632\n",
      "-----Start: v=0.500 sigma2=16.000 c=10.000-----\n",
      "0.7965\n",
      "-----Start: v=0.500 sigma2=16.000 c=11.000-----\n",
      "0.7965263157894736\n",
      "-----Start: v=0.500 sigma2=18.000 c=1.000-----\n",
      "0.7829736842105264\n",
      "-----Start: v=0.500 sigma2=18.000 c=5.000-----\n",
      "0.7568947368421053\n",
      "-----Start: v=0.500 sigma2=18.000 c=8.000-----\n",
      "0.717078947368421\n",
      "-----Start: v=0.500 sigma2=18.000 c=9.000-----\n",
      "0.7592105263157894\n",
      "-----Start: v=0.500 sigma2=18.000 c=10.000-----\n",
      "0.7431842105263158\n",
      "-----Start: v=0.500 sigma2=18.000 c=11.000-----\n",
      "0.7672894736842105\n",
      "-----Start: v=0.500 sigma2=55.000 c=1.000-----\n",
      "0.75\n",
      "-----Start: v=0.500 sigma2=55.000 c=5.000-----\n",
      "0.73\n",
      "-----Start: v=0.500 sigma2=55.000 c=8.000-----\n",
      "0.712\n",
      "-----Start: v=0.500 sigma2=55.000 c=9.000-----\n",
      "0.722\n",
      "-----Start: v=0.500 sigma2=55.000 c=10.000-----\n",
      "0.728\n",
      "-----Start: v=0.500 sigma2=55.000 c=11.000-----\n",
      "0.73\n",
      "-----Start: v=0.700 sigma2=10.000 c=1.000-----\n",
      "0.7961842105263158\n",
      "-----Start: v=0.700 sigma2=10.000 c=5.000-----\n",
      "0.7326578947368421\n",
      "-----Start: v=0.700 sigma2=10.000 c=8.000-----\n",
      "0.7992368421052631\n",
      "-----Start: v=0.700 sigma2=10.000 c=9.000-----\n",
      "0.7992368421052631\n",
      "-----Start: v=0.700 sigma2=10.000 c=10.000-----\n",
      "0.7726578947368421\n",
      "-----Start: v=0.700 sigma2=10.000 c=11.000-----\n",
      "0.7972631578947369\n",
      "-----Start: v=0.700 sigma2=12.000 c=1.000-----\n",
      "0.8668947368421053\n",
      "-----Start: v=0.700 sigma2=12.000 c=5.000-----\n",
      "0.8010526315789473\n",
      "-----Start: v=0.700 sigma2=12.000 c=8.000-----\n",
      "0.8671578947368421\n",
      "-----Start: v=0.700 sigma2=12.000 c=9.000-----\n",
      "0.8184736842105264\n",
      "-----Start: v=0.700 sigma2=12.000 c=10.000-----\n",
      "0.8671842105263158\n",
      "-----Start: v=0.700 sigma2=12.000 c=11.000-----\n",
      "0.8111052631578948\n",
      "-----Start: v=0.700 sigma2=14.000 c=1.000-----\n",
      "0.8532105263157894\n",
      "-----Start: v=0.700 sigma2=14.000 c=5.000-----\n",
      "0.8141842105263157\n",
      "-----Start: v=0.700 sigma2=14.000 c=8.000-----\n",
      "0.7964210526315789\n",
      "-----Start: v=0.700 sigma2=14.000 c=9.000-----\n",
      "0.8144473684210527\n",
      "-----Start: v=0.700 sigma2=14.000 c=10.000-----\n",
      "0.8144736842105262\n",
      "-----Start: v=0.700 sigma2=14.000 c=11.000-----\n",
      "0.8145\n",
      "-----Start: v=0.700 sigma2=16.000 c=1.000-----\n",
      "0.8111315789473684\n",
      "-----Start: v=0.700 sigma2=16.000 c=5.000-----\n",
      "0.742842105263158\n",
      "-----Start: v=0.700 sigma2=16.000 c=8.000-----\n",
      "0.7731315789473684\n",
      "-----Start: v=0.700 sigma2=16.000 c=9.000-----\n",
      "0.7689736842105264\n",
      "-----Start: v=0.700 sigma2=16.000 c=10.000-----\n",
      "0.8013684210526315\n",
      "-----Start: v=0.700 sigma2=16.000 c=11.000-----\n",
      "0.769\n",
      "-----Start: v=0.700 sigma2=18.000 c=1.000-----\n",
      "0.7818157894736842\n",
      "-----Start: v=0.700 sigma2=18.000 c=5.000-----\n",
      "0.7771842105263158\n",
      "-----Start: v=0.700 sigma2=18.000 c=8.000-----\n",
      "0.7575000000000001\n",
      "-----Start: v=0.700 sigma2=18.000 c=9.000-----\n",
      "0.7195263157894737\n",
      "-----Start: v=0.700 sigma2=18.000 c=10.000-----\n",
      "0.7435526315789474\n",
      "-----Start: v=0.700 sigma2=18.000 c=11.000-----\n",
      "0.7852105263157895\n",
      "-----Start: v=0.700 sigma2=55.000 c=1.000-----\n",
      "0.734\n",
      "-----Start: v=0.700 sigma2=55.000 c=5.000-----\n"
     ]
    }
   ],
   "source": [
    "v_values = [0.1, 0.3, 0.5, 0.7, 0.9]\n",
    "sigma2_values = [10, 12, 14, 16, 18, 55]\n",
    "C_values = [1,5,8,9,10,11]\n",
    "w2 = vertices(5)\n",
    "\n",
    "best_v_2 = 0\n",
    "best_sigma2_2 = 0\n",
    "best_c_2 = 0\n",
    "best_score_2 = -1\n",
    "time_record_2 = []\n",
    "for v in v_values:\n",
    "    for s in sigma2_values:\n",
    "        for c in C_values:\n",
    "            print('-'*5+'Start: v=%.3f'%v+' sigma2=%.3f'%s+' c=%.3f'%c+'-'*5)\n",
    "            k = partial(Gaussian_kernel, sigma2=s)\n",
    "            st = time.time()\n",
    "            method = mdwsvm_ad(X_train, y_train, w2, c, v, k)\n",
    "            y_pred = method.predict(X_val)\n",
    "            et = time.time()\n",
    "            time_record_2.append(et - st)\n",
    "            score = 1 - within_class_error(y_val_true_mdwsvm_ad, y_pred)\n",
    "            print(score)\n",
    "            if score > best_score_2:\n",
    "                best_v_2 = v\n",
    "                best_sigma2_2 = s\n",
    "                best_c_2 = c\n",
    "                best_score_2 = score\n"
   ]
  },
  {
   "cell_type": "code",
   "execution_count": null,
   "metadata": {},
   "outputs": [],
   "source": [
    "print('The best v is', best_v_2)\n",
    "print('The best sigma2 is', best_sigma2_2)\n",
    "print('The best C is', best_c_2)\n",
    "print('The best score is', best_score_2)"
   ]
  },
  {
   "attachments": {},
   "cell_type": "markdown",
   "metadata": {},
   "source": [
    "## Test Error for MDWSVM_AD Method"
   ]
  },
  {
   "attachments": {},
   "cell_type": "markdown",
   "metadata": {},
   "source": [
    "Use the best v, sigma2, and C to train the model on the training data and evaluate it on the test data."
   ]
  },
  {
   "cell_type": "code",
   "execution_count": 8,
   "metadata": {},
   "outputs": [],
   "source": [
    "# v=0.100 sigma2=12.000 c=1.000 score:0.8743947368421052\n",
    "best_v_2 = 0.1\n",
    "best_sigma2_2 = 12\n",
    "best_c_2 = 1\n",
    "w2 = vertices(5)\n",
    "best_k_2 = partial(Gaussian_kernel, sigma2=best_sigma2_2)\n",
    "model3 = mdwsvm_ad(X_train, y_train, w2, best_c_2, best_v_2, best_k_2)\n",
    "y_pred_3 = model3.predict(X_test)"
   ]
  },
  {
   "cell_type": "code",
   "execution_count": 9,
   "metadata": {},
   "outputs": [
    {
     "name": "stdout",
     "output_type": "stream",
     "text": [
      "The error is 0.13728947368421052\n"
     ]
    }
   ],
   "source": [
    "print('The error is', within_class_error(y_test_true_mdwsvm_ad, y_pred_3))"
   ]
  },
  {
   "attachments": {},
   "cell_type": "markdown",
   "metadata": {},
   "source": [
    "# For each method, the evaluation on the test data should return two tables."
   ]
  },
  {
   "attachments": {},
   "cell_type": "markdown",
   "metadata": {},
   "source": [
    "1. one is about for each digit and letter, the percentage that it is assigned to each class label (5-8 and letter class) (like the table in CS++paper)\n",
    "2. one is a table for all methods: two rows: one row is what percentage of all the digits are correctly classified, one row is what percentage of all the letters are correctly classified."
   ]
  },
  {
   "attachments": {},
   "cell_type": "markdown",
   "metadata": {},
   "source": [
    "# Return a single plot comparing the distribution of running time of hybrid and MDWSVM_AD (can use box plot)"
   ]
  },
  {
   "attachments": {},
   "cell_type": "markdown",
   "metadata": {},
   "source": [
    "# Don't specifically talk about how we choose hyperparameters in our report, because we don't know anomaly data in practice and don't have the validation set"
   ]
  },
  {
   "cell_type": "markdown",
   "metadata": {},
   "source": []
  }
 ],
 "metadata": {
  "kernelspec": {
   "display_name": "Python 3",
   "language": "python",
   "name": "python3"
  },
  "language_info": {
   "codemirror_mode": {
    "name": "ipython",
    "version": 3
   },
   "file_extension": ".py",
   "mimetype": "text/x-python",
   "name": "python",
   "nbconvert_exporter": "python",
   "pygments_lexer": "ipython3",
   "version": "3.8.10"
  },
  "orig_nbformat": 4
 },
 "nbformat": 4,
 "nbformat_minor": 2
}
