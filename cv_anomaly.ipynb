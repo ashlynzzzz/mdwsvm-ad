{
 "cells": [
  {
   "cell_type": "code",
   "execution_count": null,
   "metadata": {},
   "outputs": [],
   "source": [
    "import numpy as np\n",
    "import matplotlib.pyplot as plt\n",
    "from emnist import extract_training_samples\n",
    "from sklearn.utils import shuffle\n",
    "from functools import partial\n",
    "import time\n",
    "\n",
    "from vertices_generator import vertices\n",
    "from kernel import Gaussian_kernel\n",
    "from mdwsvm import mdwsvm\n",
    "from mdwsvm_ad import mdwsvm_ad\n",
    "from one_class_svm import one_class_svm\n",
    "from hybrid import hybrid\n",
    "from metric import within_class_error"
   ]
  },
  {
   "attachments": {},
   "cell_type": "markdown",
   "metadata": {},
   "source": [
    "# Loading Training, Validation, and Test Data"
   ]
  },
  {
   "cell_type": "code",
   "execution_count": null,
   "metadata": {},
   "outputs": [],
   "source": [
    "# Load data\n",
    "digits_images, digits_labels = extract_training_samples('digits')\n",
    "letters_images, letters_labels = extract_training_samples('byclass')\n",
    "\n",
    "# Get number \n",
    "mask_1 = (digits_labels == 1)\n",
    "digits_images_1 = digits_images[mask_1]\n",
    "digits_labels_1 = digits_labels[mask_1]\n",
    "\n",
    "mask_3 = (digits_labels == 3)\n",
    "digits_images_3 = digits_images[mask_3]\n",
    "digits_labels_3 = digits_labels[mask_3]\n",
    "\n",
    "mask_5 = (digits_labels == 5)\n",
    "digits_images_5 = digits_images[mask_5]\n",
    "digits_labels_5 = digits_labels[mask_5]\n",
    "\n",
    "mask_7 = (digits_labels == 7)\n",
    "digits_images_7 = digits_images[mask_7]\n",
    "digits_labels_7 = digits_labels[mask_7]\n",
    "\n",
    "\n",
    "# Get letter u, v, w, x, y, z\n",
    "mask_uvwxyz = (letters_labels == 56) | (letters_labels == 57) | (letters_labels == 58) | (letters_labels == 59) | (letters_labels == 60) | (letters_labels == 61)\n",
    "letters_images = letters_images[mask_uvwxyz]\n",
    "letters_labels = letters_labels[mask_uvwxyz]\n",
    "print(len(letters_labels))"
   ]
  },
  {
   "cell_type": "code",
   "execution_count": null,
   "metadata": {},
   "outputs": [],
   "source": [
    "# Get training and testing data\n",
    "X_train = np.zeros((800,28,28))\n",
    "y_train = np.zeros((800), dtype=int)\n",
    "X_val = np.zeros((8000,28,28))\n",
    "y_val = np.zeros((8000), dtype=int)\n",
    "X_test = np.zeros((8000,28,28))\n",
    "y_test = np.zeros((8000), dtype=int)\n",
    "\n",
    "# 800 digits normalized training data \n",
    "X_train[0:150,:,:] = digits_images_1[0:150,:,:] / 255\n",
    "X_train[150:300,:,:] = digits_images_3[0:150,:,:] / 255\n",
    "X_train[300:550,:,:] = digits_images_5[0:250,:,:] / 255\n",
    "X_train[550:800,:,:] = digits_images_7[0:250,:,:] / 255\n",
    "X_train = X_train.reshape(800,784).T \n",
    "# 800 digits training label\n",
    "y_train[0:150] = digits_labels_1[0:150]-1\n",
    "y_train[150:300] = digits_labels_3[0:150]-2\n",
    "y_train[300:550] = digits_labels_5[0:250]-3\n",
    "y_train[550:800] = digits_labels_7[0:250]-4\n",
    "\n",
    "# Get 400 digits for validation X\n",
    "X_val[0:100,:,:] = digits_images_1[1000:1100,:,:] / 255\n",
    "X_val[100:200,:,:] = digits_images_3[1000:1100,:,:] / 255\n",
    "X_val[200:300,:,:] = digits_images_5[1000:1100,:,:] / 255\n",
    "X_val[300:400,:,:] = digits_images_7[1000:1100,:,:] / 255\n",
    "# 400 digits validation label\n",
    "y_val[0:100] = digits_labels_1[1000:1100]\n",
    "y_val[100:200] = digits_labels_3[1000:1100]\n",
    "y_val[200:300] = digits_labels_5[1000:1100]\n",
    "y_val[300:400] = digits_labels_7[1000:1100]\n",
    "# Get 7600 lowercase letters\n",
    "X_val[400:8000,:,:] = letters_images[0:7600,:,:] / 255\n",
    "y_val[400:8000] = letters_labels[0:7600]\n",
    "# 400 digits and 7600 letters normalized data\n",
    "X_val = X_val.reshape(8000,784).T\n",
    "\n",
    "# Get 400 digits for test X\n",
    "X_test[0:100,:,:] = digits_images_1[1100:1200,:,:] / 255\n",
    "X_test[100:200,:,:] = digits_images_3[1100:1200,:,:] / 255\n",
    "X_test[200:300,:,:] = digits_images_5[1100:1200,:,:] / 255\n",
    "X_test[300:400,:,:] = digits_images_7[1100:1200,:,:] / 255\n",
    "# 400 digits test label\n",
    "y_test[0:100] = digits_labels_1[1100:1200]\n",
    "y_test[100:200] = digits_labels_3[1100:1200]\n",
    "y_test[200:300] = digits_labels_5[1100:1200]\n",
    "y_test[300:400] = digits_labels_7[1100:1200]\n",
    "# Get 7600 lowercase letters\n",
    "X_test[400:8000,:,:] = letters_images[8000:15600,:,:] / 255\n",
    "y_test[400:8000] = letters_labels[8000:15600]\n",
    "# 400 digits and 7600 letters normalized data\n",
    "X_test = X_test.reshape(8000,784).T"
   ]
  },
  {
   "cell_type": "markdown",
   "metadata": {},
   "source": []
  },
  {
   "cell_type": "code",
   "execution_count": null,
   "metadata": {},
   "outputs": [],
   "source": [
    "np.unique(y_train, return_counts=True)"
   ]
  },
  {
   "cell_type": "code",
   "execution_count": null,
   "metadata": {},
   "outputs": [],
   "source": [
    "np.unique(y_val, return_counts=True)"
   ]
  },
  {
   "cell_type": "code",
   "execution_count": null,
   "metadata": {},
   "outputs": [],
   "source": [
    "np.unique(y_test, return_counts=True)"
   ]
  },
  {
   "cell_type": "code",
   "execution_count": null,
   "metadata": {},
   "outputs": [],
   "source": [
    "X_train.shape"
   ]
  },
  {
   "attachments": {},
   "cell_type": "markdown",
   "metadata": {},
   "source": [
    "Error metric: use metric.py"
   ]
  },
  {
   "attachments": {},
   "cell_type": "markdown",
   "metadata": {},
   "source": [
    "# MDWSVM"
   ]
  },
  {
   "attachments": {},
   "cell_type": "markdown",
   "metadata": {},
   "source": [
    "## Cross Validation for MDWSVM"
   ]
  },
  {
   "attachments": {},
   "cell_type": "markdown",
   "metadata": {},
   "source": [
    "Only use the training data to do k-fold cross validation, and choose the best hyperparameter C based on average cross validation error (sum of all cross validation errors for one C divided by k). Use alpha = 0.5."
   ]
  },
  {
   "cell_type": "code",
   "execution_count": null,
   "metadata": {},
   "outputs": [],
   "source": [
    "c_values = [2**i for i in range(-3,13)]\n",
    "w1 = vertices(4)\n",
    "size = X_train.shape[1]\n",
    "num_folds = 5\n",
    "\n",
    "X_train_new, y_train_new = shuffle(X_train.T, y_train, random_state=42)\n",
    "X_train_new = X_train_new.T\n",
    "folder_size = int(size / num_folds)\n",
    "# Loop over each value of c and perform cross-validation\n",
    "best_c = 0\n",
    "best_score = -1\n",
    "for c in c_values:\n",
    "    scores = np.zeros(num_folds)\n",
    "    # Perform cross-validation and calculate the average score\n",
    "    for i in range(num_folds):\n",
    "        # Get testing set    \n",
    "        testx = X_train_new[:, i*folder_size:(i+1)*folder_size]\n",
    "        testy = y_train_new[i*folder_size:(i+1)*folder_size]\n",
    "        # Get training set    \n",
    "        trainx = np.hstack((X_train_new[:, 0:(i)*folder_size], X_train_new[:, (i+1)*folder_size:size]))\n",
    "        trainy = np.hstack((y_train_new[0:(i)*folder_size], y_train_new[(i+1)*folder_size:size]))\n",
    "        method = mdwsvm(trainx, trainy, w1, c)\n",
    "        \n",
    "        pred_y = method.predict(testx)\n",
    "        score = 1 - within_class_error(testy, pred_y)\n",
    "        scores[i] = score\n",
    "    # Check if the current value of c is the best so far\n",
    "    avg_score = np.mean(scores)\n",
    "    if avg_score > best_score:\n",
    "        best_c = c\n",
    "        best_score = avg_score"
   ]
  },
  {
   "cell_type": "code",
   "execution_count": null,
   "metadata": {},
   "outputs": [],
   "source": [
    "print('The best c is', best_c)\n",
    "print('The best score is',1-best_score)"
   ]
  },
  {
   "attachments": {},
   "cell_type": "markdown",
   "metadata": {},
   "source": [
    "## Test Error for MDWSVM"
   ]
  },
  {
   "attachments": {},
   "cell_type": "markdown",
   "metadata": {},
   "source": [
    "1. Use the best C to train the model again using training data\n",
    "2. Evaluate the model on the test data."
   ]
  },
  {
   "cell_type": "code",
   "execution_count": null,
   "metadata": {},
   "outputs": [],
   "source": [
    "model1 = mdwsvm(X_train, y_train, w1, best_c)\n",
    "y_pred = model1.predict(X_test)"
   ]
  },
  {
   "cell_type": "code",
   "execution_count": null,
   "metadata": {},
   "outputs": [],
   "source": [
    "print('The error is', within_class_error(y_test, y_pred))"
   ]
  },
  {
   "attachments": {},
   "cell_type": "markdown",
   "metadata": {},
   "source": [
    "# Hybrid"
   ]
  },
  {
   "attachments": {},
   "cell_type": "markdown",
   "metadata": {},
   "source": [
    "## Grid Search for Hybrid Method"
   ]
  },
  {
   "attachments": {},
   "cell_type": "markdown",
   "metadata": {},
   "source": [
    "Find hyperparameters for hybrid: v and sigma2. \n",
    "1. Use C find in MDWSVM. \n",
    "2. For each pair of v and sigma2, train the model use training data and evaluate it on the validation data. Return the validation error. \n",
    "3. Choose the best pair of hyperparameters that has lowest validation error.\n",
    "4. Record the running time of the whole training process for each pair of v and sigma2. (Use later to compare the speed of this method and our method)"
   ]
  },
  {
   "attachments": {},
   "cell_type": "markdown",
   "metadata": {},
   "source": [
    "Range:\n",
    "1. v in [0.1, 0.9] step = 0.1\n",
    "2. sigma2 in [1,5,10,15,20,25,30,40,50]"
   ]
  },
  {
   "cell_type": "code",
   "execution_count": null,
   "metadata": {},
   "outputs": [],
   "source": [
    "v_values = np.linspace(0.1,0.9,9)\n",
    "sigma2_values = [1,5,10,15,20,25,30,40,50]\n",
    "\n",
    "best_v = 0\n",
    "best_sigma2 = 0\n",
    "best_score = -1\n",
    "time_record_1 = []\n",
    "for v in v_values:\n",
    "    for s in sigma2_values:\n",
    "        print('-'*5+'Start: v=%.2f'%v+' sigma2=%d'%s+'-'*5)\n",
    "        k = partial(Gaussian_kernel, sigma2=s)\n",
    "        st = time.time()\n",
    "        y_pred = hybrid(X_train, y_train, X_val, v, w1, best_c, k)\n",
    "        et = time.time()\n",
    "        time_record_1.append(et - st)\n",
    "        score = 1 - within_class_error(y_val, y_pred)\n",
    "        if score > best_score:\n",
    "            best_v = v\n",
    "            best_sigma2 = s\n",
    "            best_score = score\n"
   ]
  },
  {
   "cell_type": "code",
   "execution_count": null,
   "metadata": {},
   "outputs": [],
   "source": [
    "print('The best v is', best_v)\n",
    "print('The best sigma2 is', best_sigma2)\n",
    "print('The best score is', best_score)"
   ]
  },
  {
   "attachments": {},
   "cell_type": "markdown",
   "metadata": {},
   "source": [
    "## Test error for Hybrid Model"
   ]
  },
  {
   "attachments": {},
   "cell_type": "markdown",
   "metadata": {},
   "source": [
    "1. Use the best v, sigma2 and C to train the model using training data\n",
    "2. Evaluate the model on the test data"
   ]
  },
  {
   "cell_type": "code",
   "execution_count": null,
   "metadata": {},
   "outputs": [],
   "source": [
    "best_k = partial(Gaussian_kernel, sigma2=best_sigma2)\n",
    "model2 = hybrid(X_train, y_train, X_test, best_v, w1, best_c, best_k)"
   ]
  },
  {
   "cell_type": "code",
   "execution_count": null,
   "metadata": {},
   "outputs": [],
   "source": [
    "print('The error is', within_class_error(y_test, model2))"
   ]
  },
  {
   "attachments": {},
   "cell_type": "markdown",
   "metadata": {},
   "source": [
    "# MDWSVM_AD"
   ]
  },
  {
   "attachments": {},
   "cell_type": "markdown",
   "metadata": {},
   "source": [
    "## Grid Search for MDWSVM_AD Method"
   ]
  },
  {
   "attachments": {},
   "cell_type": "markdown",
   "metadata": {},
   "source": [
    "Find best hyperparameters\n",
    "1. For each pair of v, sigma2 and C, train the model use training data and evaluate it on the validation data. Return the validation error. \n",
    "2. Choose the best pair of hyperparameters that has lowest validation error.\n",
    "3. Record the running time of the whole training process for each pair of v, sigma2 and C. (This method should be faster than hybrid and should have a little bit higher accuracy when using the best hyperparameters`)"
   ]
  },
  {
   "attachments": {},
   "cell_type": "markdown",
   "metadata": {},
   "source": [
    "Range:\n",
    "1. v in [0.6~0.95] step=0.05\n",
    "2. sigma in [1, 5] + [10~20] with step=0.5\n",
    "3. C in [1,5,8,9,10,11]"
   ]
  },
  {
   "cell_type": "code",
   "execution_count": null,
   "metadata": {},
   "outputs": [],
   "source": [
    "v_values = np.arange(0.5,1,0.5)\n",
    "sigma2_values = [1,5]+np.arange(10,20,1).tolist()\n",
    "C_values = [1,5,8,9,10,11]\n",
    "w2 = vertices(5)\n",
    "\n",
    "best_v_2 = 0\n",
    "best_sigma2_2 = 0\n",
    "best_c_2 = 0\n",
    "best_score_2 = -1\n",
    "time_record_2 = []\n",
    "for v in v_values:\n",
    "    for s in sigma2_values:\n",
    "        for c in C_values:\n",
    "            print('-'*5+'Start: v=%.2f'%v+' sigma2=%d'%s+' c=%d'%c+'-'*5)\n",
    "            k = partial(Gaussian_kernel, sigma2=s)\n",
    "            st = time.time()\n",
    "            method = mdwsvm_ad(X_train, y_train, w2, best_c, v, k)\n",
    "            y_pred = method.predict(X_val)\n",
    "            et = time.time()\n",
    "            time_record_2.append(et - st)\n",
    "            score = 1 - within_class_error(y_val, y_pred)\n",
    "            if score > best_score_2:\n",
    "                best_v_2 = v\n",
    "                best_sigma2_2 = s\n",
    "                best_c_2 = c\n",
    "                best_score_2 = score\n"
   ]
  },
  {
   "cell_type": "code",
   "execution_count": null,
   "metadata": {},
   "outputs": [],
   "source": [
    "print('The best v is', best_v_2)\n",
    "print('The best sigma2 is', best_sigma2_2)\n",
    "print('The best C is', best_c_2)\n",
    "print('The best score is', best_score_2)"
   ]
  },
  {
   "attachments": {},
   "cell_type": "markdown",
   "metadata": {},
   "source": [
    "## Test Error for MDWSVM_AD Method"
   ]
  },
  {
   "attachments": {},
   "cell_type": "markdown",
   "metadata": {},
   "source": [
    "Use the best v, sigma2, and C to train the model on the training data and evaluate it on the test data."
   ]
  },
  {
   "cell_type": "code",
   "execution_count": null,
   "metadata": {},
   "outputs": [],
   "source": [
    "best_k_2 = partial(Gaussian_kernel, sigma2=best_sigma2_2)\n",
    "model3 = mdwsvm_ad(X_train, y_train, w2, best_c_2, best_v_2, best_k_2)\n",
    "y_pred = model3.predict(X_test)"
   ]
  },
  {
   "cell_type": "code",
   "execution_count": null,
   "metadata": {},
   "outputs": [],
   "source": [
    "print('The error is', within_class_error(y_test, y_pred))"
   ]
  },
  {
   "attachments": {},
   "cell_type": "markdown",
   "metadata": {},
   "source": [
    "# For each method, the evaluation on the test data should return two tables."
   ]
  },
  {
   "attachments": {},
   "cell_type": "markdown",
   "metadata": {},
   "source": [
    "1. one is about for each digit and letter, the percentage that it is assigned to each class label (5-8 and letter class) (like the table in CS++paper)\n",
    "2. one is a table for all methods: two rows: one row is what percentage of all the digits are correctly classified, one row is what percentage of all the letters are correctly classified."
   ]
  },
  {
   "attachments": {},
   "cell_type": "markdown",
   "metadata": {},
   "source": [
    "# Return a single plot comparing the distribution of running time of hybrid and MDWSVM_AD (can use box plot)"
   ]
  },
  {
   "attachments": {},
   "cell_type": "markdown",
   "metadata": {},
   "source": [
    "# Don't specifically talk about how we choose hyperparameters in our report, because we don't know anomaly data in practice and don't have the validation set"
   ]
  },
  {
   "cell_type": "markdown",
   "metadata": {},
   "source": []
  }
 ],
 "metadata": {
  "kernelspec": {
   "display_name": "Python 3",
   "language": "python",
   "name": "python3"
  },
  "language_info": {
   "codemirror_mode": {
    "name": "ipython",
    "version": 3
   },
   "file_extension": ".py",
   "mimetype": "text/x-python",
   "name": "python",
   "nbconvert_exporter": "python",
   "pygments_lexer": "ipython3",
   "version": "3.11.1"
  },
  "orig_nbformat": 4
 },
 "nbformat": 4,
 "nbformat_minor": 2
}
