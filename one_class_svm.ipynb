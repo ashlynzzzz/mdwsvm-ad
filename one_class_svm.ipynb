{
 "cells": [
  {
   "cell_type": "code",
   "execution_count": 1,
   "metadata": {},
   "outputs": [],
   "source": [
    "import numpy as np\n",
    "import matplotlib.pyplot as plt\n",
    "from emnist import extract_training_samples\n",
    "from functools import partial\n",
    "\n",
    "from vertices_generator import vertices\n",
    "from kernel import Gaussian_kernel\n",
    "from mdwsvm_ad import mdwsvm_ad\n",
    "from mdwsvm import mdwsvm\n",
    "from one_class_svm import one_class_svm\n",
    "from hybrid import hybrid\n",
    "from metric import within_class_error"
   ]
  },
  {
   "cell_type": "code",
   "execution_count": 2,
   "metadata": {},
   "outputs": [],
   "source": [
    "# Load data\n",
    "digits_images, digits_labels = extract_training_samples('digits')\n",
    "letters_images, letters_labels = extract_training_samples('byclass')\n",
    "\n",
    "X_train = np.zeros((4000,28,28))\n",
    "y_train = np.zeros((4000), dtype=int)\n",
    "X_test = np.zeros((40000,28,28))\n",
    "y_test = np.zeros((40000), dtype=int)\n",
    "\n",
    "# 4000 digits normalized training data \n",
    "X_train[0:4000,:,:] = digits_images[0:4000,:,:] / 255\n",
    "X_train = X_train.reshape(4000,784).T \n",
    "y_train[0:4000] = digits_labels[0:4000] # 4000 digits training label\n",
    "\n",
    "# Get 2000 digits for test X\n",
    "X_test[0:2000,:,:] = digits_images[4000:6000,:,:] / 255\n",
    "y_test[0:2000] = digits_labels[4000:6000]\n",
    "# Get 38000 lowercase letters\n",
    "count = 2000\n",
    "current_i = 0\n",
    "while True:\n",
    "    if count == 40000:\n",
    "        break\n",
    "\n",
    "    if(letters_labels[current_i] >= 36): # Get lower case letter\n",
    "        X_test[count,:,:] = letters_images[current_i,:,:] / 255\n",
    "        y_test[count] = letters_labels[current_i]\n",
    "        count += 1\n",
    "\n",
    "    current_i += 1\n",
    "# 2000 digits and 38000 letters normalized data, 0-9 are 0-9, 36-61 are a-z\n",
    "X_test = X_test.reshape(40000,784).T"
   ]
  },
  {
   "cell_type": "code",
   "execution_count": 59,
   "metadata": {},
   "outputs": [],
   "source": [
    "index_train = np.concatenate([np.where(y_train <=1)[0]]) # 0,1,2,3\n",
    "X_train_2 = X_train[:, index_train]\n",
    "y_train_2 = y_train[index_train]\n",
    "\n",
    "index_test = np.concatenate([np.where(y_test <=1)[0], np.where(y_test == 46)[0]]) # 0,1,2,3, 46\n",
    "X_test_2 = X_test[:, index_test]\n",
    "y_test_2 = y_test[index_test]"
   ]
  },
  {
   "cell_type": "code",
   "execution_count": 23,
   "metadata": {},
   "outputs": [
    {
     "data": {
      "text/plain": [
       "(array([0, 1, 2, 3]), array([406, 431, 396, 362]))"
      ]
     },
     "execution_count": 23,
     "metadata": {},
     "output_type": "execute_result"
    }
   ],
   "source": [
    "np.unique(y_train_2, return_counts=True)"
   ]
  },
  {
   "cell_type": "code",
   "execution_count": 13,
   "metadata": {},
   "outputs": [
    {
     "data": {
      "text/plain": [
       "(837,)"
      ]
     },
     "execution_count": 13,
     "metadata": {},
     "output_type": "execute_result"
    }
   ],
   "source": [
    "y_train_2.shape"
   ]
  },
  {
   "cell_type": "code",
   "execution_count": 8,
   "metadata": {},
   "outputs": [],
   "source": [
    "import numpy as np\n",
    "import cvxpy as cp\n",
    "\n",
    "class mdwsvm_ad:\n",
    "    '''\n",
    "    This class aims to reimplement MDWSVM to do multiclass classification\n",
    "\n",
    "    Variables: \n",
    "            X:      training data matrix of interest (d by n) where n is the number of training samples and d is the number of features\n",
    "            y:      training labels\n",
    "            W:      vertices matrix for all classes: K by (K+1)\n",
    "            C:      constraint hyperparameter on B which is the coefficient in f\n",
    "            alp:    weighting parameter, the default value of 0.5\n",
    "            v:      hyperparameter within (0,1)\n",
    "            K:      kernel function defined in matrix form, the default is a radius-based Gaussian kernel\n",
    "    '''\n",
    "\n",
    "    def __init__(self, X, y, W, C, v, K, alp = 0.5):\n",
    "        self.X = X\n",
    "        self.y = y\n",
    "        self.W = W\n",
    "        self.C = C\n",
    "        self.alp = alp\n",
    "        self.v = v\n",
    "        self.K = K\n",
    "        self.d, self.e = self.fit()\n",
    "\n",
    "    def fit(self):\n",
    "        # TODO\n",
    "        _, n = self.X.shape\n",
    "        k, _ = self.W.shape\n",
    "        W_y = self.W[:,self.y]\n",
    "        _, counts = np.unique(self.y, return_counts=True)\n",
    "        N_y = counts[self.y]\n",
    "        # Calculate the train-train kernel matrix.\n",
    "        G = self.K(self.X, self.X)\n",
    "\n",
    "        d = cp.Variable(n)\n",
    "        e = cp.Variable(n)\n",
    "        f = cp.Variable(n)\n",
    "\n",
    "        objective = cp.Minimize(0.5 * cp.sum([cp.quad_form(cp.multiply((d+e), W_y[j]), G) for j in range(k)])\n",
    "                                -2 * cp.sum(cp.sqrt(self.C*self.alp*(d-f) / (self.v*N_y))))\n",
    "        \n",
    "        constraints = [W_y @ d == 0,\n",
    "                       W_y @ e == 0,\n",
    "                       cp.sum(e) == self.C,\n",
    "                       # d - f > 0,\n",
    "                       e <= self.C * (1-self.alp) / (self.v * N_y),\n",
    "                       d <= self.C * self.alp / (self.v * N_y),\n",
    "                       d - f >= 1e-16, \n",
    "                       e >= 0,\n",
    "                       f >= 0]\n",
    "        \n",
    "        prob = cp.Problem(objective, constraints)\n",
    "        prob.solve(solver=cp.SCS, verbose=True)\n",
    "\n",
    "        return d.value, e.value        \n",
    "\n",
    "    def predict(self, data):\n",
    "        '''\n",
    "        Input:\n",
    "            data:  data matrix for prediction (d by m)\n",
    "\n",
    "        Output:\n",
    "            y:  predicted labels for data\n",
    "        '''\n",
    "        # TODO\n",
    "        # Compute the train-test kernel matrix\n",
    "        G = self.K(self.X, data)\n",
    "\n",
    "        g = self.d + self.e\n",
    "        W = self.W\n",
    "        W_y = self.W[:,self.y]\n",
    "        y = np.argmax(W.T @ ((np.diag(g) @ W_y.T).T @ G), axis=0)\n",
    "\n",
    "        return y"
   ]
  },
  {
   "cell_type": "code",
   "execution_count": 103,
   "metadata": {},
   "outputs": [],
   "source": [
    "import numpy as np\n",
    "import cvxpy as cp\n",
    "\n",
    "class mdwsvm_ad:\n",
    "    '''\n",
    "    This class aims to reimplement MDWSVM to do multiclass classification\n",
    "\n",
    "    Variables: \n",
    "            X:      training data matrix of interest (d by n) where n is the number of training samples and d is the number of features\n",
    "            y:      training labels\n",
    "            W:      vertices matrix for all classes: K by (K+1)\n",
    "            C:      constraint hyperparameter on B which is the coefficient in f\n",
    "            alp:    weighting parameter, the default value of 0.5\n",
    "            v:      hyperparameter within (0,1)\n",
    "            K:      kernel function defined in matrix form, the default is a radius-based Gaussian kernel\n",
    "    '''\n",
    "\n",
    "    def __init__(self, X, y, W, U, C, v, K, alp = 0.5):\n",
    "        self.X = X\n",
    "        self.y = y\n",
    "        self.W = W\n",
    "        self.U = U\n",
    "        self.C = C\n",
    "        self.alp = alp\n",
    "        self.v = v\n",
    "        self.K = K\n",
    "        self.d, self.e = self.fit()\n",
    "\n",
    "    def fit(self):\n",
    "        # TODO\n",
    "        _, n = self.X.shape\n",
    "        self.k, _ = self.W.shape\n",
    "        W_y = self.W[:,self.y]\n",
    "        U_y = self.U[:,self.y]\n",
    "        _, counts = np.unique(self.y, return_counts=True)\n",
    "        self.N_y = counts[self.y]\n",
    "        # Calculate the train-train kernel matrix.\n",
    "        G = self.K(self.X, self.X)\n",
    "\n",
    "        d = cp.Variable(n)\n",
    "        e = cp.Variable(n)\n",
    "        f = cp.Variable(n)\n",
    "\n",
    "        objective = cp.Minimize(0.5 * cp.sum([cp.quad_form(cp.multiply((d+e), W_y[j]), G) for j in range(self.k)])\n",
    "                                -2 * cp.sum(cp.sqrt(self.C*self.alp*(d-f) / n))\n",
    "                                + cp.sum(e)) \n",
    "        \n",
    "        constraints = [W_y @ d == 0,\n",
    "                       W_y @ e + (1-self.alp)*self.C*self.W[:,-1] == 0,\n",
    "                       #cp.sum(e) == self.C * (1-self.alp),\n",
    "                       e <= self.C * (1-self.alp) / (self.v * self.N_y),\n",
    "                       d <= self.C * self.alp / n,\n",
    "                       d - f >= 1e-16, \n",
    "                       e >= 0,\n",
    "                       f >= 0]\n",
    "        \n",
    "        prob = cp.Problem(objective, constraints)\n",
    "        prob.solve(solver=cp.SCS, verbose=True)\n",
    "\n",
    "        return d.value, e.value        \n",
    "\n",
    "    def predict(self, data):\n",
    "        '''\n",
    "        Input:\n",
    "            data:  data matrix for prediction (d by m)\n",
    "\n",
    "        Output:\n",
    "            y:  predicted labels for data\n",
    "        '''\n",
    "        # TODO\n",
    "        # Compute the train-test kernel matrix\n",
    "        G = self.K(self.X, data)\n",
    "\n",
    "        g = self.d + self.e\n",
    "        W = self.W\n",
    "        W_y = self.W[:,self.y]\n",
    "\n",
    "        constant = np.zeros(self.k)\n",
    "        index = np.where((self.e > 0) & (self.e < (1-self.alp)*self.C/(self.v*self.N_y)))[0]\n",
    "        for i in range(self.k):\n",
    "            selected_index = index[np.argmax(self.y[index] == i)]\n",
    "            selected_G = self.K(self.X, self.X[:,selected_index].reshape(-1,1))\n",
    "            constant[i] = 1 - W[:,i].T @ (np.diag(g) @ W_y.T).T @ selected_G\n",
    "\n",
    "        constant_y = constant[self.y]\n",
    "        constant = np.concatenate([constant, [np.dot(self.e, constant_y) / ((1-self.alp)*self.C)]]).reshape((-1,1))\n",
    "\n",
    "        y = np.argmax(W.T @ ((np.diag(g) @ W_y.T).T @ G) + constant, axis=0)\n",
    "\n",
    "        return y"
   ]
  },
  {
   "cell_type": "code",
   "execution_count": 86,
   "metadata": {},
   "outputs": [
    {
     "data": {
      "text/plain": [
       "array([[ 0,  1,  2,  3,  4],\n",
       "       [ 5,  6,  7,  8,  9],\n",
       "       [10, 11, 12, 13, 14],\n",
       "       [15, 16, 17, 18, 19],\n",
       "       [20, 21, 22, 23, 24],\n",
       "       [25, 26, 27, 28, 29],\n",
       "       [30, 31, 32, 33, 34],\n",
       "       [35, 36, 37, 38, 39],\n",
       "       [40, 41, 42, 43, 44]])"
      ]
     },
     "execution_count": 86,
     "metadata": {},
     "output_type": "execute_result"
    }
   ],
   "source": [
    "np.arange(45).reshape(9,5)"
   ]
  },
  {
   "cell_type": "code",
   "execution_count": 85,
   "metadata": {},
   "outputs": [
    {
     "data": {
      "text/plain": [
       "array([[ 0,  1,  2,  3,  4],\n",
       "       [ 5,  6,  7,  8,  9],\n",
       "       [11, 12, 13, 14, 15],\n",
       "       [16, 17, 18, 19, 20],\n",
       "       [22, 23, 24, 25, 26],\n",
       "       [27, 28, 29, 30, 31],\n",
       "       [33, 34, 35, 36, 37],\n",
       "       [38, 39, 40, 41, 42],\n",
       "       [44, 45, 46, 47, 48]])"
      ]
     },
     "execution_count": 85,
     "metadata": {},
     "output_type": "execute_result"
    }
   ],
   "source": [
    "index = np.arange(9)\n",
    "y = np.array([0,0,1,1,2,2,3,3,4])\n",
    "np.arange(45).reshape(9,5) + y.reshape(-1,1)"
   ]
  },
  {
   "cell_type": "code",
   "execution_count": 82,
   "metadata": {},
   "outputs": [
    {
     "data": {
      "text/plain": [
       "44"
      ]
     },
     "execution_count": 82,
     "metadata": {},
     "output_type": "execute_result"
    }
   ],
   "source": [
    "np.dot(y,y)"
   ]
  },
  {
   "cell_type": "code",
   "execution_count": 84,
   "metadata": {},
   "outputs": [
    {
     "ename": "ValueError",
     "evalue": "all the input arrays must have same number of dimensions, but the array at index 0 has 2 dimension(s) and the array at index 1 has 1 dimension(s)",
     "output_type": "error",
     "traceback": [
      "\u001b[0;31m---------------------------------------------------------------------------\u001b[0m",
      "\u001b[0;31mValueError\u001b[0m                                Traceback (most recent call last)",
      "Cell \u001b[0;32mIn[84], line 2\u001b[0m\n\u001b[1;32m      1\u001b[0m constant \u001b[39m=\u001b[39m np\u001b[39m.\u001b[39mzeros((\u001b[39m5\u001b[39m,\u001b[39m1\u001b[39m))\n\u001b[0;32m----> 2\u001b[0m constant \u001b[39m=\u001b[39m np\u001b[39m.\u001b[39;49mconcatenate([constant, [np\u001b[39m.\u001b[39;49mdot(y,y)]])\n\u001b[1;32m      3\u001b[0m constant\n",
      "File \u001b[0;32m<__array_function__ internals>:180\u001b[0m, in \u001b[0;36mconcatenate\u001b[0;34m(*args, **kwargs)\u001b[0m\n",
      "\u001b[0;31mValueError\u001b[0m: all the input arrays must have same number of dimensions, but the array at index 0 has 2 dimension(s) and the array at index 1 has 1 dimension(s)"
     ]
    }
   ],
   "source": [
    "constant = np.zeros((5,1))\n",
    "constant = np.concatenate([constant, [np.dot(y,y)]])\n",
    "constant"
   ]
  },
  {
   "cell_type": "code",
   "execution_count": 76,
   "metadata": {},
   "outputs": [
    {
     "data": {
      "text/plain": [
       "2"
      ]
     },
     "execution_count": 76,
     "metadata": {},
     "output_type": "execute_result"
    }
   ],
   "source": [
    "index[np.argmax(y[index] == 1)]"
   ]
  },
  {
   "cell_type": "code",
   "execution_count": 72,
   "metadata": {},
   "outputs": [
    {
     "data": {
      "text/plain": [
       "(array([1, 2, 3, 4, 5, 6, 7]),)"
      ]
     },
     "execution_count": 72,
     "metadata": {},
     "output_type": "execute_result"
    }
   ],
   "source": [
    "np.where((e > 0) & (e < 8))"
   ]
  },
  {
   "cell_type": "code",
   "execution_count": 61,
   "metadata": {},
   "outputs": [],
   "source": [
    "from vertices_generator_v2 import vertices_v2"
   ]
  },
  {
   "cell_type": "code",
   "execution_count": 104,
   "metadata": {},
   "outputs": [
    {
     "name": "stdout",
     "output_type": "stream",
     "text": [
      "===============================================================================\n",
      "                                     CVXPY                                     \n",
      "                                     v1.3.1                                    \n",
      "===============================================================================\n",
      "(CVXPY) Apr 09 11:05:28 PM: Your problem has 2511 variables, 7 constraints, and 0 parameters.\n",
      "(CVXPY) Apr 09 11:05:29 PM: It is compliant with the following grammars: DCP, DQCP\n",
      "(CVXPY) Apr 09 11:05:29 PM: (If you need to solve this problem multiple times, but with different data, consider using parameters.)\n",
      "(CVXPY) Apr 09 11:05:29 PM: CVXPY will first compile your problem; then, it will invoke a numerical solver to obtain a solution.\n",
      "-------------------------------------------------------------------------------\n",
      "                                  Compilation                                  \n",
      "-------------------------------------------------------------------------------\n",
      "(CVXPY) Apr 09 11:05:29 PM: Compiling problem (target solver=SCS).\n",
      "(CVXPY) Apr 09 11:05:29 PM: Reduction chain: Dcp2Cone -> CvxAttr2Constr -> ConeMatrixStuffing -> SCS\n",
      "(CVXPY) Apr 09 11:05:29 PM: Applying reduction Dcp2Cone\n",
      "(CVXPY) Apr 09 11:05:29 PM: Applying reduction CvxAttr2Constr\n",
      "(CVXPY) Apr 09 11:05:29 PM: Applying reduction ConeMatrixStuffing\n",
      "(CVXPY) Apr 09 11:05:29 PM: Applying reduction SCS\n",
      "(CVXPY) Apr 09 11:05:30 PM: Finished problem compilation (took 2.150e-01 seconds).\n",
      "-------------------------------------------------------------------------------\n",
      "                                Numerical solver                               \n",
      "-------------------------------------------------------------------------------\n",
      "(CVXPY) Apr 09 11:05:30 PM: Invoking solver SCS  to obtain a solution.\n",
      "------------------------------------------------------------------\n",
      "\t       SCS v3.2.2 - Splitting Conic Solver\n",
      "\t(c) Brendan O'Donoghue, Stanford University, 2012\n",
      "------------------------------------------------------------------\n",
      "problem:  variables n: 5022, constraints m: 8374\n",
      "cones: \t  z: primal zero / dual free vars: 1678\n",
      "\t  l: linear vars: 4185\n",
      "\t  q: soc vars: 2511, qsize: 837\n",
      "settings: eps_abs: 1.0e-05, eps_rel: 1.0e-05, eps_infeas: 1.0e-07\n",
      "\t  alpha: 1.50, scale: 1.00e-01, adaptive_scale: 1\n",
      "\t  max_iters: 100000, normalize: 1, rho_x: 1.00e-06\n",
      "\t  acceleration_lookback: 10, acceleration_interval: 10\n",
      "lin-sys:  sparse-direct-amd-qdldl\n",
      "\t  nnz(A): 17577, nnz(P): 701406\n",
      "------------------------------------------------------------------\n",
      " iter | pri res | dua res |   gap   |   obj   |  scale  | time (s)\n",
      "------------------------------------------------------------------\n",
      "     0| 6.82e+00  1.01e+00  1.07e+04 -5.93e+03  1.00e-01  5.19e-01 \n",
      "   250| 7.60e-03  1.86e-03  3.17e+00  6.87e-01  3.67e-01  2.06e+00 \n",
      "   500| 3.72e-03  2.25e-04  1.40e+00  6.60e+00  3.67e-01  3.26e+00 \n",
      "   750| 2.95e-03  4.12e-05  8.96e-01  8.27e+00  3.67e-01  4.46e+00 \n",
      "  1000| 2.60e-03  1.74e-05  6.58e-01  9.06e+00  3.67e-01  5.65e+00 \n",
      "  1250| 2.46e-03  1.43e-03  1.52e+00  8.98e+00  3.76e+00  7.55e+00 \n",
      "  1500| 3.16e-05  1.44e-05  1.45e+00  9.14e+00  3.76e+00  8.70e+00 \n",
      "  1750| 1.65e-03  1.85e-02  6.84e-01  1.10e+01  3.76e+00  9.85e+00 \n",
      "  2000| 2.83e-05  1.29e-05  1.30e+00  9.37e+00  3.76e+00  1.10e+01 \n",
      "  2250| 2.69e-05  1.22e-05  1.24e+00  9.47e+00  3.76e+00  1.21e+01 \n",
      "  2500| 2.56e-05  1.17e-05  1.18e+00  9.55e+00  3.76e+00  1.33e+01 \n",
      "  2750| 2.45e-05  1.11e-05  1.13e+00  9.63e+00  3.76e+00  1.44e+01 \n",
      "  3000| 2.34e-05  1.07e-05  1.08e+00  9.71e+00  3.76e+00  1.56e+01 \n",
      "  3250| 2.25e-05  1.02e-05  1.03e+00  9.77e+00  3.76e+00  1.67e+01 \n",
      "  3500| 2.16e-05  9.83e-06  9.92e-01  9.83e+00  3.76e+00  1.79e+01 \n",
      "  3750| 2.08e-05  9.46e-06  9.55e-01  9.89e+00  3.76e+00  1.90e+01 \n",
      "  4000| 2.00e-05  9.11e-06  9.20e-01  9.94e+00  3.76e+00  2.02e+01 \n",
      "  4250| 1.93e-05  8.79e-06  8.87e-01  9.99e+00  3.76e+00  2.13e+01 \n",
      "  4500| 1.04e-03  1.16e-02  4.33e-01  1.11e+01  3.76e+00  2.25e+01 \n",
      "  4750| 1.80e-05  8.21e-06  8.29e-01  1.01e+01  3.76e+00  2.36e+01 \n",
      "  5000| 1.75e-05  7.95e-06  8.03e-01  1.01e+01  3.76e+00  2.48e+01 \n",
      "  5250| 1.69e-05  7.70e-06  7.78e-01  1.02e+01  3.76e+00  2.59e+01 \n",
      "  5500| 1.64e-05  7.47e-06  7.55e-01  1.02e+01  3.76e+00  2.70e+01 \n",
      "  5750| 1.59e-05  7.25e-06  7.33e-01  1.02e+01  3.76e+00  2.82e+01 \n",
      "  6000| 1.55e-05  7.05e-06  7.12e-01  1.03e+01  3.76e+00  2.93e+01 \n",
      "  6250| 1.51e-05  6.86e-06  6.92e-01  1.03e+01  3.76e+00  3.05e+01 \n",
      "  6500| 1.47e-05  6.67e-06  6.74e-01  1.03e+01  3.76e+00  3.16e+01 \n",
      "  6750| 1.43e-05  6.50e-06  6.56e-01  1.03e+01  3.76e+00  3.28e+01 \n",
      "  7000| 1.39e-05  6.33e-06  6.40e-01  1.04e+01  3.76e+00  3.39e+01 \n",
      "  7250| 7.58e-04  8.46e-03  3.16e-01  1.12e+01  3.76e+00  3.51e+01 \n",
      "  7500| 1.32e-05  6.03e-06  6.09e-01  1.04e+01  3.76e+00  3.62e+01 \n",
      "  7750| 1.29e-05  5.88e-06  5.94e-01  1.04e+01  3.76e+00  3.74e+01 \n",
      "  8000| 1.26e-05  5.75e-06  5.81e-01  1.05e+01  3.76e+00  3.85e+01 \n",
      "  8250| 1.23e-05  5.62e-06  5.68e-01  1.05e+01  3.76e+00  3.97e+01 \n",
      "  8500| 1.21e-05  5.50e-06  5.55e-01  1.05e+01  3.76e+00  4.09e+01 \n",
      "  8750| 1.18e-05  5.38e-06  5.43e-01  1.05e+01  3.76e+00  4.21e+01 \n",
      "  9000| 1.16e-05  5.26e-06  5.32e-01  1.05e+01  3.76e+00  4.32e+01 \n",
      "  9250| 1.13e-05  5.16e-06  5.21e-01  1.06e+01  3.76e+00  4.44e+01 \n",
      "  9500| 1.11e-05  5.05e-06  5.10e-01  1.06e+01  3.76e+00  4.55e+01 \n",
      "  9750| 1.09e-05  4.95e-06  5.00e-01  1.06e+01  3.76e+00  4.67e+01 \n",
      " 10000| 5.96e-04  6.65e-03  2.48e-01  1.12e+01  3.76e+00  4.78e+01 \n",
      " 10250| 1.05e-05  4.76e-06  4.81e-01  1.06e+01  3.76e+00  4.90e+01 \n",
      " 10500| 1.03e-05  4.67e-06  4.72e-01  1.06e+01  3.76e+00  5.01e+01 \n",
      " 10750| 1.01e-05  4.59e-06  4.63e-01  1.06e+01  3.76e+00  5.13e+01 \n",
      " 11000| 9.89e-06  4.50e-06  4.55e-01  1.07e+01  3.76e+00  5.24e+01 \n",
      " 11250| 9.71e-06  4.42e-06  4.47e-01  1.07e+01  3.76e+00  5.36e+01 \n",
      " 11500| 9.54e-06  4.35e-06  4.39e-01  1.07e+01  3.76e+00  5.47e+01 \n",
      " 11750| 9.38e-06  4.27e-06  4.31e-01  1.07e+01  3.76e+00  5.59e+01 \n",
      " 12000| 9.22e-06  4.20e-06  4.24e-01  1.07e+01  3.76e+00  5.71e+01 \n",
      " 12250| 9.07e-06  4.13e-06  4.17e-01  1.07e+01  3.76e+00  5.82e+01 \n",
      " 12500| 8.92e-06  4.06e-06  4.10e-01  1.07e+01  3.76e+00  5.93e+01 \n",
      " 12750| 4.91e-04  5.48e-03  2.05e-01  1.12e+01  3.76e+00  6.05e+01 \n",
      " 13000| 8.64e-06  3.94e-06  3.97e-01  1.07e+01  3.76e+00  6.17e+01 \n",
      " 13250| 8.51e-06  3.87e-06  3.91e-01  1.07e+01  3.76e+00  6.28e+01 \n",
      " 13500| 8.38e-06  3.81e-06  3.85e-01  1.08e+01  3.76e+00  6.40e+01 \n",
      " 13750| 8.25e-06  3.76e-06  3.79e-01  1.08e+01  3.76e+00  6.51e+01 \n",
      " 14000| 8.13e-06  3.70e-06  3.74e-01  1.08e+01  3.76e+00  6.62e+01 \n",
      " 14250| 8.01e-06  3.65e-06  3.68e-01  1.08e+01  3.76e+00  6.74e+01 \n",
      " 14500| 7.89e-06  3.59e-06  3.63e-01  1.08e+01  3.76e+00  6.85e+01 \n",
      " 14750| 7.78e-06  3.54e-06  3.58e-01  1.08e+01  3.76e+00  6.97e+01 \n",
      " 15000| 7.67e-06  3.49e-06  3.53e-01  1.08e+01  3.76e+00  7.08e+01 \n",
      " 15250| 7.57e-06  3.45e-06  3.48e-01  1.08e+01  3.76e+00  7.19e+01 \n",
      " 15500| 4.17e-04  4.65e-03  1.74e-01  1.13e+01  3.76e+00  7.31e+01 \n",
      " 15750| 7.36e-06  3.35e-06  3.39e-01  1.08e+01  3.76e+00  7.42e+01 \n",
      " 16000| 7.26e-06  3.31e-06  3.34e-01  1.08e+01  3.76e+00  7.54e+01 \n",
      " 16250| 7.17e-06  3.27e-06  3.30e-01  1.08e+01  3.76e+00  7.65e+01 \n",
      " 16500| 7.08e-06  3.22e-06  3.25e-01  1.08e+01  3.76e+00  7.77e+01 \n",
      " 16750| 6.99e-06  3.18e-06  3.21e-01  1.09e+01  3.76e+00  7.88e+01 \n",
      " 17000| 6.90e-06  3.14e-06  3.17e-01  1.09e+01  3.76e+00  8.00e+01 \n",
      " 17250| 6.81e-06  3.10e-06  3.13e-01  1.09e+01  3.76e+00  8.11e+01 \n",
      " 17500| 6.73e-06  3.06e-06  3.09e-01  1.09e+01  3.76e+00  8.23e+01 \n",
      " 17750| 6.65e-06  3.03e-06  3.06e-01  1.09e+01  3.76e+00  8.34e+01 \n",
      " 18000| 6.57e-06  2.99e-06  3.02e-01  1.09e+01  3.76e+00  8.46e+01 \n",
      " 18250| 3.62e-04  4.04e-03  1.51e-01  1.13e+01  3.76e+00  8.57e+01 \n",
      " 18500| 6.41e-06  2.92e-06  2.95e-01  1.09e+01  3.76e+00  8.68e+01 \n",
      " 18750| 6.34e-06  2.89e-06  2.92e-01  1.09e+01  3.76e+00  8.80e+01 \n",
      " 19000| 6.27e-06  2.85e-06  2.88e-01  1.09e+01  3.76e+00  8.91e+01 \n",
      " 19250| 6.20e-06  2.82e-06  2.85e-01  1.09e+01  3.76e+00  9.03e+01 \n",
      " 19500| 6.13e-06  2.79e-06  2.82e-01  1.09e+01  3.76e+00  9.14e+01 \n",
      " 19750| 6.06e-06  2.76e-06  2.79e-01  1.09e+01  3.76e+00  9.26e+01 \n",
      " 20000| 5.99e-06  2.73e-06  2.76e-01  1.09e+01  3.76e+00  9.37e+01 \n",
      " 20250| 5.93e-06  2.70e-06  2.73e-01  1.09e+01  3.76e+00  9.49e+01 \n",
      " 20500| 5.86e-06  2.67e-06  2.70e-01  1.09e+01  3.76e+00  9.60e+01 \n",
      " 20750| 5.80e-06  2.64e-06  2.67e-01  1.09e+01  3.76e+00  9.72e+01 \n",
      " 21000| 3.21e-04  3.58e-03  1.34e-01  1.13e+01  3.76e+00  9.83e+01 \n",
      " 21250| 5.68e-06  2.59e-06  2.61e-01  1.09e+01  3.76e+00  9.95e+01 \n",
      " 21500| 5.62e-06  2.56e-06  2.59e-01  1.09e+01  3.76e+00  1.01e+02 \n",
      " 21750| 5.57e-06  2.54e-06  2.56e-01  1.10e+01  3.76e+00  1.02e+02 \n",
      " 22000| 5.51e-06  2.51e-06  2.53e-01  1.10e+01  3.76e+00  1.03e+02 \n",
      " 22250| 5.46e-06  2.48e-06  2.51e-01  1.10e+01  3.76e+00  1.04e+02 \n",
      " 22500| 5.40e-06  2.46e-06  2.48e-01  1.10e+01  3.76e+00  1.05e+02 \n",
      " 22750| 5.35e-06  2.44e-06  2.46e-01  1.10e+01  3.76e+00  1.06e+02 \n",
      " 23000| 5.30e-06  2.41e-06  2.44e-01  1.10e+01  3.76e+00  1.07e+02 \n",
      " 23250| 5.25e-06  2.39e-06  2.41e-01  1.10e+01  3.76e+00  1.09e+02 \n",
      " 23500| 5.20e-06  2.37e-06  2.39e-01  1.10e+01  3.76e+00  1.10e+02 \n",
      " 23750| 2.88e-04  3.21e-03  1.20e-01  1.13e+01  3.76e+00  1.11e+02 \n",
      " 24000| 5.10e-06  2.32e-06  2.35e-01  1.10e+01  3.76e+00  1.12e+02 \n",
      " 24250| 5.05e-06  2.30e-06  2.32e-01  1.10e+01  3.76e+00  1.13e+02 \n",
      " 24500| 5.01e-06  2.28e-06  2.30e-01  1.10e+01  3.76e+00  1.14e+02 \n",
      " 24750| 4.96e-06  2.26e-06  2.28e-01  1.10e+01  3.76e+00  1.16e+02 \n",
      " 25000| 4.92e-06  2.24e-06  2.26e-01  1.10e+01  3.76e+00  1.17e+02 \n",
      " 25250| 4.87e-06  2.22e-06  2.24e-01  1.10e+01  3.76e+00  1.18e+02 \n",
      " 25500| 4.83e-06  2.20e-06  2.22e-01  1.10e+01  3.76e+00  1.19e+02 \n",
      " 25750| 4.79e-06  2.18e-06  2.20e-01  1.10e+01  3.76e+00  1.20e+02 \n",
      " 26000| 4.75e-06  2.16e-06  2.18e-01  1.10e+01  3.76e+00  1.21e+02 \n",
      " 26250| 4.71e-06  2.14e-06  2.16e-01  1.10e+01  3.76e+00  1.22e+02 \n",
      " 26500| 2.61e-04  2.91e-03  1.09e-01  1.13e+01  3.76e+00  1.23e+02 \n",
      " 26750| 4.63e-06  2.11e-06  2.13e-01  1.10e+01  3.76e+00  1.25e+02 \n",
      " 27000| 4.59e-06  2.09e-06  2.11e-01  1.10e+01  3.76e+00  1.26e+02 \n",
      " 27250| 4.55e-06  2.07e-06  2.09e-01  1.10e+01  3.76e+00  1.27e+02 \n",
      " 27500| 4.51e-06  2.05e-06  2.08e-01  1.10e+01  3.76e+00  1.28e+02 \n",
      " 27750| 4.47e-06  2.04e-06  2.06e-01  1.10e+01  3.76e+00  1.29e+02 \n",
      " 28000| 4.44e-06  2.02e-06  2.04e-01  1.10e+01  3.76e+00  1.30e+02 \n",
      " 28250| 4.40e-06  2.01e-06  2.02e-01  1.10e+01  3.76e+00  1.32e+02 \n",
      " 28500| 4.37e-06  1.99e-06  2.01e-01  1.10e+01  3.76e+00  1.33e+02 \n",
      " 28750| 4.33e-06  1.97e-06  1.99e-01  1.10e+01  3.76e+00  1.34e+02 \n",
      " 29000| 4.30e-06  1.96e-06  1.98e-01  1.10e+01  3.76e+00  1.35e+02 \n",
      " 29250| 2.35e-04  2.62e-03  9.58e-02  1.13e+01  3.76e+00  1.36e+02 \n",
      " 29500| 4.23e-06  1.93e-06  1.95e-01  1.10e+01  3.76e+00  1.37e+02 \n",
      " 29750| 4.20e-06  1.91e-06  1.93e-01  1.10e+01  3.76e+00  1.38e+02 \n",
      " 30000| 4.17e-06  1.90e-06  1.92e-01  1.10e+01  3.76e+00  1.40e+02 \n",
      " 30250| 4.14e-06  1.88e-06  1.90e-01  1.11e+01  3.76e+00  1.41e+02 \n",
      " 30500| 4.11e-06  1.87e-06  1.89e-01  1.11e+01  3.76e+00  1.42e+02 \n",
      " 30750| 4.07e-06  1.86e-06  1.87e-01  1.11e+01  3.76e+00  1.43e+02 \n",
      " 31000| 4.04e-06  1.84e-06  1.86e-01  1.11e+01  3.76e+00  1.44e+02 \n",
      " 31250| 4.02e-06  1.83e-06  1.85e-01  1.11e+01  3.76e+00  1.45e+02 \n",
      " 31500| 3.99e-06  1.82e-06  1.83e-01  1.11e+01  3.76e+00  1.47e+02 \n",
      " 31750| 3.96e-06  1.80e-06  1.82e-01  1.11e+01  3.76e+00  1.48e+02 \n",
      " 32000| 2.19e-04  2.44e-03  9.06e-02  1.13e+01  3.76e+00  1.49e+02 \n",
      " 32250| 3.90e-06  1.78e-06  1.79e-01  1.11e+01  3.76e+00  1.50e+02 \n",
      " 32500| 3.87e-06  1.76e-06  1.78e-01  1.11e+01  3.76e+00  1.51e+02 \n",
      " 32750| 3.85e-06  1.75e-06  1.77e-01  1.11e+01  3.76e+00  1.52e+02 \n",
      " 33000| 3.82e-06  1.74e-06  1.76e-01  1.11e+01  3.76e+00  1.53e+02 \n",
      " 33250| 3.79e-06  1.73e-06  1.74e-01  1.11e+01  3.76e+00  1.55e+02 \n",
      " 33500| 3.77e-06  1.72e-06  1.73e-01  1.11e+01  3.76e+00  1.56e+02 \n",
      " 33750| 3.74e-06  1.70e-06  1.72e-01  1.11e+01  3.76e+00  1.57e+02 \n",
      " 34000| 3.72e-06  1.69e-06  1.71e-01  1.11e+01  3.76e+00  1.58e+02 \n",
      " 34250| 3.69e-06  1.68e-06  1.70e-01  1.11e+01  3.76e+00  1.59e+02 \n",
      " 34500| 3.67e-06  1.67e-06  1.69e-01  1.11e+01  3.76e+00  1.60e+02 \n",
      " 34750| 2.05e-04  2.29e-03  8.63e-02  1.13e+01  3.76e+00  1.61e+02 \n",
      " 35000| 3.62e-06  1.65e-06  1.66e-01  1.11e+01  3.76e+00  1.63e+02 \n",
      " 35250| 3.59e-06  1.64e-06  1.65e-01  1.11e+01  3.76e+00  1.64e+02 \n",
      " 35500| 3.57e-06  1.63e-06  1.64e-01  1.11e+01  3.76e+00  1.65e+02 \n",
      " 35750| 3.55e-06  1.62e-06  1.63e-01  1.11e+01  3.76e+00  1.66e+02 \n",
      " 36000| 3.52e-06  1.61e-06  1.62e-01  1.11e+01  3.76e+00  1.67e+02 \n",
      " 36250| 3.50e-06  1.59e-06  1.61e-01  1.11e+01  3.76e+00  1.68e+02 \n",
      " 36500| 3.48e-06  1.58e-06  1.60e-01  1.11e+01  3.76e+00  1.69e+02 \n",
      " 36750| 3.46e-06  1.57e-06  1.59e-01  1.11e+01  3.76e+00  1.71e+02 \n",
      " 37000| 3.44e-06  1.56e-06  1.58e-01  1.11e+01  3.76e+00  1.72e+02 \n",
      " 37250| 3.41e-06  1.56e-06  1.57e-01  1.11e+01  3.76e+00  1.73e+02 \n",
      " 37500| 1.86e-04  2.07e-03  7.52e-02  1.13e+01  3.76e+00  1.74e+02 \n",
      " 37750| 3.37e-06  1.54e-06  1.55e-01  1.11e+01  3.76e+00  1.75e+02 \n",
      " 38000| 3.35e-06  1.53e-06  1.54e-01  1.11e+01  3.76e+00  1.76e+02 \n",
      " 38250| 3.33e-06  1.52e-06  1.53e-01  1.11e+01  3.76e+00  1.78e+02 \n",
      " 38500| 3.31e-06  1.51e-06  1.52e-01  1.11e+01  3.76e+00  1.79e+02 \n",
      " 38750| 3.29e-06  1.50e-06  1.51e-01  1.11e+01  3.76e+00  1.80e+02 \n",
      " 39000| 3.27e-06  1.49e-06  1.50e-01  1.11e+01  3.76e+00  1.81e+02 \n",
      " 39250| 3.25e-06  1.48e-06  1.50e-01  1.11e+01  3.76e+00  1.82e+02 \n",
      " 39500| 3.23e-06  1.47e-06  1.49e-01  1.11e+01  3.76e+00  1.83e+02 \n",
      " 39750| 3.21e-06  1.46e-06  1.48e-01  1.11e+01  3.76e+00  1.84e+02 \n",
      " 40000| 3.20e-06  1.46e-06  1.47e-01  1.11e+01  3.76e+00  1.86e+02 \n",
      " 40250| 1.78e-04  1.98e-03  7.43e-02  1.13e+01  3.76e+00  1.87e+02 \n",
      " 40500| 3.16e-06  1.44e-06  1.45e-01  1.11e+01  3.76e+00  1.88e+02 \n",
      " 40750| 3.14e-06  1.43e-06  1.44e-01  1.11e+01  3.76e+00  1.89e+02 \n",
      " 41000| 3.12e-06  1.42e-06  1.44e-01  1.11e+01  3.76e+00  1.90e+02 \n",
      " 41250| 3.10e-06  1.41e-06  1.43e-01  1.11e+01  3.76e+00  1.91e+02 \n",
      " 41500| 3.09e-06  1.41e-06  1.42e-01  1.11e+01  3.76e+00  1.92e+02 \n",
      " 41750| 3.07e-06  1.40e-06  1.41e-01  1.11e+01  3.76e+00  1.94e+02 \n",
      " 42000| 3.05e-06  1.39e-06  1.40e-01  1.11e+01  3.76e+00  1.95e+02 \n",
      " 42250| 3.04e-06  1.38e-06  1.40e-01  1.11e+01  3.76e+00  1.96e+02 \n",
      " 42500| 3.02e-06  1.38e-06  1.39e-01  1.11e+01  3.76e+00  1.97e+02 \n",
      " 42750| 3.00e-06  1.37e-06  1.38e-01  1.11e+01  3.76e+00  1.98e+02 \n",
      " 43000| 1.68e-04  1.88e-03  7.11e-02  1.13e+01  3.76e+00  1.99e+02 \n",
      " 43250| 2.97e-06  1.35e-06  1.37e-01  1.11e+01  3.76e+00  2.00e+02 \n",
      " 43500| 2.95e-06  1.35e-06  1.36e-01  1.11e+01  3.76e+00  2.02e+02 \n",
      " 43750| 2.94e-06  1.34e-06  1.35e-01  1.11e+01  3.76e+00  2.03e+02 \n",
      " 44000| 2.92e-06  1.33e-06  1.34e-01  1.11e+01  3.76e+00  2.04e+02 \n",
      " 44250| 2.91e-06  1.32e-06  1.34e-01  1.11e+01  3.76e+00  2.05e+02 \n",
      " 44500| 2.89e-06  1.32e-06  1.33e-01  1.11e+01  3.76e+00  2.06e+02 \n",
      " 44750| 2.88e-06  1.31e-06  1.32e-01  1.11e+01  3.76e+00  2.07e+02 \n",
      " 45000| 2.86e-06  1.30e-06  1.32e-01  1.11e+01  3.76e+00  2.08e+02 \n",
      " 45250| 2.85e-06  1.30e-06  1.31e-01  1.11e+01  3.76e+00  2.10e+02 \n",
      " 45500| 2.83e-06  1.29e-06  1.30e-01  1.11e+01  3.76e+00  2.11e+02 \n",
      " 45750| 1.60e-04  1.79e-03  6.86e-02  1.13e+01  3.76e+00  2.12e+02 \n",
      " 46000| 2.80e-06  1.28e-06  1.29e-01  1.11e+01  3.76e+00  2.13e+02 \n",
      " 46250| 2.79e-06  1.27e-06  1.28e-01  1.11e+01  3.76e+00  2.14e+02 \n",
      " 46500| 2.77e-06  1.26e-06  1.28e-01  1.11e+01  3.76e+00  2.15e+02 \n",
      " 46750| 2.76e-06  1.26e-06  1.27e-01  1.11e+01  3.76e+00  2.16e+02 \n",
      " 47000| 2.75e-06  1.25e-06  1.26e-01  1.11e+01  3.76e+00  2.18e+02 \n",
      " 47250| 2.73e-06  1.24e-06  1.26e-01  1.11e+01  3.76e+00  2.19e+02 \n",
      " 47500| 2.72e-06  1.24e-06  1.25e-01  1.12e+01  3.76e+00  2.20e+02 \n",
      " 47750| 2.71e-06  1.23e-06  1.24e-01  1.12e+01  3.76e+00  2.21e+02 \n",
      " 48000| 2.69e-06  1.23e-06  1.24e-01  1.12e+01  3.76e+00  2.22e+02 \n",
      " 48250| 2.68e-06  1.22e-06  1.23e-01  1.12e+01  3.76e+00  2.23e+02 \n",
      " 48500| 1.43e-04  1.60e-03  5.66e-02  1.13e+01  3.76e+00  2.24e+02 \n",
      " 48750| 2.65e-06  1.21e-06  1.22e-01  1.12e+01  3.76e+00  2.26e+02 \n",
      " 49000| 2.64e-06  1.20e-06  1.21e-01  1.12e+01  3.76e+00  2.27e+02 \n",
      " 49250| 2.63e-06  1.20e-06  1.21e-01  1.12e+01  3.76e+00  2.28e+02 \n",
      " 49500| 2.62e-06  1.19e-06  1.20e-01  1.12e+01  3.76e+00  2.29e+02 \n",
      " 49750| 2.60e-06  1.19e-06  1.20e-01  1.12e+01  3.76e+00  2.30e+02 \n",
      " 50000| 2.59e-06  1.18e-06  1.19e-01  1.12e+01  3.76e+00  2.31e+02 \n",
      " 50250| 2.58e-06  1.17e-06  1.19e-01  1.12e+01  3.76e+00  2.32e+02 \n",
      " 50500| 2.57e-06  1.17e-06  1.18e-01  1.12e+01  3.76e+00  2.34e+02 \n",
      " 50750| 2.55e-06  1.16e-06  1.17e-01  1.12e+01  3.76e+00  2.35e+02 \n",
      " 51000| 2.54e-06  1.16e-06  1.17e-01  1.12e+01  3.76e+00  2.36e+02 \n",
      " 51250| 1.43e-04  1.60e-03  6.07e-02  1.13e+01  3.76e+00  2.37e+02 \n",
      " 51500| 2.52e-06  1.15e-06  1.16e-01  1.12e+01  3.76e+00  2.38e+02 \n",
      " 51750| 2.51e-06  1.14e-06  1.15e-01  1.12e+01  3.76e+00  2.39e+02 \n",
      " 52000| 2.50e-06  1.14e-06  1.15e-01  1.12e+01  3.76e+00  2.40e+02 \n",
      " 52250| 2.48e-06  1.13e-06  1.14e-01  1.12e+01  3.76e+00  2.42e+02 \n",
      " 52500| 2.47e-06  1.13e-06  1.14e-01  1.12e+01  3.76e+00  2.43e+02 \n",
      " 52750| 2.46e-06  1.12e-06  1.13e-01  1.12e+01  3.76e+00  2.44e+02 \n",
      " 53000| 2.45e-06  1.12e-06  1.13e-01  1.12e+01  3.76e+00  2.45e+02 \n",
      " 53250| 2.44e-06  1.11e-06  1.12e-01  1.12e+01  3.76e+00  2.46e+02 \n",
      " 53500| 2.43e-06  1.11e-06  1.12e-01  1.12e+01  3.76e+00  2.47e+02 \n",
      " 53750| 2.42e-06  1.10e-06  1.11e-01  1.12e+01  3.76e+00  2.48e+02 \n",
      " 54000| 1.39e-04  1.55e-03  6.05e-02  1.13e+01  3.76e+00  2.50e+02 \n",
      " 54250| 2.40e-06  1.09e-06  1.10e-01  1.12e+01  3.76e+00  2.51e+02 \n",
      " 54500| 2.39e-06  1.09e-06  1.10e-01  1.12e+01  3.76e+00  2.52e+02 \n",
      " 54750| 2.38e-06  1.08e-06  1.09e-01  1.12e+01  3.76e+00  2.53e+02 \n",
      " 55000| 2.37e-06  1.08e-06  1.09e-01  1.12e+01  3.76e+00  2.54e+02 \n",
      " 55250| 2.36e-06  1.07e-06  1.08e-01  1.12e+01  3.76e+00  2.55e+02 \n",
      " 55500| 2.35e-06  1.07e-06  1.08e-01  1.12e+01  3.76e+00  2.56e+02 \n",
      " 55750| 2.34e-06  1.06e-06  1.07e-01  1.12e+01  3.76e+00  2.58e+02 \n",
      " 56000| 2.33e-06  1.06e-06  1.07e-01  1.12e+01  3.76e+00  2.59e+02 \n",
      " 56250| 2.32e-06  1.06e-06  1.07e-01  1.12e+01  3.76e+00  2.60e+02 \n",
      " 56500| 2.31e-06  1.05e-06  1.06e-01  1.12e+01  3.76e+00  2.61e+02 \n",
      " 56750| 1.37e-04  1.53e-03  6.22e-02  1.13e+01  3.76e+00  2.62e+02 \n",
      " 57000| 2.29e-06  1.04e-06  1.05e-01  1.12e+01  3.76e+00  2.63e+02 \n",
      " 57250| 2.28e-06  1.04e-06  1.05e-01  1.12e+01  3.76e+00  2.64e+02 \n",
      " 57500| 2.27e-06  1.03e-06  1.04e-01  1.12e+01  3.76e+00  2.65e+02 \n",
      " 57750| 2.26e-06  1.03e-06  1.04e-01  1.12e+01  3.76e+00  2.67e+02 \n",
      " 58000| 2.25e-06  1.02e-06  1.03e-01  1.12e+01  3.76e+00  2.68e+02 \n",
      " 58250| 2.24e-06  1.02e-06  1.03e-01  1.12e+01  3.76e+00  2.69e+02 \n",
      " 58500| 2.23e-06  1.02e-06  1.03e-01  1.12e+01  3.76e+00  2.70e+02 \n",
      " 58750| 2.22e-06  1.01e-06  1.02e-01  1.12e+01  3.76e+00  2.71e+02 \n",
      " 59000| 2.21e-06  1.01e-06  1.02e-01  1.12e+01  3.76e+00  2.72e+02 \n",
      " 59250| 2.20e-06  1.00e-06  1.01e-01  1.12e+01  3.76e+00  2.73e+02 \n",
      " 59500| 1.21e-04  1.35e-03  4.97e-02  1.13e+01  3.76e+00  2.75e+02 \n",
      " 59750| 2.19e-06  9.96e-07  1.01e-01  1.12e+01  3.76e+00  2.76e+02 \n",
      " 60000| 2.18e-06  9.92e-07  1.00e-01  1.12e+01  3.76e+00  2.77e+02 \n",
      " 60250| 2.17e-06  9.88e-07  9.98e-02  1.12e+01  3.76e+00  2.78e+02 \n",
      " 60500| 2.16e-06  9.84e-07  9.94e-02  1.12e+01  3.76e+00  2.79e+02 \n",
      " 60750| 2.15e-06  9.81e-07  9.90e-02  1.12e+01  3.76e+00  2.80e+02 \n",
      " 61000| 2.14e-06  9.77e-07  9.86e-02  1.12e+01  3.76e+00  2.81e+02 \n",
      " 61250| 2.14e-06  9.73e-07  9.82e-02  1.12e+01  3.76e+00  2.83e+02 \n",
      " 61500| 2.13e-06  9.69e-07  9.79e-02  1.12e+01  3.76e+00  2.84e+02 \n",
      " 61750| 2.12e-06  9.66e-07  9.75e-02  1.12e+01  3.76e+00  2.85e+02 \n",
      " 62000| 2.11e-06  9.62e-07  9.71e-02  1.12e+01  3.76e+00  2.86e+02 \n",
      " 62250| 1.30e-04  1.45e-03  6.08e-02  1.13e+01  3.76e+00  2.87e+02 \n",
      " 62500| 2.09e-06  9.54e-07  9.64e-02  1.12e+01  3.76e+00  2.88e+02 \n",
      " 62750| 2.09e-06  9.51e-07  9.60e-02  1.12e+01  3.76e+00  2.89e+02 \n",
      " 63000| 2.08e-06  9.47e-07  9.56e-02  1.12e+01  3.76e+00  2.91e+02 \n",
      " 63250| 2.07e-06  9.44e-07  9.53e-02  1.12e+01  3.76e+00  2.92e+02 \n",
      " 63500| 2.06e-06  9.40e-07  9.49e-02  1.12e+01  3.76e+00  2.93e+02 \n",
      " 63750| 2.06e-06  9.36e-07  9.45e-02  1.12e+01  3.76e+00  2.94e+02 \n",
      " 64000| 2.05e-06  9.33e-07  9.42e-02  1.12e+01  3.76e+00  2.95e+02 \n",
      " 64250| 2.04e-06  9.30e-07  9.38e-02  1.12e+01  3.76e+00  2.96e+02 \n",
      " 64500| 2.03e-06  9.26e-07  9.35e-02  1.12e+01  3.76e+00  2.97e+02 \n",
      " 64750| 2.03e-06  9.22e-07  9.31e-02  1.12e+01  3.76e+00  2.99e+02 \n",
      " 65000| 9.70e-05  1.08e-03  3.15e-02  1.13e+01  3.76e+00  3.00e+02 \n",
      " 65250| 2.01e-06  9.16e-07  9.25e-02  1.12e+01  3.76e+00  3.01e+02 \n",
      " 65500| 2.00e-06  9.12e-07  9.21e-02  1.12e+01  3.76e+00  3.02e+02 \n",
      " 65750| 2.00e-06  9.09e-07  9.18e-02  1.12e+01  3.76e+00  3.03e+02 \n",
      " 66000| 1.99e-06  9.06e-07  9.15e-02  1.12e+01  3.76e+00  3.04e+02 \n",
      " 66250| 1.98e-06  9.03e-07  9.11e-02  1.12e+01  3.76e+00  3.05e+02 \n",
      " 66500| 1.97e-06  8.99e-07  9.08e-02  1.12e+01  3.76e+00  3.07e+02 \n",
      " 66750| 1.97e-06  8.96e-07  9.05e-02  1.12e+01  3.76e+00  3.08e+02 \n",
      " 67000| 1.96e-06  8.93e-07  9.01e-02  1.12e+01  3.76e+00  3.09e+02 \n",
      " 67250| 1.95e-06  8.89e-07  8.98e-02  1.12e+01  3.76e+00  3.10e+02 \n",
      " 67500| 1.95e-06  8.87e-07  8.95e-02  1.12e+01  3.76e+00  3.11e+02 \n",
      " 67750| 1.36e-04  1.52e-03  7.15e-02  1.13e+01  3.76e+00  3.12e+02 \n",
      " 68000| 1.93e-06  8.80e-07  8.89e-02  1.12e+01  3.76e+00  3.13e+02 \n",
      " 68250| 1.93e-06  8.77e-07  8.86e-02  1.12e+01  3.76e+00  3.15e+02 \n",
      " 68500| 1.92e-06  8.74e-07  8.83e-02  1.12e+01  3.76e+00  3.16e+02 \n",
      " 68750| 1.91e-06  8.71e-07  8.79e-02  1.12e+01  3.76e+00  3.17e+02 \n",
      " 69000| 1.91e-06  8.68e-07  8.76e-02  1.12e+01  3.76e+00  3.18e+02 \n",
      " 69250| 1.90e-06  8.65e-07  8.73e-02  1.12e+01  3.76e+00  3.19e+02 \n",
      " 69500| 1.89e-06  8.62e-07  8.70e-02  1.12e+01  3.76e+00  3.20e+02 \n",
      " 69750| 1.89e-06  8.59e-07  8.67e-02  1.12e+01  3.76e+00  3.21e+02 \n",
      " 70000| 1.88e-06  8.56e-07  8.64e-02  1.12e+01  3.76e+00  3.23e+02 \n",
      " 70250| 1.87e-06  8.53e-07  8.61e-02  1.12e+01  3.76e+00  3.24e+02 \n",
      " 70500| 1.34e-04  1.51e-03  7.25e-02  1.13e+01  3.76e+00  3.25e+02 \n",
      " 70750| 1.86e-06  8.47e-07  8.56e-02  1.12e+01  3.76e+00  3.26e+02 \n",
      " 71000| 1.85e-06  8.44e-07  8.53e-02  1.12e+01  3.76e+00  3.27e+02 \n",
      " 71250| 1.85e-06  8.42e-07  8.50e-02  1.12e+01  3.76e+00  3.28e+02 \n",
      " 71500| 1.84e-06  8.39e-07  8.47e-02  1.12e+01  3.76e+00  3.29e+02 \n",
      " 71750| 1.84e-06  8.36e-07  8.44e-02  1.12e+01  3.76e+00  3.31e+02 \n",
      " 72000| 1.83e-06  8.33e-07  8.41e-02  1.12e+01  3.76e+00  3.32e+02 \n",
      " 72250| 1.82e-06  8.31e-07  8.38e-02  1.12e+01  3.76e+00  3.33e+02 \n",
      " 72500| 1.82e-06  8.28e-07  8.36e-02  1.12e+01  3.76e+00  3.34e+02 \n",
      " 72750| 1.81e-06  8.25e-07  8.33e-02  1.12e+01  3.76e+00  3.35e+02 \n",
      " 73000| 1.81e-06  8.22e-07  8.30e-02  1.12e+01  3.76e+00  3.36e+02 \n",
      " 73250| 1.06e-04  1.19e-03  4.75e-02  1.13e+01  3.76e+00  3.37e+02 \n",
      " 73500| 1.79e-06  8.17e-07  8.25e-02  1.12e+01  3.76e+00  3.39e+02 \n",
      " 73750| 1.79e-06  8.14e-07  8.22e-02  1.12e+01  3.76e+00  3.40e+02 \n",
      " 74000| 1.78e-06  8.11e-07  8.19e-02  1.12e+01  3.76e+00  3.41e+02 \n",
      " 74250| 1.78e-06  8.09e-07  8.17e-02  1.12e+01  3.76e+00  3.42e+02 \n",
      " 74500| 1.77e-06  8.06e-07  8.14e-02  1.12e+01  3.76e+00  3.43e+02 \n",
      " 74750| 1.76e-06  8.04e-07  8.11e-02  1.12e+01  3.76e+00  3.44e+02 \n",
      " 75000| 1.76e-06  8.01e-07  8.09e-02  1.12e+01  3.76e+00  3.45e+02 \n",
      " 75250| 1.75e-06  7.99e-07  8.06e-02  1.12e+01  3.76e+00  3.47e+02 \n",
      " 75500| 1.75e-06  7.96e-07  8.04e-02  1.12e+01  3.76e+00  3.48e+02 \n",
      " 75750| 1.74e-06  7.93e-07  8.01e-02  1.12e+01  3.76e+00  3.49e+02 \n",
      " 76000| 9.99e-05  1.11e-03  4.33e-02  1.13e+01  3.76e+00  3.50e+02 \n",
      " 76250| 1.73e-06  7.88e-07  7.96e-02  1.12e+01  3.76e+00  3.51e+02 \n",
      " 76500| 1.73e-06  7.86e-07  7.94e-02  1.12e+01  3.76e+00  3.52e+02 \n",
      " 76750| 1.72e-06  7.84e-07  7.91e-02  1.12e+01  3.76e+00  3.53e+02 \n",
      " 77000| 1.71e-06  7.81e-07  7.89e-02  1.12e+01  3.76e+00  3.55e+02 \n",
      " 77250| 1.71e-06  7.79e-07  7.86e-02  1.12e+01  3.76e+00  3.56e+02 \n",
      " 77500| 1.70e-06  7.76e-07  7.84e-02  1.12e+01  3.76e+00  3.57e+02 \n",
      " 77750| 1.70e-06  7.74e-07  7.81e-02  1.12e+01  3.76e+00  3.58e+02 \n",
      " 78000| 1.69e-06  7.71e-07  7.79e-02  1.12e+01  3.76e+00  3.59e+02 \n",
      " 78250| 1.69e-06  7.69e-07  7.76e-02  1.12e+01  3.76e+00  3.60e+02 \n",
      " 78500| 1.68e-06  7.67e-07  7.74e-02  1.12e+01  3.76e+00  3.61e+02 \n",
      " 78750| 1.03e-04  1.15e-03  4.81e-02  1.13e+01  3.76e+00  3.63e+02 \n",
      " 79000| 1.67e-06  7.62e-07  7.69e-02  1.12e+01  3.76e+00  3.64e+02 \n",
      " 79250| 1.67e-06  7.60e-07  7.67e-02  1.12e+01  3.76e+00  3.65e+02 \n",
      " 79500| 1.66e-06  7.57e-07  7.65e-02  1.12e+01  3.76e+00  3.66e+02 \n",
      " 79750| 1.66e-06  7.55e-07  7.62e-02  1.12e+01  3.76e+00  3.67e+02 \n",
      " 80000| 1.65e-06  7.53e-07  7.60e-02  1.12e+01  3.76e+00  3.68e+02 \n",
      " 80250| 1.65e-06  7.51e-07  7.58e-02  1.12e+01  3.76e+00  3.69e+02 \n",
      " 80500| 1.64e-06  7.48e-07  7.55e-02  1.12e+01  3.76e+00  3.71e+02 \n",
      " 80750| 1.64e-06  7.46e-07  7.53e-02  1.12e+01  3.76e+00  3.72e+02 \n",
      " 81000| 1.63e-06  7.44e-07  7.51e-02  1.12e+01  3.76e+00  3.73e+02 \n",
      " 81250| 1.63e-06  7.42e-07  7.49e-02  1.12e+01  3.76e+00  3.74e+02 \n",
      " 81500| 8.30e-05  9.25e-04  3.03e-02  1.13e+01  3.76e+00  3.75e+02 \n",
      " 81750| 1.62e-06  7.37e-07  7.44e-02  1.12e+01  3.76e+00  3.76e+02 \n",
      " 82000| 1.61e-06  7.35e-07  7.42e-02  1.12e+01  3.76e+00  3.78e+02 \n",
      " 82250| 1.61e-06  7.33e-07  7.40e-02  1.12e+01  3.76e+00  3.79e+02 \n",
      " 82500| 1.60e-06  7.31e-07  7.38e-02  1.12e+01  3.76e+00  3.80e+02 \n",
      " 82750| 1.60e-06  7.28e-07  7.36e-02  1.12e+01  3.76e+00  3.81e+02 \n",
      " 83000| 1.59e-06  7.27e-07  7.33e-02  1.12e+01  3.76e+00  3.82e+02 \n",
      " 83250| 1.59e-06  7.24e-07  7.31e-02  1.12e+01  3.76e+00  3.83e+02 \n",
      " 83500| 1.59e-06  7.22e-07  7.29e-02  1.12e+01  3.76e+00  3.84e+02 \n",
      " 83750| 1.58e-06  7.20e-07  7.27e-02  1.12e+01  3.76e+00  3.86e+02 \n",
      " 84000| 1.58e-06  7.18e-07  7.25e-02  1.12e+01  3.76e+00  3.87e+02 \n",
      " 84250| 7.84e-05  8.70e-04  2.73e-02  1.13e+01  3.76e+00  3.88e+02 \n",
      " 84500| 1.57e-06  7.15e-07  7.21e-02  1.12e+01  3.76e+00  3.89e+02 \n",
      " 84750| 1.56e-06  7.12e-07  7.19e-02  1.12e+01  3.76e+00  3.90e+02 \n",
      " 85000| 1.56e-06  7.10e-07  7.17e-02  1.12e+01  3.76e+00  3.91e+02 \n",
      " 85250| 1.55e-06  7.08e-07  7.15e-02  1.12e+01  3.76e+00  3.92e+02 \n",
      " 85500| 1.55e-06  7.06e-07  7.13e-02  1.12e+01  3.76e+00  3.94e+02 \n",
      " 85750| 1.55e-06  7.04e-07  7.11e-02  1.12e+01  3.76e+00  3.95e+02 \n",
      " 86000| 1.54e-06  7.01e-07  7.09e-02  1.12e+01  3.76e+00  3.96e+02 \n",
      " 86250| 1.54e-06  7.00e-07  7.07e-02  1.12e+01  3.76e+00  3.97e+02 \n",
      " 86500| 1.53e-06  6.98e-07  7.05e-02  1.12e+01  3.76e+00  3.98e+02 \n",
      " 86750| 1.53e-06  6.96e-07  7.03e-02  1.12e+01  3.76e+00  3.99e+02 \n",
      " 87000| 8.07e-05  9.00e-04  3.12e-02  1.13e+01  3.76e+00  4.00e+02 \n",
      " 87250| 1.52e-06  6.92e-07  6.99e-02  1.12e+01  3.76e+00  4.02e+02 \n",
      " 87500| 1.52e-06  6.90e-07  6.97e-02  1.12e+01  3.76e+00  4.03e+02 \n",
      " 87750| 1.51e-06  6.88e-07  6.95e-02  1.12e+01  3.76e+00  4.04e+02 \n",
      " 88000| 1.51e-06  6.87e-07  6.93e-02  1.12e+01  3.76e+00  4.05e+02 \n",
      " 88250| 1.50e-06  6.84e-07  6.91e-02  1.12e+01  3.76e+00  4.06e+02 \n",
      " 88500| 1.50e-06  6.83e-07  6.89e-02  1.12e+01  3.76e+00  4.07e+02 \n",
      " 88750| 1.49e-06  6.81e-07  6.87e-02  1.12e+01  3.76e+00  4.08e+02 \n",
      " 89000| 1.49e-06  6.79e-07  6.86e-02  1.12e+01  3.76e+00  4.10e+02 \n",
      " 89250| 1.49e-06  6.77e-07  6.84e-02  1.12e+01  3.76e+00  4.11e+02 \n",
      " 89500| 1.48e-06  6.76e-07  6.82e-02  1.12e+01  3.76e+00  4.12e+02 \n",
      " 89750| 9.37e-05  1.05e-03  4.53e-02  1.13e+01  3.76e+00  4.13e+02 \n",
      " 90000| 1.47e-06  6.72e-07  6.78e-02  1.12e+01  3.76e+00  4.14e+02 \n",
      " 90250| 1.47e-06  6.70e-07  6.76e-02  1.12e+01  3.76e+00  4.15e+02 \n",
      " 90500| 1.47e-06  6.68e-07  6.74e-02  1.12e+01  3.76e+00  4.16e+02 \n",
      " 90750| 1.46e-06  6.66e-07  6.73e-02  1.12e+01  3.76e+00  4.18e+02 \n",
      " 91000| 1.46e-06  6.64e-07  6.71e-02  1.12e+01  3.76e+00  4.19e+02 \n",
      " 91250| 1.45e-06  6.63e-07  6.69e-02  1.12e+01  3.76e+00  4.20e+02 \n",
      " 91500| 1.45e-06  6.61e-07  6.67e-02  1.12e+01  3.76e+00  4.21e+02 \n",
      " 91750| 1.45e-06  6.59e-07  6.66e-02  1.12e+01  3.76e+00  4.22e+02 \n",
      " 92000| 1.44e-06  6.58e-07  6.64e-02  1.12e+01  3.76e+00  4.23e+02 \n",
      " 92250| 1.44e-06  6.55e-07  6.62e-02  1.12e+01  3.76e+00  4.24e+02 \n",
      " 92500| 9.34e-05  1.05e-03  4.63e-02  1.13e+01  3.76e+00  4.26e+02 \n",
      " 92750| 1.43e-06  6.52e-07  6.59e-02  1.12e+01  3.76e+00  4.27e+02 \n",
      " 93000| 1.43e-06  6.51e-07  6.57e-02  1.12e+01  3.76e+00  4.28e+02 \n",
      " 93250| 1.42e-06  6.49e-07  6.55e-02  1.12e+01  3.76e+00  4.29e+02 \n",
      " 93500| 1.42e-06  6.47e-07  6.53e-02  1.12e+01  3.76e+00  4.30e+02 \n",
      " 93750| 1.42e-06  6.45e-07  6.52e-02  1.12e+01  3.76e+00  4.31e+02 \n",
      " 94000| 1.41e-06  6.44e-07  6.50e-02  1.12e+01  3.76e+00  4.32e+02 \n",
      " 94250| 1.41e-06  6.42e-07  6.48e-02  1.12e+01  3.76e+00  4.34e+02 \n",
      " 94500| 1.41e-06  6.40e-07  6.47e-02  1.12e+01  3.76e+00  4.35e+02 \n",
      " 94750| 1.40e-06  6.39e-07  6.45e-02  1.12e+01  3.76e+00  4.36e+02 \n",
      " 95000| 1.40e-06  6.38e-07  6.43e-02  1.12e+01  3.76e+00  4.37e+02 \n",
      " 95250| 4.12e-05  4.49e-04  5.04e-03  1.13e+01  3.76e+00  4.38e+02 \n",
      " 95500| 1.39e-06  6.34e-07  6.40e-02  1.12e+01  3.76e+00  4.39e+02 \n",
      " 95750| 1.39e-06  6.33e-07  6.39e-02  1.12e+01  3.76e+00  4.41e+02 \n",
      " 96000| 1.38e-06  6.31e-07  6.37e-02  1.12e+01  3.76e+00  4.42e+02 \n",
      " 96250| 1.38e-06  6.29e-07  6.35e-02  1.12e+01  3.76e+00  4.43e+02 \n",
      " 96500| 1.38e-06  6.28e-07  6.34e-02  1.12e+01  3.76e+00  4.44e+02 \n",
      " 96750| 1.37e-06  6.27e-07  6.32e-02  1.12e+01  3.76e+00  4.45e+02 \n",
      " 97000| 1.37e-06  6.25e-07  6.31e-02  1.12e+01  3.76e+00  4.46e+02 \n",
      " 97250| 1.37e-06  6.23e-07  6.29e-02  1.12e+01  3.76e+00  4.47e+02 \n",
      " 97500| 1.36e-06  6.22e-07  6.27e-02  1.12e+01  3.76e+00  4.49e+02 \n",
      " 97750| 1.36e-06  6.20e-07  6.26e-02  1.12e+01  3.76e+00  4.50e+02 \n",
      " 98000| 2.67e-01  1.02e+00  2.23e+02 -1.01e+02  3.76e+00  4.51e+02 \n",
      " 98250| 1.35e-06  6.17e-07  6.23e-02  1.12e+01  3.76e+00  4.52e+02 \n",
      " 98500| 1.35e-06  6.15e-07  6.21e-02  1.12e+01  3.76e+00  4.53e+02 \n",
      " 98750| 1.35e-06  6.14e-07  6.20e-02  1.12e+01  3.76e+00  4.54e+02 \n",
      " 99000| 1.34e-06  6.12e-07  6.18e-02  1.12e+01  3.76e+00  4.55e+02 \n",
      " 99250| 1.34e-06  6.11e-07  6.17e-02  1.12e+01  3.76e+00  4.57e+02 \n",
      " 99500| 1.34e-06  6.09e-07  6.15e-02  1.12e+01  3.76e+00  4.58e+02 \n",
      " 99750| 1.33e-06  6.08e-07  6.14e-02  1.12e+01  3.76e+00  4.59e+02 \n",
      "100000| 1.33e-06  6.07e-07  6.12e-02  1.12e+01  3.76e+00  4.60e+02 \n",
      "------------------------------------------------------------------\n",
      "status:  solved (inaccurate - reached max_iters)\n",
      "timings: total: 4.60e+02s = setup: 5.11e-01s + solve: 4.59e+02s\n",
      "\t lin-sys: 2.57e+02s, cones: 5.82e+01s, accel: 1.52e+01s\n",
      "------------------------------------------------------------------\n",
      "objective = 11.247376 (inaccurate)\n",
      "------------------------------------------------------------------\n",
      "-------------------------------------------------------------------------------\n",
      "                                    Summary                                    \n",
      "-------------------------------------------------------------------------------\n",
      "(CVXPY) Apr 09 11:13:10 PM: Problem status: optimal_inaccurate\n",
      "(CVXPY) Apr 09 11:13:10 PM: Optimal value: nan\n",
      "(CVXPY) Apr 09 11:13:10 PM: Compilation took 2.150e-01 seconds\n",
      "(CVXPY) Apr 09 11:13:10 PM: Solver (including time spent in interface) took 4.599e+02 seconds\n"
     ]
    },
    {
     "name": "stderr",
     "output_type": "stream",
     "text": [
      "/opt/anaconda3/lib/python3.9/site-packages/cvxpy/problems/problem.py:1385: UserWarning: Solution may be inaccurate. Try another solver, adjusting the solver settings, or solve with verbose=True for more information.\n",
      "  warnings.warn(\n",
      "/opt/anaconda3/lib/python3.9/site-packages/cvxpy/atoms/elementwise/power.py:181: RuntimeWarning: invalid value encountered in power\n",
      "  return np.power(values[0], float(self.p.value))\n"
     ]
    }
   ],
   "source": [
    "v = 0.5\n",
    "w1 = vertices(3)\n",
    "w2 = vertices_v2(5)\n",
    "c = 10\n",
    "k = partial(Gaussian_kernel, sigma2=10)\n",
    "model = mdwsvm_ad(X_train_2, y_train_2, w1, w2, c, v, k)"
   ]
  },
  {
   "cell_type": "code",
   "execution_count": 105,
   "metadata": {},
   "outputs": [],
   "source": [
    "G = model.K(model.X, X_test_2)\n",
    "\n",
    "g = model.d + model.e\n",
    "W = model.W\n",
    "W_y = model.W[:,model.y]\n",
    "\n",
    "constant = np.zeros(model.k)\n",
    "index = np.where((model.e > 0) & (model.e < (1-model.alp)*model.C/(model.v*model.N_y)))[0]\n",
    "for i in range(model.k):\n",
    "    selected_index = index[np.argmax(model.y[index] == i)]\n",
    "    selected_G = model.K(model.X, model.X[:,selected_index].reshape(-1,1))\n",
    "    constant[i] = 1 - W[:,i].T @ (np.diag(g) @ W_y.T).T @ selected_G\n",
    "\n",
    "constant_y = constant[model.y]\n",
    "constant = np.concatenate([constant, [np.dot(model.e, constant_y) / ((1-model.alp)*model.C)]]).reshape((-1,1))\n",
    "\n",
    "y = np.argmax(W.T @ ((np.diag(g) @ W_y.T).T @ G) + constant, axis=0)"
   ]
  },
  {
   "cell_type": "code",
   "execution_count": 106,
   "metadata": {},
   "outputs": [
    {
     "data": {
      "text/plain": [
       "(array([1, 2]), array([117, 856]))"
      ]
     },
     "execution_count": 106,
     "metadata": {},
     "output_type": "execute_result"
    }
   ],
   "source": [
    "np.unique(y, return_counts=True)"
   ]
  },
  {
   "cell_type": "code",
   "execution_count": 88,
   "metadata": {},
   "outputs": [],
   "source": [
    "y_pred = model.predict(X_test_2)"
   ]
  },
  {
   "cell_type": "code",
   "execution_count": 107,
   "metadata": {},
   "outputs": [
    {
     "data": {
      "text/plain": [
       "(array([2]), array([192]))"
      ]
     },
     "execution_count": 107,
     "metadata": {},
     "output_type": "execute_result"
    }
   ],
   "source": [
    "np.unique(y[y_test_2 == 0], return_counts=True)"
   ]
  },
  {
   "cell_type": "code",
   "execution_count": 108,
   "metadata": {},
   "outputs": [
    {
     "data": {
      "text/plain": [
       "(array([1, 2]), array([117,  92]))"
      ]
     },
     "execution_count": 108,
     "metadata": {},
     "output_type": "execute_result"
    }
   ],
   "source": [
    "np.unique(y[y_test_2 == 1], return_counts=True)"
   ]
  },
  {
   "cell_type": "code",
   "execution_count": 90,
   "metadata": {},
   "outputs": [
    {
     "data": {
      "text/plain": [
       "(array([], dtype=int64), array([], dtype=int64))"
      ]
     },
     "execution_count": 90,
     "metadata": {},
     "output_type": "execute_result"
    }
   ],
   "source": [
    "np.unique(y_pred[y_test_2 == 2], return_counts=True)"
   ]
  },
  {
   "cell_type": "code",
   "execution_count": 66,
   "metadata": {},
   "outputs": [
    {
     "data": {
      "text/plain": [
       "(array([], dtype=int64), array([], dtype=int64))"
      ]
     },
     "execution_count": 66,
     "metadata": {},
     "output_type": "execute_result"
    }
   ],
   "source": [
    "np.unique(y_pred[y_test_2 == 3], return_counts=True)"
   ]
  },
  {
   "cell_type": "code",
   "execution_count": 109,
   "metadata": {},
   "outputs": [
    {
     "data": {
      "text/plain": [
       "(array([2]), array([572]))"
      ]
     },
     "execution_count": 109,
     "metadata": {},
     "output_type": "execute_result"
    }
   ],
   "source": [
    "np.unique(y[y_test_2 == 46], return_counts=True)"
   ]
  },
  {
   "cell_type": "code",
   "execution_count": 92,
   "metadata": {},
   "outputs": [
    {
     "data": {
      "text/plain": [
       "(array([0, 1]), array([223, 750]))"
      ]
     },
     "execution_count": 92,
     "metadata": {},
     "output_type": "execute_result"
    }
   ],
   "source": [
    "np.unique(y_pred, return_counts=True)"
   ]
  },
  {
   "cell_type": "code",
   "execution_count": 34,
   "metadata": {},
   "outputs": [],
   "source": [
    "x = X_test_2[:, np.where(y_test_2 == 46)[0][0]]"
   ]
  },
  {
   "cell_type": "code",
   "execution_count": 35,
   "metadata": {},
   "outputs": [
    {
     "data": {
      "image/png": "[encoded data removed]",
      "text/plain": [
       "<Figure size 640x480 with 1 Axes>"
      ]
     },
     "metadata": {},
     "output_type": "display_data"
    }
   ],
   "source": [
    "plt.imshow(np.reshape(x, (28,28)), cmap=\"Greys\")\n",
    "plt.show()"
   ]
  },
  {
   "cell_type": "code",
   "execution_count": 6,
   "metadata": {},
   "outputs": [],
   "source": [
    "v = 1\n",
    "w = vertices(2)\n",
    "c = 10\n",
    "k = partial(Gaussian_kernel, sigma2=10)\n",
    "y_pred = hybrid(X_train_2, y_train_2, X_test_2, v, w, c, k)"
   ]
  },
  {
   "cell_type": "code",
   "execution_count": 19,
   "metadata": {},
   "outputs": [
    {
     "data": {
      "text/plain": [
       "0.8277511961722488"
      ]
     },
     "execution_count": 19,
     "metadata": {},
     "output_type": "execute_result"
    }
   ],
   "source": [
    "within_class_error(y_test_2, y_pred)"
   ]
  },
  {
   "cell_type": "code",
   "execution_count": 16,
   "metadata": {},
   "outputs": [],
   "source": [
    "y_test_2 = y_test_2 + 1"
   ]
  },
  {
   "cell_type": "code",
   "execution_count": 20,
   "metadata": {},
   "outputs": [
    {
     "data": {
      "text/plain": [
       "(array([-1,  0]), array([101, 108]))"
      ]
     },
     "execution_count": 20,
     "metadata": {},
     "output_type": "execute_result"
    }
   ],
   "source": [
    "np.unique(y_pred[y_test_2 == 0], return_counts=True)"
   ]
  },
  {
   "cell_type": "code",
   "execution_count": 21,
   "metadata": {},
   "outputs": [
    {
     "data": {
      "text/plain": [
       "(array([-1]), array([192]))"
      ]
     },
     "execution_count": 21,
     "metadata": {},
     "output_type": "execute_result"
    }
   ],
   "source": [
    "np.unique(y_pred[y_test_2 == 1], return_counts=True)"
   ]
  },
  {
   "cell_type": "code",
   "execution_count": 22,
   "metadata": {},
   "outputs": [
    {
     "data": {
      "text/plain": [
       "(array([-1]), array([572]))"
      ]
     },
     "execution_count": 22,
     "metadata": {},
     "output_type": "execute_result"
    }
   ],
   "source": [
    "np.unique(y_pred[y_test_2 == 45], return_counts=True)"
   ]
  },
  {
   "cell_type": "code",
   "execution_count": 13,
   "metadata": {},
   "outputs": [],
   "source": [
    "k = partial(Gaussian_kernel, sigma2=10)\n",
    "model = one_class_svm(X_test_2, v=0.1, K=k)"
   ]
  },
  {
   "cell_type": "code",
   "execution_count": 1,
   "metadata": {},
   "outputs": [],
   "source": [
    "from sklearn import svm"
   ]
  },
  {
   "cell_type": "code",
   "execution_count": 5,
   "metadata": {},
   "outputs": [],
   "source": [
    "model = svm.OneClassSVM(kernel='rbf', gamma='scale', nu=0.2)\n",
    "model.fit(X_test)\n",
    "y_pred = model.predict(X_test)"
   ]
  }
 ],
 "metadata": {
  "kernelspec": {
   "display_name": "base",
   "language": "python",
   "name": "python3"
  },
  "language_info": {
   "codemirror_mode": {
    "name": "ipython",
    "version": 3
   },
   "file_extension": ".py",
   "mimetype": "text/x-python",
   "name": "python",
   "nbconvert_exporter": "python",
   "pygments_lexer": "ipython3",
   "version": "3.9.16"
  },
  "orig_nbformat": 4
 },
 "nbformat": 4,
 "nbformat_minor": 2
}
