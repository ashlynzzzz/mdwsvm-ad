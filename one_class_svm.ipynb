{
 "cells": [
  {
   "cell_type": "code",
   "execution_count": 1,
   "metadata": {},
   "outputs": [],
   "source": [
    "import numpy as np\n",
    "import matplotlib.pyplot as plt\n",
    "from emnist import extract_training_samples\n",
    "from functools import partial\n",
    "\n",
    "from vertices_generator import vertices\n",
    "from kernel import Gaussian_kernel\n",
    "from mdwsvm_ad import mdwsvm_ad\n",
    "from mdwsvm import mdwsvm\n",
    "from one_class_svm import one_class_svm\n",
    "from hybrid import hybrid\n",
    "from metric import within_class_error"
   ]
  },
  {
   "cell_type": "code",
   "execution_count": 2,
   "metadata": {},
   "outputs": [],
   "source": [
    "# Load data\n",
    "digits_images, digits_labels = extract_training_samples('digits')\n",
    "letters_images, letters_labels = extract_training_samples('byclass')\n",
    "\n",
    "X_train = np.zeros((4000,28,28))\n",
    "y_train = np.zeros((4000), dtype=int)\n",
    "X_test = np.zeros((40000,28,28))\n",
    "y_test = np.zeros((40000), dtype=int)\n",
    "\n",
    "# 4000 digits normalized training data \n",
    "X_train[0:4000,:,:] = digits_images[0:4000,:,:] / 255\n",
    "X_train = X_train.reshape(4000,784).T \n",
    "y_train[0:4000] = digits_labels[0:4000] # 4000 digits training label\n",
    "\n",
    "# Get 2000 digits for test X\n",
    "X_test[0:2000,:,:] = digits_images[4000:6000,:,:] / 255\n",
    "y_test[0:2000] = digits_labels[4000:6000]\n",
    "# Get 38000 lowercase letters\n",
    "count = 2000\n",
    "current_i = 0\n",
    "while True:\n",
    "    if count == 40000:\n",
    "        break\n",
    "\n",
    "    if(letters_labels[current_i] >= 36): # Get lower case letter\n",
    "        X_test[count,:,:] = letters_images[current_i,:,:] / 255\n",
    "        y_test[count] = letters_labels[current_i]\n",
    "        count += 1\n",
    "\n",
    "    current_i += 1\n",
    "# 2000 digits and 38000 letters normalized data, 0-9 are 0-9, 36-61 are a-z\n",
    "X_test = X_test.reshape(40000,784).T"
   ]
  },
  {
   "cell_type": "code",
   "execution_count": 5,
   "metadata": {},
   "outputs": [],
   "source": [
    "index_train = np.concatenate([np.where(y_train == 1)[0], np.where(y_train == 2)[0]])\n",
    "X_train_2 = X_train[:, index_train]\n",
    "y_train_2 = y_train[index_train] - 1\n",
    "\n",
    "index_test = np.concatenate([np.where(y_test == 1)[0], np.where(y_test == 2)[0], np.where(y_test == 46)[0]])\n",
    "X_test_2 = X_test[:, index_test]\n",
    "y_test_2 = y_test[index_test] - 1"
   ]
  },
  {
   "cell_type": "code",
   "execution_count": 18,
   "metadata": {},
   "outputs": [],
   "source": [
    "v = 1\n",
    "w = vertices(2)\n",
    "c = 10\n",
    "k = partial(Gaussian_kernel, sigma2=10)\n",
    "y_pred = hybrid(X_train_2, y_train_2, X_test_2, v, w, c, k)"
   ]
  },
  {
   "cell_type": "code",
   "execution_count": 19,
   "metadata": {},
   "outputs": [
    {
     "data": {
      "text/plain": [
       "0.8277511961722488"
      ]
     },
     "execution_count": 19,
     "metadata": {},
     "output_type": "execute_result"
    }
   ],
   "source": [
    "within_class_error(y_test_2, y_pred)"
   ]
  },
  {
   "cell_type": "code",
   "execution_count": 20,
   "metadata": {},
   "outputs": [
    {
     "data": {
      "text/plain": [
       "(array([-1,  0]), array([101, 108]))"
      ]
     },
     "execution_count": 20,
     "metadata": {},
     "output_type": "execute_result"
    }
   ],
   "source": [
    "np.unique(y_pred[y_test_2 == 0], return_counts=True)"
   ]
  },
  {
   "cell_type": "code",
   "execution_count": 21,
   "metadata": {},
   "outputs": [
    {
     "data": {
      "text/plain": [
       "(array([-1]), array([192]))"
      ]
     },
     "execution_count": 21,
     "metadata": {},
     "output_type": "execute_result"
    }
   ],
   "source": [
    "np.unique(y_pred[y_test_2 == 1], return_counts=True)"
   ]
  },
  {
   "cell_type": "code",
   "execution_count": 22,
   "metadata": {},
   "outputs": [
    {
     "data": {
      "text/plain": [
       "(array([-1]), array([572]))"
      ]
     },
     "execution_count": 22,
     "metadata": {},
     "output_type": "execute_result"
    }
   ],
   "source": [
    "np.unique(y_pred[y_test_2 == 45], return_counts=True)"
   ]
  },
  {
   "cell_type": "code",
   "execution_count": 5,
   "metadata": {},
   "outputs": [
    {
     "name": "stdout",
     "output_type": "stream",
     "text": [
      "[[-1.13686838e-13  1.14857193e+02  1.04279047e+02 ...  9.84472280e+01\n",
      "   1.30978839e+02  8.61607382e+01]\n",
      " [ 1.14857193e+02  0.00000000e+00  1.46941207e+02 ...  1.33740377e+02\n",
      "   8.85964475e+01  1.37503376e+02]\n",
      " [ 1.04279047e+02  1.46941207e+02 -1.13686838e-13 ...  1.12470527e+02\n",
      "   1.00850104e+02  8.59885121e+01]\n",
      " ...\n",
      " [ 9.84472280e+01  1.33740377e+02  1.12470527e+02 ... -2.84217094e-14\n",
      "   1.12636955e+02  1.45572211e+02]\n",
      " [ 1.30978839e+02  8.85964475e+01  1.00850104e+02 ...  1.12636955e+02\n",
      "  -2.84217094e-14  1.28390111e+02]\n",
      " [ 8.61607382e+01  1.37503376e+02  8.59885121e+01 ...  1.45572211e+02\n",
      "   1.28390111e+02 -1.70530257e-13]]\n"
     ]
    },
    {
     "ename": "",
     "evalue": "",
     "output_type": "error",
     "traceback": [
      "\u001b[1;31mCanceled future for execute_request message before replies were done"
     ]
    },
    {
     "ename": "",
     "evalue": "",
     "output_type": "error",
     "traceback": [
      "\u001b[1;31mThe Kernel crashed while executing code in the the current cell or a previous cell. Please review the code in the cell(s) to identify a possible cause of the failure. Click <a href='https://aka.ms/vscodeJupyterKernelCrash'>here</a> for more info. View Jupyter <a href='command:jupyter.viewOutput'>log</a> for further details."
     ]
    }
   ],
   "source": [
    "k = partial(Gaussian_kernel, sigma2=10)\n",
    "model = one_class_svm(X_test, v=0.1, K=k)"
   ]
  },
  {
   "cell_type": "code",
   "execution_count": 1,
   "metadata": {},
   "outputs": [],
   "source": [
    "from sklearn import svm"
   ]
  },
  {
   "cell_type": "code",
   "execution_count": 5,
   "metadata": {},
   "outputs": [],
   "source": [
    "model = svm.OneClassSVM(kernel='rbf', gamma='scale', nu=0.2)\n",
    "model.fit(X_test)\n",
    "y_pred = model.predict(X_test)"
   ]
  }
 ],
 "metadata": {
  "kernelspec": {
   "display_name": "base",
   "language": "python",
   "name": "python3"
  },
  "language_info": {
   "codemirror_mode": {
    "name": "ipython",
    "version": 3
   },
   "file_extension": ".py",
   "mimetype": "text/x-python",
   "name": "python",
   "nbconvert_exporter": "python",
   "pygments_lexer": "ipython3",
   "version": "3.9.16"
  },
  "orig_nbformat": 4
 },
 "nbformat": 4,
 "nbformat_minor": 2
}
