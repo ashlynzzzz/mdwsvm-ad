{
 "cells": [
  {
   "cell_type": "code",
   "execution_count": 16,
   "metadata": {},
   "outputs": [],
   "source": [
    "import numpy as np\n",
    "import matplotlib.pyplot as plt\n",
    "from emnist import extract_training_samples\n",
    "from functools import partial\n",
    "\n",
    "from vertices_generator import vertices\n",
    "from kernel import Gaussian_kernel\n",
    "from mdwsvm_ad import mdwsvm_ad\n",
    "from mdwsvm import mdwsvm\n",
    "from one_class_svm import one_class_svm\n",
    "from metric import within_class_error"
   ]
  },
  {
   "cell_type": "code",
   "execution_count": 2,
   "metadata": {},
   "outputs": [],
   "source": [
    "# Load data\n",
    "digits_images, digits_labels = extract_training_samples('digits')\n",
    "letters_images, letters_labels = extract_training_samples('byclass')\n",
    "\n",
    "X_train = np.zeros((4000,28,28))\n",
    "y_train = np.zeros((4000), dtype=int)\n",
    "X_test = np.zeros((40000,28,28))\n",
    "y_test = np.zeros((40000), dtype=int)\n",
    "\n",
    "# 4000 digits normalized training data \n",
    "X_train[0:4000,:,:] = digits_images[0:4000,:,:] / 255\n",
    "X_train = X_train.reshape(4000,784).T \n",
    "y_train[0:4000] = digits_labels[0:4000] # 4000 digits training label\n",
    "\n",
    "# Get 2000 digits for test X\n",
    "X_test[0:2000,:,:] = digits_images[4000:6000,:,:] / 255\n",
    "y_test[0:2000] = digits_labels[4000:6000]\n",
    "# Get 38000 lowercase letters\n",
    "count = 2000\n",
    "current_i = 0\n",
    "while True:\n",
    "    if count == 40000:\n",
    "        break\n",
    "\n",
    "    if(letters_labels[current_i] >= 36): # Get lower case letter\n",
    "        X_test[count,:,:] = letters_images[current_i,:,:] / 255\n",
    "        y_test[count] = letters_labels[current_i]\n",
    "        count += 1\n",
    "\n",
    "    current_i += 1\n",
    "# 2000 digits and 38000 letters normalized data, 0-9 are 0-9, 36-61 are a-z\n",
    "X_test = X_test.reshape(40000,784).T"
   ]
  },
  {
   "cell_type": "code",
   "execution_count": 3,
   "metadata": {},
   "outputs": [
    {
     "data": {
      "text/plain": [
       "(array([ 0,  1,  2,  3,  4,  5,  6,  7,  8,  9, 36, 37, 38, 39, 40, 41, 42,\n",
       "        43, 44, 45, 46, 47, 48, 49, 50, 51, 52, 53, 54, 55, 56, 57, 58, 59,\n",
       "        60, 61]),\n",
       " array([ 192,  209,  192,  192,  201,  214,  190,  201,  203,  206, 2302,\n",
       "        1184,  611, 2406, 5675,  565,  859, 2065,  667,  415,  572, 3558,\n",
       "         615, 2583,  618,  594,  681, 3198,  670, 4286,  682,  697,  640,\n",
       "         665,  525,  667]))"
      ]
     },
     "execution_count": 3,
     "metadata": {},
     "output_type": "execute_result"
    }
   ],
   "source": [
    "np.unique(y_test, return_counts=True)"
   ]
  },
  {
   "cell_type": "code",
   "execution_count": 11,
   "metadata": {},
   "outputs": [],
   "source": [
    "index_train = np.where(y_train <= 1)[0]\n",
    "X_train_2 = X_train[:, index_train]\n",
    "y_train_2 = y_train[index_train]\n",
    "\n",
    "index_test = np.append(np.where(y_test <= 1)[0], np.where(y_test == 46)[0])\n",
    "X_test_2 = X_test[:, index_test]\n",
    "y_test_2 = y_test[index_test]"
   ]
  },
  {
   "cell_type": "code",
   "execution_count": 13,
   "metadata": {},
   "outputs": [],
   "source": [
    "w = vertices(2)\n",
    "c = 10\n",
    "model = mdwsvm(X_train_2, y_train_2, w, c)\n",
    "y_pred = model.predict(X_test_2)"
   ]
  },
  {
   "cell_type": "code",
   "execution_count": 17,
   "metadata": {},
   "outputs": [
    {
     "data": {
      "text/plain": [
       "0.338400451887294"
      ]
     },
     "execution_count": 17,
     "metadata": {},
     "output_type": "execute_result"
    }
   ],
   "source": [
    "within_class_error(y_test_2, y_pred)"
   ]
  },
  {
   "cell_type": "code",
   "execution_count": 19,
   "metadata": {},
   "outputs": [
    {
     "data": {
      "text/plain": [
       "(array([0, 1]), array([190,   2]))"
      ]
     },
     "execution_count": 19,
     "metadata": {},
     "output_type": "execute_result"
    }
   ],
   "source": [
    "np.unique(y_pred[y_test_2 == 0], return_counts=True)"
   ]
  },
  {
   "cell_type": "code",
   "execution_count": 20,
   "metadata": {},
   "outputs": [
    {
     "data": {
      "text/plain": [
       "(array([0, 1]), array([  1, 208]))"
      ]
     },
     "execution_count": 20,
     "metadata": {},
     "output_type": "execute_result"
    }
   ],
   "source": [
    "np.unique(y_pred[y_test_2 == 1], return_counts=True)"
   ]
  },
  {
   "cell_type": "code",
   "execution_count": 21,
   "metadata": {},
   "outputs": [
    {
     "data": {
      "text/plain": [
       "(array([0, 1]), array([1765,  537]))"
      ]
     },
     "execution_count": 21,
     "metadata": {},
     "output_type": "execute_result"
    }
   ],
   "source": [
    "np.unique(y_pred[y_test_2 == 36], return_counts=True)"
   ]
  }
 ],
 "metadata": {
  "kernelspec": {
   "display_name": "base",
   "language": "python",
   "name": "python3"
  },
  "language_info": {
   "codemirror_mode": {
    "name": "ipython",
    "version": 3
   },
   "file_extension": ".py",
   "mimetype": "text/x-python",
   "name": "python",
   "nbconvert_exporter": "python",
   "pygments_lexer": "ipython3",
   "version": "3.9.16"
  },
  "orig_nbformat": 4
 },
 "nbformat": 4,
 "nbformat_minor": 2
}
