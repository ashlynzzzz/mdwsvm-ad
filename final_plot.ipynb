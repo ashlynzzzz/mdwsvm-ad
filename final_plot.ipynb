{
 "cells": [
  {
   "cell_type": "code",
   "execution_count": 10,
   "metadata": {},
   "outputs": [],
   "source": [
    "import numpy as np\n",
    "import pandas as pd\n",
    "import matplotlib.pyplot as plt\n",
    "from emnist import extract_training_samples\n",
    "from sklearn.utils import shuffle\n",
    "from functools import partial\n",
    "import time\n",
    "\n",
    "from vertices_generator import vertices\n",
    "from kernel import Gaussian_kernel\n",
    "from mdwsvm import mdwsvm\n",
    "from mdwsvm_ad import mdwsvm_ad\n",
    "from one_class_svm import one_class_svm\n",
    "from hybrid import hybrid\n",
    "from metric import within_class_error"
   ]
  },
  {
   "cell_type": "code",
   "execution_count": 2,
   "metadata": {},
   "outputs": [
    {
     "name": "stdout",
     "output_type": "stream",
     "text": [
      "16349\n"
     ]
    }
   ],
   "source": [
    "# Load data\n",
    "digits_images, digits_labels = extract_training_samples('digits')\n",
    "letters_images, letters_labels = extract_training_samples('byclass')\n",
    "\n",
    "# Get number \n",
    "mask_1 = (digits_labels == 1)\n",
    "digits_images_1 = digits_images[mask_1]\n",
    "digits_labels_1 = digits_labels[mask_1]\n",
    "\n",
    "mask_3 = (digits_labels == 3)\n",
    "digits_images_3 = digits_images[mask_3]\n",
    "digits_labels_3 = digits_labels[mask_3]\n",
    "\n",
    "mask_5 = (digits_labels == 5)\n",
    "digits_images_5 = digits_images[mask_5]\n",
    "digits_labels_5 = digits_labels[mask_5]\n",
    "\n",
    "mask_7 = (digits_labels == 7)\n",
    "digits_images_7 = digits_images[mask_7]\n",
    "digits_labels_7 = digits_labels[mask_7]\n",
    "\n",
    "\n",
    "# Get letter u, v, w, x, y, z\n",
    "mask_uvwxyz = (letters_labels == 56) | (letters_labels == 57) | (letters_labels == 58) | (letters_labels == 59) | (letters_labels == 60) | (letters_labels == 61)\n",
    "letters_images = letters_images[mask_uvwxyz]\n",
    "letters_labels = letters_labels[mask_uvwxyz]\n",
    "print(len(letters_labels))"
   ]
  },
  {
   "cell_type": "code",
   "execution_count": 3,
   "metadata": {},
   "outputs": [],
   "source": [
    "# Get training and testing data\n",
    "X_train = np.zeros((800,28,28))\n",
    "y_train = np.zeros((800), dtype=int)\n",
    "X_val = np.zeros((8000,28,28))\n",
    "y_val = np.zeros((8000), dtype=int)\n",
    "X_test = np.zeros((8000,28,28))\n",
    "y_test = np.zeros((8000), dtype=int)\n",
    "\n",
    "# 800 digits normalized training data \n",
    "X_train[0:150,:,:] = digits_images_1[0:150,:,:] / 255\n",
    "X_train[150:300,:,:] = digits_images_3[0:150,:,:] / 255\n",
    "X_train[300:550,:,:] = digits_images_5[0:250,:,:] / 255\n",
    "X_train[550:800,:,:] = digits_images_7[0:250,:,:] / 255\n",
    "X_train = X_train.reshape(800,784).T \n",
    "# 800 digits training label\n",
    "y_train[0:150] = digits_labels_1[0:150] - 1\n",
    "y_train[150:300] = digits_labels_3[0:150] - 2\n",
    "y_train[300:550] = digits_labels_5[0:250] - 3\n",
    "y_train[550:800] = digits_labels_7[0:250] - 4\n",
    "\n",
    "# Used for hybrid\n",
    "# Get 400 digits for validation X\n",
    "X_val[0:100,:,:] = digits_images_1[1000:1100,:,:] / 255\n",
    "X_val[100:200,:,:] = digits_images_3[1000:1100,:,:] / 255\n",
    "X_val[200:300,:,:] = digits_images_5[1000:1100,:,:] / 255\n",
    "X_val[300:400,:,:] = digits_images_7[1000:1100,:,:] / 255\n",
    "# 400 digits validation label\n",
    "y_val[0:100] = digits_labels_1[1000:1100] - 1\n",
    "y_val[100:200] = digits_labels_3[1000:1100] - 2\n",
    "y_val[200:300] = digits_labels_5[1000:1100] - 3\n",
    "y_val[300:400] = digits_labels_7[1000:1100] - 4\n",
    "# Get 7600 lowercase letters\n",
    "X_val[400:8000,:,:] = letters_images[0:7600,:,:] / 255\n",
    "y_val[400:8000] = letters_labels[0:7600]\n",
    "# Get true y label to calculate hybrid error\n",
    "y_val_true_hybrid = -np.ones((8000), dtype=int)\n",
    "y_val_true_hybrid[0:400] = y_val[0:400]\n",
    "# Get true y label to calculate mdwsvm_ad error\n",
    "y_val_true_mdwsvm_ad = 4 * np.ones((8000), dtype=int)\n",
    "y_val_true_mdwsvm_ad[0:400] = y_val[0:400]\n",
    "# 400 digits and 7600 letters normalized data\n",
    "X_val = X_val.reshape(8000,784).T\n",
    "\n",
    "# Get 400 digits for test X\n",
    "X_test[0:100,:,:] = digits_images_1[1100:1200,:,:] / 255\n",
    "X_test[100:200,:,:] = digits_images_3[1100:1200,:,:] / 255\n",
    "X_test[200:300,:,:] = digits_images_5[1100:1200,:,:] / 255\n",
    "X_test[300:400,:,:] = digits_images_7[1100:1200,:,:] / 255\n",
    "# 400 digits test label\n",
    "y_test[0:100] = digits_labels_1[1100:1200] - 1\n",
    "y_test[100:200] = digits_labels_3[1100:1200] - 2\n",
    "y_test[200:300] = digits_labels_5[1100:1200] - 3\n",
    "y_test[300:400] = digits_labels_7[1100:1200] - 4\n",
    "# Get 7600 lowercase letters\n",
    "X_test[400:8000,:,:] = letters_images[8000:15600,:,:] / 255\n",
    "y_test[400:8000] = letters_labels[8000:15600]\n",
    "# Get true y label to calculate hybrid error\n",
    "y_test_true_hybrid = -np.ones((8000), dtype=int)\n",
    "y_test_true_hybrid[0:400] = y_test[0:400]\n",
    "# Get true y label to calculate mdwsvm_ad error\n",
    "y_test_true_mdwsvm_ad = 4 * np.ones((8000), dtype=int)\n",
    "y_test_true_mdwsvm_ad[0:400] = y_test[0:400]\n",
    "# 400 digits and 7600 letters normalized data\n",
    "X_test = X_test.reshape(8000,784).T\n",
    "\n",
    "# y_test: 0,1,2,3,56-61\n",
    "# y_test_true_hybrid: -1,0,1,2,3\n",
    "# y_test_true_mdwsvm_ad: 0,1,2,3,4"
   ]
  },
  {
   "cell_type": "code",
   "execution_count": 4,
   "metadata": {},
   "outputs": [
    {
     "name": "stdout",
     "output_type": "stream",
     "text": [
      "The error is 0.636\n"
     ]
    }
   ],
   "source": [
    "# MDWSVM\n",
    "w1 = vertices(4)\n",
    "best_c = 1\n",
    "model1 = mdwsvm(X_train, y_train, w1, best_c)\n",
    "y_pred_1 = model1.predict(X_test)\n",
    "print('The error is', within_class_error(y_test, y_pred_1))"
   ]
  },
  {
   "cell_type": "code",
   "execution_count": null,
   "metadata": {},
   "outputs": [],
   "source": [
    "result_1 = pd.crosstab(y_test, y_pred_1, rownames=['True label'], colnames=['Predicted label'])\n",
    "result_1.rename(index={56:'u', 57:'v', 58:'w', 59:'x', 60:'y', 61:'z'}, inplace=True)\n",
    "result_1 = result_1.div(result_1.sum(axis=1), axis=0)\n",
    "result_1.applymap(lambda x: '{:.2%}'.format(x))"
   ]
  },
  {
   "cell_type": "code",
   "execution_count": 12,
   "metadata": {},
   "outputs": [
    {
     "name": "stdout",
     "output_type": "stream",
     "text": [
      "The error is 0.5054999999999998\n"
     ]
    }
   ],
   "source": [
    "# Hybrid\n",
    "best_sigma2 = 0.1\n",
    "best_v = 0.3\n",
    "best_c = 1\n",
    "best_k = partial(Gaussian_kernel, sigma2=best_sigma2)\n",
    "y_pred_2 = hybrid(X_train, y_train, X_test, best_v, w1, best_c, best_k)\n",
    "print('The error is', within_class_error(y_test_true_hybrid, y_pred_2))"
   ]
  },
  {
   "cell_type": "code",
   "execution_count": 6,
   "metadata": {},
   "outputs": [
    {
     "data": {
      "text/plain": [
       "(array([-1,  0,  1,  2,  3]),\n",
       " array([6086,  298,   99, 1114,  403], dtype=int64))"
      ]
     },
     "execution_count": 6,
     "metadata": {},
     "output_type": "execute_result"
    }
   ],
   "source": [
    "np.unique(y_pred_2, return_counts=True)"
   ]
  },
  {
   "cell_type": "code",
   "execution_count": 13,
   "metadata": {},
   "outputs": [
    {
     "data": {
      "text/html": [
       "<div>\n",
       "<style scoped>\n",
       "    .dataframe tbody tr th:only-of-type {\n",
       "        vertical-align: middle;\n",
       "    }\n",
       "\n",
       "    .dataframe tbody tr th {\n",
       "        vertical-align: top;\n",
       "    }\n",
       "\n",
       "    .dataframe thead th {\n",
       "        text-align: right;\n",
       "    }\n",
       "</style>\n",
       "<table border=\"1\" class=\"dataframe\">\n",
       "  <thead>\n",
       "    <tr style=\"text-align: right;\">\n",
       "      <th>Predicted label</th>\n",
       "      <th>-1</th>\n",
       "      <th>0</th>\n",
       "      <th>1</th>\n",
       "      <th>2</th>\n",
       "      <th>3</th>\n",
       "    </tr>\n",
       "    <tr>\n",
       "      <th>True label</th>\n",
       "      <th></th>\n",
       "      <th></th>\n",
       "      <th></th>\n",
       "      <th></th>\n",
       "      <th></th>\n",
       "    </tr>\n",
       "  </thead>\n",
       "  <tbody>\n",
       "    <tr>\n",
       "      <th>0</th>\n",
       "      <td>39.00%</td>\n",
       "      <td>58.00%</td>\n",
       "      <td>0.00%</td>\n",
       "      <td>2.00%</td>\n",
       "      <td>1.00%</td>\n",
       "    </tr>\n",
       "    <tr>\n",
       "      <th>1</th>\n",
       "      <td>48.00%</td>\n",
       "      <td>0.00%</td>\n",
       "      <td>49.00%</td>\n",
       "      <td>3.00%</td>\n",
       "      <td>0.00%</td>\n",
       "    </tr>\n",
       "    <tr>\n",
       "      <th>2</th>\n",
       "      <td>51.00%</td>\n",
       "      <td>1.00%</td>\n",
       "      <td>8.00%</td>\n",
       "      <td>40.00%</td>\n",
       "      <td>0.00%</td>\n",
       "    </tr>\n",
       "    <tr>\n",
       "      <th>3</th>\n",
       "      <td>49.00%</td>\n",
       "      <td>0.00%</td>\n",
       "      <td>0.00%</td>\n",
       "      <td>0.00%</td>\n",
       "      <td>51.00%</td>\n",
       "    </tr>\n",
       "    <tr>\n",
       "      <th>u</th>\n",
       "      <td>43.76%</td>\n",
       "      <td>2.32%</td>\n",
       "      <td>0.90%</td>\n",
       "      <td>44.14%</td>\n",
       "      <td>8.89%</td>\n",
       "    </tr>\n",
       "    <tr>\n",
       "      <th>v</th>\n",
       "      <td>56.22%</td>\n",
       "      <td>2.41%</td>\n",
       "      <td>0.53%</td>\n",
       "      <td>24.94%</td>\n",
       "      <td>15.90%</td>\n",
       "    </tr>\n",
       "    <tr>\n",
       "      <th>w</th>\n",
       "      <td>41.59%</td>\n",
       "      <td>5.82%</td>\n",
       "      <td>0.00%</td>\n",
       "      <td>52.27%</td>\n",
       "      <td>0.32%</td>\n",
       "    </tr>\n",
       "    <tr>\n",
       "      <th>x</th>\n",
       "      <td>54.14%</td>\n",
       "      <td>7.30%</td>\n",
       "      <td>3.50%</td>\n",
       "      <td>28.97%</td>\n",
       "      <td>6.08%</td>\n",
       "    </tr>\n",
       "    <tr>\n",
       "      <th>y</th>\n",
       "      <td>59.04%</td>\n",
       "      <td>9.23%</td>\n",
       "      <td>4.24%</td>\n",
       "      <td>10.15%</td>\n",
       "      <td>17.34%</td>\n",
       "    </tr>\n",
       "    <tr>\n",
       "      <th>z</th>\n",
       "      <td>41.95%</td>\n",
       "      <td>4.30%</td>\n",
       "      <td>9.84%</td>\n",
       "      <td>30.31%</td>\n",
       "      <td>13.59%</td>\n",
       "    </tr>\n",
       "  </tbody>\n",
       "</table>\n",
       "</div>"
      ],
      "text/plain": [
       "Predicted label      -1       0       1       2       3\n",
       "True label                                             \n",
       "0                39.00%  58.00%   0.00%   2.00%   1.00%\n",
       "1                48.00%   0.00%  49.00%   3.00%   0.00%\n",
       "2                51.00%   1.00%   8.00%  40.00%   0.00%\n",
       "3                49.00%   0.00%   0.00%   0.00%  51.00%\n",
       "u                43.76%   2.32%   0.90%  44.14%   8.89%\n",
       "v                56.22%   2.41%   0.53%  24.94%  15.90%\n",
       "w                41.59%   5.82%   0.00%  52.27%   0.32%\n",
       "x                54.14%   7.30%   3.50%  28.97%   6.08%\n",
       "y                59.04%   9.23%   4.24%  10.15%  17.34%\n",
       "z                41.95%   4.30%   9.84%  30.31%  13.59%"
      ]
     },
     "execution_count": 13,
     "metadata": {},
     "output_type": "execute_result"
    }
   ],
   "source": [
    "true_label_2 = [0, 1, 2, 3, 'u', 'v', 'w', 'x', 'y', 'z']\n",
    "result_2 = pd.crosstab(y_test, y_pred_2, rownames=['True label'], colnames=['Predicted label'])\n",
    "result_2.rename(index={56:'u', 57:'v', 58:'w', 59:'x', 60:'y', 61:'z'}, inplace=True)\n",
    "result_2 = result_2.div(result_2.sum(axis=1), axis=0)\n",
    "result_2.applymap(lambda x: '{:.2%}'.format(x))"
   ]
  },
  {
   "cell_type": "code",
   "execution_count": 7,
   "metadata": {},
   "outputs": [
    {
     "ename": "KeyboardInterrupt",
     "evalue": "",
     "output_type": "error",
     "traceback": [
      "\u001b[1;31m---------------------------------------------------------------------------\u001b[0m",
      "\u001b[1;31mKeyboardInterrupt\u001b[0m                         Traceback (most recent call last)",
      "\u001b[1;32md:\\研究生\\研一\\下学期\\EECS553\\project\\mdwsvm-ad\\final_plot.ipynb Cell 9\u001b[0m in \u001b[0;36m<cell line: 8>\u001b[1;34m()\u001b[0m\n\u001b[0;32m      <a href='vscode-notebook-cell:/d%3A/%E7%A0%94%E7%A9%B6%E7%94%9F/%E7%A0%94%E4%B8%80/%E4%B8%8B%E5%AD%A6%E6%9C%9F/EECS553/project/mdwsvm-ad/final_plot.ipynb#W6sZmlsZQ%3D%3D?line=5'>6</a>\u001b[0m w2 \u001b[39m=\u001b[39m vertices(\u001b[39m5\u001b[39m)\n\u001b[0;32m      <a href='vscode-notebook-cell:/d%3A/%E7%A0%94%E7%A9%B6%E7%94%9F/%E7%A0%94%E4%B8%80/%E4%B8%8B%E5%AD%A6%E6%9C%9F/EECS553/project/mdwsvm-ad/final_plot.ipynb#W6sZmlsZQ%3D%3D?line=6'>7</a>\u001b[0m best_k_2 \u001b[39m=\u001b[39m partial(Gaussian_kernel, sigma2\u001b[39m=\u001b[39mbest_sigma2_2)\n\u001b[1;32m----> <a href='vscode-notebook-cell:/d%3A/%E7%A0%94%E7%A9%B6%E7%94%9F/%E7%A0%94%E4%B8%80/%E4%B8%8B%E5%AD%A6%E6%9C%9F/EECS553/project/mdwsvm-ad/final_plot.ipynb#W6sZmlsZQ%3D%3D?line=7'>8</a>\u001b[0m model3 \u001b[39m=\u001b[39m mdwsvm_ad(X_train, y_train, w2, best_c_2, best_v_2, best_k_2)\n\u001b[0;32m      <a href='vscode-notebook-cell:/d%3A/%E7%A0%94%E7%A9%B6%E7%94%9F/%E7%A0%94%E4%B8%80/%E4%B8%8B%E5%AD%A6%E6%9C%9F/EECS553/project/mdwsvm-ad/final_plot.ipynb#W6sZmlsZQ%3D%3D?line=8'>9</a>\u001b[0m y_pred_3 \u001b[39m=\u001b[39m model3\u001b[39m.\u001b[39mpredict(X_test)\n\u001b[0;32m     <a href='vscode-notebook-cell:/d%3A/%E7%A0%94%E7%A9%B6%E7%94%9F/%E7%A0%94%E4%B8%80/%E4%B8%8B%E5%AD%A6%E6%9C%9F/EECS553/project/mdwsvm-ad/final_plot.ipynb#W6sZmlsZQ%3D%3D?line=9'>10</a>\u001b[0m \u001b[39mprint\u001b[39m(\u001b[39m'\u001b[39m\u001b[39mThe error is\u001b[39m\u001b[39m'\u001b[39m, within_class_error(y_test_true_mdwsvm_ad, y_pred_3))\n",
      "File \u001b[1;32md:\\研究生\\研一\\下学期\\EECS553\\project\\mdwsvm-ad\\mdwsvm_ad.py:26\u001b[0m, in \u001b[0;36mmdwsvm_ad.__init__\u001b[1;34m(self, X, y, W, C, v, K, alp)\u001b[0m\n\u001b[0;32m     24\u001b[0m \u001b[39mself\u001b[39m\u001b[39m.\u001b[39mv \u001b[39m=\u001b[39m v\n\u001b[0;32m     25\u001b[0m \u001b[39mself\u001b[39m\u001b[39m.\u001b[39mK \u001b[39m=\u001b[39m K\n\u001b[1;32m---> 26\u001b[0m \u001b[39mself\u001b[39m\u001b[39m.\u001b[39md, \u001b[39mself\u001b[39m\u001b[39m.\u001b[39me \u001b[39m=\u001b[39m \u001b[39mself\u001b[39;49m\u001b[39m.\u001b[39;49mfit()\n",
      "File \u001b[1;32md:\\研究生\\研一\\下学期\\EECS553\\project\\mdwsvm-ad\\mdwsvm_ad.py:53\u001b[0m, in \u001b[0;36mmdwsvm_ad.fit\u001b[1;34m(self)\u001b[0m\n\u001b[0;32m     44\u001b[0m constraints \u001b[39m=\u001b[39m [W_y \u001b[39m@\u001b[39m d \u001b[39m+\u001b[39m (\u001b[39mself\u001b[39m\u001b[39m.\u001b[39mC \u001b[39m-\u001b[39m cp\u001b[39m.\u001b[39msum(d))\u001b[39m*\u001b[39m\u001b[39mself\u001b[39m\u001b[39m.\u001b[39mW[:,\u001b[39m-\u001b[39m\u001b[39m1\u001b[39m] \u001b[39m==\u001b[39m \u001b[39m0\u001b[39m,\n\u001b[0;32m     45\u001b[0m                W_y \u001b[39m@\u001b[39m e \u001b[39m+\u001b[39m (\u001b[39mself\u001b[39m\u001b[39m.\u001b[39mC \u001b[39m-\u001b[39m cp\u001b[39m.\u001b[39msum(e))\u001b[39m*\u001b[39m\u001b[39mself\u001b[39m\u001b[39m.\u001b[39mW[:,\u001b[39m-\u001b[39m\u001b[39m1\u001b[39m] \u001b[39m==\u001b[39m \u001b[39m0\u001b[39m,\n\u001b[0;32m     46\u001b[0m                e \u001b[39m<\u001b[39m\u001b[39m=\u001b[39m \u001b[39mself\u001b[39m\u001b[39m.\u001b[39mC \u001b[39m*\u001b[39m (\u001b[39m1\u001b[39m\u001b[39m-\u001b[39m\u001b[39mself\u001b[39m\u001b[39m.\u001b[39malp) \u001b[39m/\u001b[39m (\u001b[39mself\u001b[39m\u001b[39m.\u001b[39mv \u001b[39m*\u001b[39m \u001b[39mself\u001b[39m\u001b[39m.\u001b[39mN_y),\n\u001b[1;32m   (...)\u001b[0m\n\u001b[0;32m     49\u001b[0m                e \u001b[39m>\u001b[39m\u001b[39m=\u001b[39m \u001b[39m0\u001b[39m,\n\u001b[0;32m     50\u001b[0m                f \u001b[39m>\u001b[39m\u001b[39m=\u001b[39m \u001b[39m0\u001b[39m]\n\u001b[0;32m     52\u001b[0m prob \u001b[39m=\u001b[39m cp\u001b[39m.\u001b[39mProblem(objective, constraints)\n\u001b[1;32m---> 53\u001b[0m prob\u001b[39m.\u001b[39;49msolve(solver\u001b[39m=\u001b[39;49mcp\u001b[39m.\u001b[39;49mSCS)\n\u001b[0;32m     55\u001b[0m \u001b[39mreturn\u001b[39;00m d\u001b[39m.\u001b[39mvalue, e\u001b[39m.\u001b[39mvalue\n",
      "File \u001b[1;32m~\\AppData\\Local\\Packages\\PythonSoftwareFoundation.Python.3.8_qbz5n2kfra8p0\\LocalCache\\local-packages\\Python38\\site-packages\\cvxpy\\problems\\problem.py:493\u001b[0m, in \u001b[0;36mProblem.solve\u001b[1;34m(self, *args, **kwargs)\u001b[0m\n\u001b[0;32m    491\u001b[0m \u001b[39melse\u001b[39;00m:\n\u001b[0;32m    492\u001b[0m     solve_func \u001b[39m=\u001b[39m Problem\u001b[39m.\u001b[39m_solve\n\u001b[1;32m--> 493\u001b[0m \u001b[39mreturn\u001b[39;00m solve_func(\u001b[39mself\u001b[39;49m, \u001b[39m*\u001b[39;49margs, \u001b[39m*\u001b[39;49m\u001b[39m*\u001b[39;49mkwargs)\n",
      "File \u001b[1;32m~\\AppData\\Local\\Packages\\PythonSoftwareFoundation.Python.3.8_qbz5n2kfra8p0\\LocalCache\\local-packages\\Python38\\site-packages\\cvxpy\\problems\\problem.py:1064\u001b[0m, in \u001b[0;36mProblem._solve\u001b[1;34m(self, solver, warm_start, verbose, gp, qcp, requires_grad, enforce_dpp, ignore_dpp, canon_backend, **kwargs)\u001b[0m\n\u001b[0;32m   1060\u001b[0m     s\u001b[39m.\u001b[39mLOGGER\u001b[39m.\u001b[39minfo(\n\u001b[0;32m   1061\u001b[0m             \u001b[39m'\u001b[39m\u001b[39mInvoking solver \u001b[39m\u001b[39m%s\u001b[39;00m\u001b[39m  to obtain a solution.\u001b[39m\u001b[39m'\u001b[39m,\n\u001b[0;32m   1062\u001b[0m             solving_chain\u001b[39m.\u001b[39mreductions[\u001b[39m-\u001b[39m\u001b[39m1\u001b[39m]\u001b[39m.\u001b[39mname())\n\u001b[0;32m   1063\u001b[0m start \u001b[39m=\u001b[39m time\u001b[39m.\u001b[39mtime()\n\u001b[1;32m-> 1064\u001b[0m solution \u001b[39m=\u001b[39m solving_chain\u001b[39m.\u001b[39;49msolve_via_data(\n\u001b[0;32m   1065\u001b[0m     \u001b[39mself\u001b[39;49m, data, warm_start, verbose, kwargs)\n\u001b[0;32m   1066\u001b[0m end \u001b[39m=\u001b[39m time\u001b[39m.\u001b[39mtime()\n\u001b[0;32m   1067\u001b[0m \u001b[39mself\u001b[39m\u001b[39m.\u001b[39m_solve_time \u001b[39m=\u001b[39m end \u001b[39m-\u001b[39m start\n",
      "File \u001b[1;32m~\\AppData\\Local\\Packages\\PythonSoftwareFoundation.Python.3.8_qbz5n2kfra8p0\\LocalCache\\local-packages\\Python38\\site-packages\\cvxpy\\reductions\\solvers\\solving_chain.py:410\u001b[0m, in \u001b[0;36mSolvingChain.solve_via_data\u001b[1;34m(self, problem, data, warm_start, verbose, solver_opts)\u001b[0m\n\u001b[0;32m    374\u001b[0m \u001b[39mdef\u001b[39;00m \u001b[39msolve_via_data\u001b[39m(\u001b[39mself\u001b[39m, problem, data, warm_start: \u001b[39mbool\u001b[39m \u001b[39m=\u001b[39m \u001b[39mFalse\u001b[39;00m, verbose: \u001b[39mbool\u001b[39m \u001b[39m=\u001b[39m \u001b[39mFalse\u001b[39;00m,\n\u001b[0;32m    375\u001b[0m                    solver_opts\u001b[39m=\u001b[39m{}):\n\u001b[0;32m    376\u001b[0m     \u001b[39m\"\"\"Solves the problem using the data output by the an apply invocation.\u001b[39;00m\n\u001b[0;32m    377\u001b[0m \n\u001b[0;32m    378\u001b[0m \u001b[39m    The semantics are:\u001b[39;00m\n\u001b[1;32m   (...)\u001b[0m\n\u001b[0;32m    408\u001b[0m \u001b[39m        a Solution object.\u001b[39;00m\n\u001b[0;32m    409\u001b[0m \u001b[39m    \"\"\"\u001b[39;00m\n\u001b[1;32m--> 410\u001b[0m     \u001b[39mreturn\u001b[39;00m \u001b[39mself\u001b[39;49m\u001b[39m.\u001b[39;49msolver\u001b[39m.\u001b[39;49msolve_via_data(data, warm_start, verbose,\n\u001b[0;32m    411\u001b[0m                                       solver_opts, problem\u001b[39m.\u001b[39;49m_solver_cache)\n",
      "File \u001b[1;32m~\\AppData\\Local\\Packages\\PythonSoftwareFoundation.Python.3.8_qbz5n2kfra8p0\\LocalCache\\local-packages\\Python38\\site-packages\\cvxpy\\reductions\\solvers\\conic_solvers\\scs_conif.py:340\u001b[0m, in \u001b[0;36mSCS.solve_via_data\u001b[1;34m(self, data, warm_start, verbose, solver_opts, solver_cache)\u001b[0m\n\u001b[0;32m    337\u001b[0m     \u001b[39mreturn\u001b[39;00m _results, _status\n\u001b[0;32m    339\u001b[0m solver_opts \u001b[39m=\u001b[39m SCS\u001b[39m.\u001b[39mparse_solver_options(solver_opts)\n\u001b[1;32m--> 340\u001b[0m results, status \u001b[39m=\u001b[39m solve(solver_opts)\n\u001b[0;32m    341\u001b[0m \u001b[39mif\u001b[39;00m (status \u001b[39min\u001b[39;00m s\u001b[39m.\u001b[39mINACCURATE \u001b[39mand\u001b[39;00m scs_version\u001b[39m.\u001b[39mmajor \u001b[39m==\u001b[39m \u001b[39m2\u001b[39m\n\u001b[0;32m    342\u001b[0m         \u001b[39mand\u001b[39;00m \u001b[39m\"\u001b[39m\u001b[39macceleration_lookback\u001b[39m\u001b[39m\"\u001b[39m \u001b[39mnot\u001b[39;00m \u001b[39min\u001b[39;00m solver_opts):\n\u001b[0;32m    343\u001b[0m     \u001b[39mimport\u001b[39;00m \u001b[39mwarnings\u001b[39;00m\n",
      "File \u001b[1;32m~\\AppData\\Local\\Packages\\PythonSoftwareFoundation.Python.3.8_qbz5n2kfra8p0\\LocalCache\\local-packages\\Python38\\site-packages\\cvxpy\\reductions\\solvers\\conic_solvers\\scs_conif.py:335\u001b[0m, in \u001b[0;36mSCS.solve_via_data.<locals>.solve\u001b[1;34m(_solver_opts)\u001b[0m\n\u001b[0;32m    333\u001b[0m     _status \u001b[39m=\u001b[39m \u001b[39mself\u001b[39m\u001b[39m.\u001b[39mSTATUS_MAP[_results[\u001b[39m\"\u001b[39m\u001b[39minfo\u001b[39m\u001b[39m\"\u001b[39m][\u001b[39m\"\u001b[39m\u001b[39mstatusVal\u001b[39m\u001b[39m\"\u001b[39m]]\n\u001b[0;32m    334\u001b[0m \u001b[39melse\u001b[39;00m:\n\u001b[1;32m--> 335\u001b[0m     _results \u001b[39m=\u001b[39m scs\u001b[39m.\u001b[39;49msolve(args, cones, verbose\u001b[39m=\u001b[39;49mverbose, \u001b[39m*\u001b[39;49m\u001b[39m*\u001b[39;49m_solver_opts)\n\u001b[0;32m    336\u001b[0m     _status \u001b[39m=\u001b[39m \u001b[39mself\u001b[39m\u001b[39m.\u001b[39mSTATUS_MAP[_results[\u001b[39m\"\u001b[39m\u001b[39minfo\u001b[39m\u001b[39m\"\u001b[39m][\u001b[39m\"\u001b[39m\u001b[39mstatus_val\u001b[39m\u001b[39m\"\u001b[39m]]\n\u001b[0;32m    337\u001b[0m \u001b[39mreturn\u001b[39;00m _results, _status\n",
      "File \u001b[1;32m~\\AppData\\Local\\Packages\\PythonSoftwareFoundation.Python.3.8_qbz5n2kfra8p0\\LocalCache\\local-packages\\Python38\\site-packages\\scs\\__init__.py:208\u001b[0m, in \u001b[0;36msolve\u001b[1;34m(data, cone, **settings)\u001b[0m\n\u001b[0;32m    205\u001b[0m \u001b[39mif\u001b[39;00m \u001b[39m\"\u001b[39m\u001b[39ms\u001b[39m\u001b[39m\"\u001b[39m \u001b[39min\u001b[39;00m data:\n\u001b[0;32m    206\u001b[0m     s \u001b[39m=\u001b[39m data[\u001b[39m\"\u001b[39m\u001b[39ms\u001b[39m\u001b[39m\"\u001b[39m]\n\u001b[1;32m--> 208\u001b[0m \u001b[39mreturn\u001b[39;00m solver\u001b[39m.\u001b[39;49msolve(warm_start\u001b[39m=\u001b[39;49m\u001b[39mTrue\u001b[39;49;00m, x\u001b[39m=\u001b[39;49mx, y\u001b[39m=\u001b[39;49my, s\u001b[39m=\u001b[39;49ms)\n",
      "File \u001b[1;32m~\\AppData\\Local\\Packages\\PythonSoftwareFoundation.Python.3.8_qbz5n2kfra8p0\\LocalCache\\local-packages\\Python38\\site-packages\\scs\\__init__.py:180\u001b[0m, in \u001b[0;36mSCS.solve\u001b[1;34m(self, warm_start, x, y, s)\u001b[0m\n\u001b[0;32m    163\u001b[0m \u001b[39mdef\u001b[39;00m \u001b[39msolve\u001b[39m(\u001b[39mself\u001b[39m, warm_start\u001b[39m=\u001b[39m\u001b[39mTrue\u001b[39;00m, x\u001b[39m=\u001b[39m\u001b[39mNone\u001b[39;00m, y\u001b[39m=\u001b[39m\u001b[39mNone\u001b[39;00m, s\u001b[39m=\u001b[39m\u001b[39mNone\u001b[39;00m):\n\u001b[0;32m    164\u001b[0m     \u001b[39m\"\"\"Solve the optimization problem.\u001b[39;00m\n\u001b[0;32m    165\u001b[0m \n\u001b[0;32m    166\u001b[0m \u001b[39m    @param warm_start   Whether to warm-start. By default the solution of\u001b[39;00m\n\u001b[1;32m   (...)\u001b[0m\n\u001b[0;32m    178\u001b[0m \u001b[39m         'info' - information dictionary (see docs)\u001b[39;00m\n\u001b[0;32m    179\u001b[0m \u001b[39m    \"\"\"\u001b[39;00m\n\u001b[1;32m--> 180\u001b[0m     \u001b[39mreturn\u001b[39;00m \u001b[39mself\u001b[39;49m\u001b[39m.\u001b[39;49m_solver\u001b[39m.\u001b[39;49msolve(warm_start, x, y, s)\n",
      "\u001b[1;31mKeyboardInterrupt\u001b[0m: "
     ]
    }
   ],
   "source": [
    "# MDWSVM_ad\n",
    "# v=0.100 sigma2=12.000 c=1.000 score:0.8743947368421052\n",
    "best_v_2 = 0.1\n",
    "best_sigma2_2 = 12\n",
    "best_c_2 = 1\n",
    "w2 = vertices(5)\n",
    "best_k_2 = partial(Gaussian_kernel, sigma2=best_sigma2_2)\n",
    "model3 = mdwsvm_ad(X_train, y_train, w2, best_c_2, best_v_2, best_k_2)\n",
    "y_pred_3 = model3.predict(X_test)\n",
    "print('The error is', within_class_error(y_test_true_mdwsvm_ad, y_pred_3))"
   ]
  },
  {
   "cell_type": "code",
   "execution_count": null,
   "metadata": {},
   "outputs": [],
   "source": [
    "true_label_3 = [0, 1, 2, 3, 'u', 'v', 'w', 'x', 'y', 'z']\n",
    "result_3 = pd.crosstab(y_test, y_pred_3, rownames=['True label'], colnames=['Predicted label'])\n",
    "result_3.rename(index={56:'u', 57:'v', 58:'w', 59:'x', 60:'y', 61:'z'}, inplace=True)\n",
    "result_3 = result_3.div(result_3.sum(axis=1), axis=0)\n",
    "result_3.applymap(lambda x: '{:.2%}'.format(x))"
   ]
  }
 ],
 "metadata": {
  "kernelspec": {
   "display_name": "Python 3",
   "language": "python",
   "name": "python3"
  },
  "language_info": {
   "codemirror_mode": {
    "name": "ipython",
    "version": 3
   },
   "file_extension": ".py",
   "mimetype": "text/x-python",
   "name": "python",
   "nbconvert_exporter": "python",
   "pygments_lexer": "ipython3",
   "version": "3.8.10"
  },
  "orig_nbformat": 4
 },
 "nbformat": 4,
 "nbformat_minor": 2
}
