{
 "cells": [
  {
   "cell_type": "code",
   "execution_count": 35,
   "metadata": {},
   "outputs": [],
   "source": [
    "import numpy as np\n",
    "import matplotlib.pyplot as plt\n",
    "from emnist import extract_training_samples\n",
    "from metric import within_class_error\n",
    "\n",
    "from vertices_generator import vertices\n",
    "from mdwsvm_ad import mdwsvm_ad\n",
    "from mdwsvm import mdwsvm\n",
    "from cross_validation import cross_validation"
   ]
  },
  {
   "cell_type": "code",
   "execution_count": 36,
   "metadata": {},
   "outputs": [],
   "source": [
    "err_ad = np.zeros(504) # error value  468 error, 14 c value, 6 v value, 6 sigma value\n",
    "\n",
    "# Load data\n",
    "digits_images, digits_labels = extract_training_samples('digits')\n",
    "letters_images, letters_labels = extract_training_samples('byclass')\n",
    "\n",
    "X_train = np.zeros((4000,28,28))\n",
    "y_train = np.zeros((4000), dtype=int)\n",
    "X_test = np.zeros((40000,28,28))\n",
    "y_test = np.zeros((40000), dtype=int)\n",
    "\n",
    "# 4000 digits normalized training data \n",
    "X_train[0:4000,:,:] = digits_images[0:4000,:,:] / 255\n",
    "X_train = X_train.reshape(4000,784).T \n",
    "y_train[0:4000] = digits_labels[0:4000] # 4000 digits training label\n",
    "\n",
    "# Get 2000 digits for test X\n",
    "X_test[0:2000,:,:] = digits_images[4000:6000,:,:] / 255\n",
    "y_test[0:2000] = digits_labels[4000:6000]\n",
    "# Get 38000 lowercase letters\n",
    "count = 2000\n",
    "current_i = 0\n",
    "while True:\n",
    "    if count == 40000:\n",
    "        break\n",
    "    \n",
    "    if(letters_labels[current_i] >= 36): # Get lower case letter\n",
    "        X_test[count,:,:] = letters_images[current_i,:,:] / 255\n",
    "        y_test[count] = letters_labels[current_i]\n",
    "        count += 1\n",
    "        \n",
    "    current_i += 1\n",
    "# 2000 digits and 38000 letters normalized data, 0-9 are 0-9, 36-61 are a-z\n",
    "X_test = X_test.reshape(40000,784).T"
   ]
  },
  {
   "cell_type": "code",
   "execution_count": 29,
   "metadata": {},
   "outputs": [
    {
     "name": "stdout",
     "output_type": "stream",
     "text": [
      "(784, 4000)\n",
      "(784, 40000)\n",
      "(4000,)\n",
      "(40000,)\n",
      "47\n"
     ]
    }
   ],
   "source": [
    "print(X_train.shape)\n",
    "print(X_test.shape)\n",
    "print(y_train.shape)\n",
    "print(y_test.shape)\n"
   ]
  },
  {
   "cell_type": "code",
   "execution_count": 4,
   "metadata": {},
   "outputs": [
    {
     "ename": "",
     "evalue": "",
     "output_type": "error",
     "traceback": [
      "\u001b[1;31mCanceled future for execute_request message before replies were done"
     ]
    },
    {
     "ename": "",
     "evalue": "",
     "output_type": "error",
     "traceback": [
      "\u001b[1;31mThe Kernel crashed while executing code in the the current cell or a previous cell. Please review the code in the cell(s) to identify a possible cause of the failure. Click <a href='https://aka.ms/vscodeJupyterKernelCrash'>here</a> for more info. View Jupyter <a href='command:jupyter.viewOutput'>log</a> for further details."
     ]
    }
   ],
   "source": [
    "# Use cross validation to choose C based on X_train\n",
    "# Define values for cross_validation\n",
    "c_values = [2**i for i in range(-3,10)]\n",
    "v_values = [0.001, 0.01, 0.1, 0.3, 0.6, 0.9]\n",
    "sig_values = [0.001, 0.01, 0.1, 1, 10, 100]\n",
    "w = vertices(10)\n",
    "size = 4000\n",
    "num_folds = 5\n",
    "\n",
    "\n",
    "# MDWSVM\n",
    "err_simple, best_c_simple = cross_validation(c_values, 5, 4000, w, X_train, X_test, y_test, y_train, mdwsvm)\n",
    "print(err_simple)\n",
    "print(best_c_simple)"
   ]
  },
  {
   "cell_type": "code",
   "execution_count": null,
   "metadata": {},
   "outputs": [],
   "source": [
    "w = vertices(11)\n",
    "# MDWSVM_ad\n",
    "folder_size = int(size / num_folds)\n",
    "# Loop over each value and perform cross-validation\n",
    "best_c = 0\n",
    "best_v = 0\n",
    "best_sig = 0\n",
    "best_score = -1\n",
    "count = 0\n",
    "\n",
    "for sig in sig_values:\n",
    "    k = lambda x, y: np.exp(-np.linalg.norm(x - y)**2)/(2 * sig**2)\n",
    "    \n",
    "    for c in c_values:\n",
    "        for v in v_values:\n",
    "            scores = np.zeros(5)\n",
    "            # Perform cross-validation and calculate the average score\n",
    "            for i in range(num_folds):\n",
    "                # Get testing set    \n",
    "                testx = X_train[:, i*folder_size:(i+1)*folder_size]\n",
    "                testy = y_train[i*folder_size:(i+1)*folder_size]\n",
    "                # Get training set    \n",
    "                trainx = np.hstack((X_train[:, 0:(i)*folder_size], X_train[:, (i+1)*folder_size:size]))\n",
    "                trainy = np.hstack((y_train[0:(i)*folder_size], y_train[(i+1)*folder_size:size]))\n",
    "                # Create method object\n",
    "                method = mdwsvm_ad(trainx, trainy, w, c, v, k)\n",
    "                \n",
    "                pred_y = method.predict(testx)\n",
    "                score = 1 - within_class_error(y_ture = testy, y_pred = pred_y)\n",
    "                scores[i] = score\n",
    "                \n",
    "            # Check if the current value of c is the best so far\n",
    "            avg_score = np.mean(scores)\n",
    "            if avg_score > best_score:\n",
    "                best_c = c\n",
    "                best_v = v\n",
    "                best_sig = sig\n",
    "                best_score = avg_score\n",
    "            \n",
    "            # Record the current error and all the parameter values\n",
    "            err_ad[count] = [1-avg_score, c, v, sig]\n",
    "            count = count + 1\n",
    "            \n",
    "# use the optimal C to train X_train and get the final classifier\n",
    "k = lambda x, y: np.exp(-np.linalg.norm(x - y)**2)/(2 * best_sig**2)\n",
    "method_666 = mdwsvm_ad(X_train, y_train, w, best_c, best_v, k)\n",
    "\n",
    "# perform the final classifier on X_test\n",
    "pred_y = method_666.predict(X_test)\n",
    "err_ad_best = within_class_error(y_ture = y_test, y_pred = pred_y)   # store the value for the best error"
   ]
  },
  {
   "cell_type": "code",
   "execution_count": null,
   "metadata": {},
   "outputs": [],
   "source": [
    "# Plot\n",
    "fig, axs = plt.subplots(nrows=1, ncols=3, sharey=True, figsize=(8, 3))\n",
    "\n",
    "axs[0].set_ylabel('Error')\n",
    "axs[0].set_title('c')\n",
    "for i in range(36):\n",
    "    axs[0].plot(err_ad[14*i:14*(i+1)][1], err_ad[14*i:14*(i+1)][0], color = 'black', linestyle = '-', label = 'c')\n",
    "\n",
    "axs[1].set_title('v')\n",
    "for i in range(84):\n",
    "    axs[1].plot(err_ad[6*i:6*(i+1)][2], err_ad[6*i:6*(i+1)][0], color = 'black', linestyle = '-', label = 'v')\n",
    "\n",
    "axs[2].set_title('sig')\n",
    "for i in range(84):\n",
    "    axs[2].plot(err_ad[6*i:6*(i+1)][3], err_ad[6*i:6*(i+1)][0], color = 'black', linestyle = '-', label = 'sig')\n",
    "\n",
    "plt.tight_layout()\n",
    "plt.show()\n"
   ]
  }
 ],
 "metadata": {
  "kernelspec": {
   "display_name": "Python 3",
   "language": "python",
   "name": "python3"
  },
  "language_info": {
   "codemirror_mode": {
    "name": "ipython",
    "version": 3
   },
   "file_extension": ".py",
   "mimetype": "text/x-python",
   "name": "python",
   "nbconvert_exporter": "python",
   "pygments_lexer": "ipython3",
   "version": "3.8.10"
  },
  "orig_nbformat": 4,
  "vscode": {
   "interpreter": {
    "hash": "e863888fb52175ff0b74bed49943ebade44a4c64180c2e2d4ea55f3d5b7761af"
   }
  }
 },
 "nbformat": 4,
 "nbformat_minor": 2
}
