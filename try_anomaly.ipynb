{
 "cells": [
  {
   "cell_type": "code",
   "execution_count": 9,
   "metadata": {},
   "outputs": [],
   "source": [
    "import numpy as np\n",
    "import matplotlib.pyplot as plt\n",
    "from emnist import extract_training_samples\n",
    "from mdwsvm import mdwsvm\n",
    "from mdwsvm_ad import mdwsvm_ad\n",
    "from hybrid import hybrid"
   ]
  },
  {
   "cell_type": "code",
   "execution_count": 41,
   "metadata": {},
   "outputs": [
    {
     "name": "stdout",
     "output_type": "stream",
     "text": [
      "[0. 0. 0. ... 0. 0. 0.]\n"
     ]
    }
   ],
   "source": [
    "digits_images, digits_labels = extract_training_samples('digits')\n",
    "letters_images, letters_labels = extract_training_samples('letters')\n",
    "\n",
    "X_train = np.zeros((4000,28,28))\n",
    "y_train = np.zeros((4000))\n",
    "X_test = np.zeros((40000,28,28))\n",
    "y_test = np.zeros((40000))\n",
    "\n",
    "X_train[0:4000,:,:] = digits_images[0:4000,:,:] # 4000 digits training data\n",
    "y_train[0:4000] = digits_labels[0:4000] # 4000 digits training label\n",
    "\n",
    "X_test[0:40000,:,:] = letters_images[0:40000,:,:] \n",
    "X_test[0:2000,:,:] = digits_images[4000:6000,:,:]\n",
    "y_test[0:40000] = letters_labels[0:40000] \n",
    "y_test[0:2000] = digits_labels[4000:6000]"
   ]
  },
  {
   "cell_type": "code",
   "execution_count": 42,
   "metadata": {},
   "outputs": [
    {
     "name": "stdout",
     "output_type": "stream",
     "text": [
      "10.0\n"
     ]
    },
    {
     "ename": "IndexError",
     "evalue": "index 4000 is out of bounds for axis 0 with size 4000",
     "output_type": "error",
     "traceback": [
      "\u001b[1;31m---------------------------------------------------------------------------\u001b[0m",
      "\u001b[1;31mIndexError\u001b[0m                                Traceback (most recent call last)",
      "\u001b[1;32md:\\研究生\\研一\\下学期\\EECS553\\project\\mdwsvm-ad\\try_anomaly.ipynb Cell 3\u001b[0m in \u001b[0;36m<cell line: 2>\u001b[1;34m()\u001b[0m\n\u001b[0;32m      <a href='vscode-notebook-cell:/d%3A/%E7%A0%94%E7%A9%B6%E7%94%9F/%E7%A0%94%E4%B8%80/%E4%B8%8B%E5%AD%A6%E6%9C%9F/EECS553/project/mdwsvm-ad/try_anomaly.ipynb#W3sZmlsZQ%3D%3D?line=0'>1</a>\u001b[0m \u001b[39mprint\u001b[39m(y_test[\u001b[39m2000\u001b[39m])\n\u001b[1;32m----> <a href='vscode-notebook-cell:/d%3A/%E7%A0%94%E7%A9%B6%E7%94%9F/%E7%A0%94%E4%B8%80/%E4%B8%8B%E5%AD%A6%E6%9C%9F/EECS553/project/mdwsvm-ad/try_anomaly.ipynb#W3sZmlsZQ%3D%3D?line=1'>2</a>\u001b[0m \u001b[39mprint\u001b[39m(y_train[\u001b[39m4000\u001b[39;49m])\n",
      "\u001b[1;31mIndexError\u001b[0m: index 4000 is out of bounds for axis 0 with size 4000"
     ]
    }
   ],
   "source": [
    "print(y_test[1999])\n",
    "print(y_train[3999])\n",
    "print(digits_labels[3999])\n",
    "print(digits_labels[5999])"
   ]
  },
  {
   "cell_type": "code",
   "execution_count": null,
   "metadata": {},
   "outputs": [
    {
     "data": {
      "text/plain": [
       "<function matplotlib.pyplot.show(close=None, block=None)>"
      ]
     },
     "execution_count": 38,
     "metadata": {},
     "output_type": "execute_result"
    },
    {
     "data": {
      "image/png": "[encoded data removed]",
      "text/plain": [
       "<Figure size 432x288 with 1 Axes>"
      ]
     },
     "metadata": {
      "needs_background": "light"
     },
     "output_type": "display_data"
    }
   ],
   "source": [
    "plt.imshow(letters_images[0,:,:])\n",
    "plt.show"
   ]
  }
 ],
 "metadata": {
  "kernelspec": {
   "display_name": "Python 3",
   "language": "python",
   "name": "python3"
  },
  "language_info": {
   "codemirror_mode": {
    "name": "ipython",
    "version": 3
   },
   "file_extension": ".py",
   "mimetype": "text/x-python",
   "name": "python",
   "nbconvert_exporter": "python",
   "pygments_lexer": "ipython3",
   "version": "3.8.10"
  },
  "orig_nbformat": 4
 },
 "nbformat": 4,
 "nbformat_minor": 2
}
