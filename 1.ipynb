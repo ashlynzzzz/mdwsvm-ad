{
 "cells": [
  {
   "cell_type": "code",
   "execution_count": 5,
   "metadata": {},
   "outputs": [],
   "source": [
    "import numpy as np\n",
    "from mdwsvm import mdwsvm\n",
    "from msvm import msvm\n",
    "from mdwd import mdwd\n",
    "from vertices_generator import vertices\n",
    "from metric import within_class_error\n",
    "import matplotlib.pyplot as plt\n",
    "from sklearn.utils import shuffle\n",
    "from cross_validation import cross_validation\n",
    "    \n",
    "\n",
    "prob = [1/3, 1/2, 2/3] # varying probabilities for class 1\n",
    "dim = [2, 10, 100, 500, 1000]\n",
    "err = np.zeros((5,3,3)) # 5-dim, 3 methods, 3 prob\n",
    "c_list = [2**2, 2**2, 2**2, 2**1, 2**0]"
   ]
  },
  {
   "cell_type": "code",
   "execution_count": 6,
   "metadata": {},
   "outputs": [
    {
     "name": "stdout",
     "output_type": "stream",
     "text": [
      "0.09433333333333334\n",
      "0.111\n",
      "0.14933333333333332\n",
      "0.257\n",
      "0.2956666666666667\n",
      "0.11822222222222223\n",
      "0.11599999999999999\n",
      "0.1777777777777778\n",
      "0.28644444444444445\n",
      "0.3853333333333333\n"
     ]
    },
    {
     "name": "stderr",
     "output_type": "stream",
     "text": [
      "C:\\Users\\24232\\AppData\\Local\\Packages\\PythonSoftwareFoundation.Python.3.8_qbz5n2kfra8p0\\LocalCache\\local-packages\\Python38\\site-packages\\cvxpy\\problems\\problem.py:1385: UserWarning: Solution may be inaccurate. Try another solver, adjusting the solver settings, or solve with verbose=True for more information.\n",
      "  warnings.warn(\n"
     ]
    },
    {
     "name": "stdout",
     "output_type": "stream",
     "text": [
      "0.154\n",
      "0.13566666666666669\n",
      "0.2165\n",
      "0.437\n",
      "0.5616666666666666\n"
     ]
    }
   ],
   "source": [
    "for index in range(3):\n",
    "    p1 = prob[index]    # prob of class 1\n",
    "    p2 = (1 - p1) / 2   # prob of class 2,3\n",
    "    size = 300   # size of training data set\n",
    "    size1 = int(300 * p1)    # size of class 1\n",
    "    size2 = int(300 * p2)    # size of class 2,3\n",
    "    sigma = 0.55\n",
    "    \n",
    "    for j in range(5):\n",
    "        d = dim[j]\n",
    "         \n",
    "        # Define the centers of the three groups on the unit ball\n",
    "        u1 = np.concatenate(([1], np.zeros(d-1)))\n",
    "        u2 = np.concatenate(([-1/2], [np.sqrt(3)/2], np.zeros(d-2)))\n",
    "        u3 = np.concatenate(([-1/2], [-np.sqrt(3)/2], np.zeros(d-2)))\n",
    "        \n",
    "        # Generate the dataset\n",
    "        X_train = np.zeros((d, size))  # d-dim training dataset, each column is an obervation\n",
    "        y_train = np.zeros(size, dtype=int)    # labels for training data\n",
    "        X_test = np.zeros((d, 10 * size)) # d-dim test data\n",
    "        y_test = np.zeros(10 * size, dtype=int) # labels for test data\n",
    "        \n",
    "        # Generate training dataset class1\n",
    "        for i in range(size1):\n",
    "            # Class1\n",
    "            X_train[:, i] = np.random.normal(u1, sigma, size = d)\n",
    "            y_train[i] = 0\n",
    "        \n",
    "        # Generate training dataset class2 and class3\n",
    "        for i in range(size2):\n",
    "            # Class2\n",
    "            X_train[:, i + size1] = np.random.normal(u2, sigma, size = d)\n",
    "            y_train[i + size1] = 1\n",
    "            \n",
    "            # Class3\n",
    "            X_train[:, i + size1 + size2] = np.random.normal(u3, sigma, size = d)\n",
    "            y_train[i + size1 + size2] = 2\n",
    "\n",
    "\n",
    "        # Generate testing dataset class1\n",
    "        for i in range(10 * size1):\n",
    "            # Class1\n",
    "            X_test[:, i] = np.random.normal(u1, sigma, size = d)\n",
    "            y_test[i] = 0\n",
    "        \n",
    "        # Generate testing dataset class2 and class3\n",
    "        for i in range(10 * size2):\n",
    "            # Class2\n",
    "            X_test[:, i + 10 * size1] = np.random.normal(u2, sigma, size = d)\n",
    "            y_test[i + 10 * size1] = 1\n",
    "            \n",
    "            # Class3\n",
    "            X_test[:, i + 10 * (size1 + size2)] = np.random.normal(u3, sigma, size = d)\n",
    "            y_test[i + 10 * (size1 + size2)] = 2\n",
    "\n",
    "        # Shuffle the data\n",
    "        X_train, y_train = shuffle(X_train.T, y_train, random_state=42)\n",
    "        X_train = X_train.T\n",
    "        \n",
    "        \n",
    "        # Use cross validation to choose C for MDWSVM based on X_train\n",
    "        # Define values for cross_validation\n",
    "        c_values = [2**i for i in range(-3,13)]\n",
    "        w = vertices(3)\n",
    "        \n",
    "        # MDWSVM\n",
    "        c = c_list[j]\n",
    "        method = mdwsvm(X_train, y_train, w, c)\n",
    "        pred_y = method.predict(X_test)\n",
    "        err[j,0,index] = within_class_error(y_ture = y_test, y_pred = pred_y)\n",
    "        print(err[j,0,index])\n",
    "        # msvm\n",
    "        method = msvm(X_train, y_train, w, c)\n",
    "        pred_y = method.predict(X_test)\n",
    "        err[j,1,index] = within_class_error(y_ture = y_test, y_pred = pred_y)\n",
    "\n",
    "        # mdwd\n",
    "        method = mdwd(X_train, y_train, w, c)\n",
    "        pred_y = method.predict(X_test)\n",
    "        err[j,2,index] = within_class_error(y_ture = y_test, y_pred = pred_y)"
   ]
  },
  {
   "cell_type": "code",
   "execution_count": 41,
   "metadata": {},
   "outputs": [
    {
     "data": {
      "image/png": "[encoded data removed]",
      "text/plain": [
       "<Figure size 576x216 with 3 Axes>"
      ]
     },
     "metadata": {
      "needs_background": "light"
     },
     "output_type": "display_data"
    }
   ],
   "source": [
    "# Plot\n",
    "\n",
    "fig, axs = plt.subplots(nrows=1, ncols=3, sharey=True, figsize=(8, 3))\n",
    "fig.text(0.53, 0, 'Dimension', ha='center')\n",
    "\n",
    "axs[0].set_ylabel('Error')\n",
    "axs[0].set_title('p = 1/3')\n",
    "axs[0].plot(dim, err[:,0,0], color = 'black', linestyle = '-', label = 'MDWSVM')\n",
    "axs[0].plot(dim, err[:,1,0], color = 'red', linestyle = '--', label = 'MSVM')\n",
    "axs[0].plot(dim, err[:,2,0], color = 'blue', linestyle = ':', label = 'MDWD')\n",
    "\n",
    "axs[1].set_title('p = 1/2')\n",
    "axs[1].plot(dim, err[:,0,1], color = 'black', linestyle = '-', label = 'MDWSVM')\n",
    "axs[1].plot(dim, err[:,1,1], color = 'red', linestyle = '--', label = 'MSVM')\n",
    "axs[1].plot(dim, err[:,2,1], color = 'blue', linestyle = ':', label = 'MDWD')\n",
    "\n",
    "axs[2].set_title('p = 2/3')\n",
    "axs[2].plot(dim, err[:,0,2], color = 'black', linestyle = '-', label = 'MDWSVM')\n",
    "axs[2].plot(dim, err[:,1,2], color = 'red', linestyle = '--', label = 'MSVM')\n",
    "axs[2].plot(dim, err[:,2,2], color = 'blue', linestyle = ':', label = 'MDWD')\n",
    "\n",
    "# Create a single legend outside of the subplots\n",
    "handles, labels = axs[0].get_legend_handles_labels()\n",
    "fig.legend(handles, labels, loc='upper left', bbox_to_anchor=(1.0, 0.7))\n",
    "\n",
    "plt.tight_layout()\n",
    "plt.show()"
   ]
  }
 ],
 "metadata": {
  "kernelspec": {
   "display_name": "Python 3",
   "language": "python",
   "name": "python3"
  },
  "language_info": {
   "codemirror_mode": {
    "name": "ipython",
    "version": 3
   },
   "file_extension": ".py",
   "mimetype": "text/x-python",
   "name": "python",
   "nbconvert_exporter": "python",
   "pygments_lexer": "ipython3",
   "version": "3.8.10"
  },
  "orig_nbformat": 4
 },
 "nbformat": 4,
 "nbformat_minor": 2
}
