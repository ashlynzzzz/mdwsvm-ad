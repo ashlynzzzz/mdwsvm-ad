{
 "cells": [
  {
   "cell_type": "code",
   "execution_count": 1,
   "metadata": {},
   "outputs": [],
   "source": [
    "import numpy as np\n",
    "from mdwsvm import mdwsvm\n",
    "from msvm import msvm\n",
    "from mdwd import mdwd\n",
    "from vertices_generator import vertices\n",
    "from metric import within_class_error\n",
    "import matplotlib.pyplot as plt\n",
    "from sklearn.utils import shuffle\n",
    "from cross_validation import cross_validation\n",
    "    \n",
    "\n",
    "prob = [1/3, 1/2, 2/3] # varying probabilities for class 1\n",
    "dim = [2, 10, 100, 500, 1000]\n",
    "err = np.zeros((5,3,3)) # 5-dim, 3 methods, 3 prob"
   ]
  },
  {
   "cell_type": "code",
   "execution_count": 17,
   "metadata": {},
   "outputs": [],
   "source": [
    "for index in range(3):\n",
    "    p1 = prob[index]    # prob of class 1\n",
    "    p2 = (1 - p1) / 2   # prob of class 2,3\n",
    "    size = 300   # size of training data set\n",
    "    size1 = int(300 * p1)    # size of class 1\n",
    "    size2 = int(300 * p2)    # size of class 2,3\n",
    "    sigma = 0.55\n",
    "    \n",
    "    for j in range(5):\n",
    "        d = dim[j]\n",
    "        \n",
    "        # Define the centers of the three groups on the unit ball\n",
    "        u1 = np.concatenate(([1], np.zeros(d-1)))\n",
    "        u2 = np.concatenate(([-1/2], [np.sqrt(3)/2], np.zeros(d-2)))\n",
    "        u3 = np.concatenate(([-1/2], [-np.sqrt(3)/2], np.zeros(d-2)))\n",
    "\n",
    "        # Generate the dataset\n",
    "        X_train = np.zeros((d, size))  # d-dim training dataset, each column is an obervation\n",
    "        y_train = np.zeros(size, dtype=int)    # labels for training data\n",
    "        X_test = np.zeros((d, 10 * size)) # d-dim test data\n",
    "        y_test = np.zeros(10 * size, dtype=int) # labels for test data\n",
    "        \n",
    "        # Generate training dataset class1\n",
    "        for i in range(size1):\n",
    "            # Class1\n",
    "            X_train[:, i] = np.random.normal(u1, sigma, size = d)\n",
    "            y_train[i] = 0\n",
    "        \n",
    "        # Generate training dataset class2 and class3\n",
    "        for i in range(size2):\n",
    "            # Class2\n",
    "            X_train[:, i + size1] = np.random.normal(u2, sigma, size = d)\n",
    "            y_train[i + size1] = 1\n",
    "            \n",
    "            # Class3\n",
    "            X_train[:, i + size1 + size2] = np.random.normal(u3, sigma, size = d)\n",
    "            y_train[i + size1 + size2] = 2\n",
    "\n",
    "\n",
    "        # Generate testing dataset class1\n",
    "        for i in range(10 * size1):\n",
    "            # Class1\n",
    "            X_test[:, i] = np.random.normal(u1, sigma, size = d)\n",
    "            y_test[i] = 0\n",
    "        \n",
    "        # Generate testing dataset class2 and class3\n",
    "        for i in range(10 * size2):\n",
    "            # Class2\n",
    "            X_test[:, i + 10 * size1] = np.random.normal(u2, sigma, size = d)\n",
    "            y_test[i + 10 * size1] = 1\n",
    "            \n",
    "            # Class3\n",
    "            X_test[:, i + 10 * (size1 + size2)] = np.random.normal(u3, sigma, size = d)\n",
    "            y_test[i + 10 * (size1 + size2)] = 2\n",
    "\n",
    "        # Shuffle the data\n",
    "        X_train, y_train = shuffle(X_train.T, y_train, random_state=42)\n",
    "        X_train = X_train.T\n",
    "        \n",
    "        \n",
    "        # Use cross validation to choose C for MDWSVM based on X_train\n",
    "        # Define values for cross_validation\n",
    "        c_values = [2**i for i in range(-3,13)]\n",
    "        w = vertices(3)\n",
    "        \n",
    "        # MDWSVM\n",
    "        # err[j,0,index] = cross_validation(c_values, 5, size, w, X_train, X_test, y_test, y_train, mdwsvm)\n",
    "        # print(err[j,0,index])\n",
    "\n",
    "        # msvm\n",
    "        #err[j,1,index] = cross_validation(c_values, 5, size, w, X_train, X_test, y_test, y_train, msvm)\n",
    "\n",
    "        # mdwd\n",
    "        #err[j,2,index] = cross_validation(c_values, 5, size, w, X_train, X_test, y_test, y_train, mdwd)\n"
   ]
  },
  {
   "cell_type": "code",
   "execution_count": 15,
   "metadata": {},
   "outputs": [
    {
     "data": {
      "text/plain": [
       "array([1, 2, 0, 0, 1, 1, 0, 0, 0, 0, 1, 0, 1, 0, 0, 1, 2, 1, 0, 0, 0, 0,\n",
       "       1, 2, 0, 0, 2, 2, 0, 1, 0, 0, 0, 0, 1, 0, 0, 0, 0, 0, 0, 0, 2, 0,\n",
       "       0, 0, 1, 1, 0, 1, 0, 0, 1, 0, 2, 2, 0, 0, 0, 0, 1, 0, 0, 0, 0, 0,\n",
       "       0, 2, 0, 0, 0, 0, 1, 0, 0, 2, 0, 0, 0, 2, 0, 0, 0, 0, 0, 0, 0, 0,\n",
       "       0, 0, 0, 0, 0, 1, 0, 0, 0, 0, 2, 0, 1, 0, 0, 0, 2, 1, 0, 0, 0, 0,\n",
       "       0, 2, 0, 1, 1, 0, 0, 2, 0, 1, 0, 0, 0, 0, 0, 2, 0, 0, 0, 2, 0, 0,\n",
       "       0, 0, 2, 2, 0, 0, 0, 0, 0, 0, 0, 0, 1, 2, 0, 0, 0, 0, 2, 0, 1, 0,\n",
       "       2, 1, 1, 0, 0, 0, 1, 0, 0, 0, 0, 0, 2, 2, 0, 0, 0, 1, 1, 0, 0, 1,\n",
       "       0, 0, 2, 0, 1, 0, 2, 2, 0, 2, 2, 0, 0, 0, 0, 0, 1, 1, 1, 0, 2, 2,\n",
       "       0, 1, 0, 0, 0, 1, 0, 1, 2, 0, 0, 0, 0, 2, 0, 0, 2, 0, 0, 2, 0, 0,\n",
       "       0, 2, 1, 0, 0, 2, 0, 0, 1, 1, 0, 1, 2, 2, 0, 0, 0, 0, 2, 1, 2, 1,\n",
       "       0, 0, 1, 0, 0, 1, 2, 0, 0, 0, 0, 0, 0, 0, 0, 0, 1, 0, 0, 0, 1, 0,\n",
       "       0, 0, 2, 0, 2, 1, 0, 0, 0, 0, 2, 0, 0, 0, 0, 1, 2, 0, 0, 2, 0, 2,\n",
       "       0, 0, 0, 0, 0, 1, 0, 2, 0, 0, 0, 0, 2, 0])"
      ]
     },
     "execution_count": 15,
     "metadata": {},
     "output_type": "execute_result"
    }
   ],
   "source": [
    "y_train"
   ]
  },
  {
   "cell_type": "code",
   "execution_count": 14,
   "metadata": {},
   "outputs": [],
   "source": [
    "model = mdwsvm(X_train, y_train, vertices(3), C=1)\n",
    "y_pred = model.predict(X_train)"
   ]
  },
  {
   "cell_type": "code",
   "execution_count": 18,
   "metadata": {},
   "outputs": [],
   "source": [
    "y_pred = model.predict(X_test)"
   ]
  },
  {
   "cell_type": "code",
   "execution_count": 20,
   "metadata": {},
   "outputs": [
    {
     "data": {
      "text/plain": [
       "0.5853333333333334"
      ]
     },
     "execution_count": 20,
     "metadata": {},
     "output_type": "execute_result"
    }
   ],
   "source": [
    "within_class_error(y_test, y_pred)"
   ]
  },
  {
   "cell_type": "code",
   "execution_count": null,
   "metadata": {},
   "outputs": [],
   "source": [
    "fig, axs = plt.subplots(nrows=3, ncols=1)\n",
    "\n",
    "axs[0].set_title('p = 1/3')\n",
    "axs[0].plot(dim, err[:,0,0], color = 'black', linestyle = '-')\n",
    "axs[0].plot(dim, err[:,1,0], color = 'red', linestyle = '--')\n",
    "axs[0].plot(dim, err[:,2,0], color = 'blue', linestyle = '-.')\n",
    "\n",
    "axs[1].set_title('p = 1/2')\n",
    "axs[1].plot(dim, err[:,0,1], color = 'black', linestyle = '-')\n",
    "axs[1].plot(dim, err[:,1,1], color = 'red', linestyle = '--')\n",
    "axs[1].plot(dim, err[:,2,1], color = 'blue', linestyle = '-.')\n",
    "\n",
    "axs[2].set_title('p = 2/3')\n",
    "axs[2].plot(dim, err[:,0,2], color = 'black', linestyle = '-')\n",
    "axs[2].plot(dim, err[:,1,2], color = 'red', linestyle = '--')\n",
    "axs[2].plot(dim, err[:,2,2], color = 'blue', linestyle = '-.')\n",
    "\n",
    "plt.tight_layout()\n",
    "plt.show()"
   ]
  },
  {
   "cell_type": "code",
   "execution_count": null,
   "metadata": {},
   "outputs": [],
   "source": [
    "method = mdwsvm(X_train, y_train, w, c_values[9])\n",
    "pred_y = method.predict(X_test)\n",
    "print(within_class_error(y_ture = y_test, y_pred = pred_y))\n"
   ]
  }
 ],
 "metadata": {
  "kernelspec": {
   "display_name": "Python 3",
   "language": "python",
   "name": "python3"
  },
  "language_info": {
   "codemirror_mode": {
    "name": "ipython",
    "version": 3
   },
   "file_extension": ".py",
   "mimetype": "text/x-python",
   "name": "python",
   "nbconvert_exporter": "python",
   "pygments_lexer": "ipython3",
   "version": "3.9.16"
  },
  "orig_nbformat": 4
 },
 "nbformat": 4,
 "nbformat_minor": 2
}
