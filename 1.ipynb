{
 "cells": [
  {
   "cell_type": "code",
   "execution_count": 94,
   "metadata": {},
   "outputs": [],
   "source": [
    "import numpy as np\n",
    "from mdwsvm import mdwsvm\n",
    "from msvm import msvm\n",
    "from mdwd import mdwd\n",
    "from vertices_generator import vertices\n",
    "from metric import within_class_error\n",
    "import matplotlib.pyplot as plt\n",
    "from sklearn.model_selection import cross_validate, KFold   # pip install -U scikit-learn\n",
    "from sklearn.utils import shuffle\n",
    "\n",
    "prob = [1/3, 1/2, 2/3] # varying probabilities for class 1\n",
    "dim = [2, 10, 100, 500, 1000]\n",
    "err = np.zeros((5,3,3)) # 5-dim, 3 methods, 3 prob\n",
    "i = 2\n",
    "d = 10"
   ]
  },
  {
   "cell_type": "code",
   "execution_count": 95,
   "metadata": {},
   "outputs": [
    {
     "name": "stdout",
     "output_type": "stream",
     "text": [
      "[2. 3. 1. 1. 2. 2. 1. 1. 1. 1. 2. 1. 2. 1. 1. 2. 3. 2. 1. 1. 1. 1. 2. 3.\n",
      " 1. 1. 3. 3. 1. 2. 1. 1. 1. 1. 2. 1. 1. 1. 1. 1. 1. 1. 3. 1. 1. 1. 2. 2.\n",
      " 1. 2. 1. 1. 2. 1. 3. 3. 1. 1. 1. 1. 2. 1. 1. 1. 1. 1. 1. 3. 1. 1. 1. 1.\n",
      " 2. 1. 1. 3. 1. 1. 1. 3. 1. 1. 1. 1. 1. 1. 1. 1. 1. 1. 1. 1. 1. 2. 1. 1.\n",
      " 1. 1. 3. 1. 2. 1. 1. 1. 3. 2. 1. 1. 1. 1. 1. 3. 1. 2. 2. 1. 1. 3. 1. 2.\n",
      " 1. 1. 1. 1. 1. 3. 1. 1. 1. 3. 1. 1. 1. 1. 3. 3. 1. 1. 1. 1. 1. 1. 1. 1.\n",
      " 2. 3. 1. 1. 1. 1. 3. 1. 2. 1. 3. 2. 2. 1. 1. 1. 2. 1. 1. 1. 1. 1. 3. 3.\n",
      " 1. 1. 1. 2. 2. 1. 1. 2. 1. 1. 3. 1. 2. 1. 3. 3. 1. 3. 3. 1. 1. 1. 1. 1.\n",
      " 2. 2. 2. 1. 3. 3. 1. 2. 1. 1. 1. 2. 1. 2. 3. 1. 1. 1. 1. 3. 1. 1. 3. 1.\n",
      " 1. 3. 1. 1. 1. 3. 2. 1. 1. 3. 1. 1. 2. 2. 1. 2. 3. 3. 1. 1. 1. 1. 3. 2.\n",
      " 3. 2. 1. 1. 2. 1. 1. 2. 3. 1. 1. 1. 1. 1. 1. 1. 1. 1. 2. 1. 1. 1. 2. 1.\n",
      " 1. 1. 3. 1. 3. 2. 1. 1. 1. 1. 3. 1. 1. 1. 1. 2. 3. 1. 1. 3. 1. 3. 1. 1.\n",
      " 1. 1. 1. 2. 1. 3. 1. 1. 1. 1. 3. 1.]\n"
     ]
    }
   ],
   "source": [
    "p1 = prob[i]    # prob of class 1\n",
    "p2 = (1 - p1) / 2   # prob of class 2,3\n",
    "size = 300   # size of training data set\n",
    "size1 = int(300 * p1)    # size of class 1\n",
    "size2 = int(300 * p2)    # size of class 2,3\n",
    "sigma = 0.55\n",
    "\n",
    "\n",
    "    \n",
    "# Define the centers of the three groups on the unit ball\n",
    "u1 = np.concatenate(([1], np.zeros(d-1)))\n",
    "u2 = np.concatenate(([0], [1], np.zeros(d-2)))\n",
    "u3 = np.concatenate(([0], np.zeros(d-2), [1]))\n",
    "\n",
    "\n",
    "# Generate the dataset\n",
    "X_train = np.zeros((d, size))  # d-dim training dataset\n",
    "y_train = np.zeros(size)    # labels for training data\n",
    "X_test = np.zeros((d, 10 * size)) # d-dim test data\n",
    "y_test = np.zeros(10 * size) # labels for test data\n",
    "\n",
    "\n",
    "# Generate training dataset class1\n",
    "for i in range(size1):\n",
    "    # Class1\n",
    "    X_train[:, i] = np.random.normal(u1, sigma, size = d)\n",
    "    y_train[i] = 1\n",
    "\n",
    "# Generate training dataset class2 and class3\n",
    "for i in range(size2):\n",
    "    # Class2\n",
    "    X_train[:, i + size1] = np.random.normal(u2, sigma, size = d)\n",
    "    y_train[i + size1] = 2\n",
    "    \n",
    "    # Class3\n",
    "    X_train[:, i + size1 + size2] = np.random.normal(u3, sigma, size = d)\n",
    "    y_train[i + size1 + size2] = 3\n",
    "\n",
    "\n",
    "# Generate testing dataset class1\n",
    "for i in range(10 * size1):\n",
    "    # Class1\n",
    "    X_test[:, i] = np.random.normal(u1, sigma, size = d)\n",
    "    y_test[i] = 1\n",
    "\n",
    "# Generate testing dataset class2 and class3\n",
    "for i in range(10 * size2):\n",
    "    # Class2\n",
    "    X_test[:, i + 10 * size1] = np.random.normal(u2, sigma, size = d)\n",
    "    y_test[i + 10 * size1] = 2\n",
    "    \n",
    "    # Class3\n",
    "    X_test[:, i + 10 * (size1 + size2)] = np.random.normal(u3, sigma, size = d)\n",
    "    y_test[i + 10 * (size1 + size2)] = 3\n",
    "\n",
    "# Shuffle the data\n",
    "X_train, y_train = shuffle(X_train.T, y_train, random_state=42)\n",
    "X_train = X_train.T\n",
    "print(y_train)"
   ]
  },
  {
   "cell_type": "code",
   "execution_count": 96,
   "metadata": {},
   "outputs": [
    {
     "ename": "IndexError",
     "evalue": "arrays used as indices must be of integer (or boolean) type",
     "output_type": "error",
     "traceback": [
      "\u001b[1;31m---------------------------------------------------------------------------\u001b[0m",
      "\u001b[1;31mIndexError\u001b[0m                                Traceback (most recent call last)",
      "\u001b[1;32md:\\研究生\\研一\\下学期\\EECS553\\project\\mdwsvm-ad\\1.ipynb Cell 3\u001b[0m in \u001b[0;36m<cell line: 15>\u001b[1;34m()\u001b[0m\n\u001b[0;32m     <a href='vscode-notebook-cell:/d%3A/%E7%A0%94%E7%A9%B6%E7%94%9F/%E7%A0%94%E4%B8%80/%E4%B8%8B%E5%AD%A6%E6%9C%9F/EECS553/project/mdwsvm-ad/1.ipynb#W4sZmlsZQ%3D%3D?line=23'>24</a>\u001b[0m trainx \u001b[39m=\u001b[39m np\u001b[39m.\u001b[39mhstack((X_train[:, \u001b[39m0\u001b[39m:(i)\u001b[39m*\u001b[39mfolder_size], X_train[:, (i\u001b[39m+\u001b[39m\u001b[39m1\u001b[39m)\u001b[39m*\u001b[39mfolder_size:size]))\n\u001b[0;32m     <a href='vscode-notebook-cell:/d%3A/%E7%A0%94%E7%A9%B6%E7%94%9F/%E7%A0%94%E4%B8%80/%E4%B8%8B%E5%AD%A6%E6%9C%9F/EECS553/project/mdwsvm-ad/1.ipynb#W4sZmlsZQ%3D%3D?line=24'>25</a>\u001b[0m trainy \u001b[39m=\u001b[39m np\u001b[39m.\u001b[39mhstack((y_train[\u001b[39m0\u001b[39m:(i)\u001b[39m*\u001b[39mfolder_size], y_train[(i\u001b[39m+\u001b[39m\u001b[39m1\u001b[39m)\u001b[39m*\u001b[39mfolder_size:size]))\n\u001b[1;32m---> <a href='vscode-notebook-cell:/d%3A/%E7%A0%94%E7%A9%B6%E7%94%9F/%E7%A0%94%E4%B8%80/%E4%B8%8B%E5%AD%A6%E6%9C%9F/EECS553/project/mdwsvm-ad/1.ipynb#W4sZmlsZQ%3D%3D?line=25'>26</a>\u001b[0m Mdwsvm \u001b[39m=\u001b[39m mdwsvm(trainx, trainy, w, c)\n\u001b[0;32m     <a href='vscode-notebook-cell:/d%3A/%E7%A0%94%E7%A9%B6%E7%94%9F/%E7%A0%94%E4%B8%80/%E4%B8%8B%E5%AD%A6%E6%9C%9F/EECS553/project/mdwsvm-ad/1.ipynb#W4sZmlsZQ%3D%3D?line=27'>28</a>\u001b[0m pred_y \u001b[39m=\u001b[39m Mdwsvm\u001b[39m.\u001b[39mpredict(testx)\n\u001b[0;32m     <a href='vscode-notebook-cell:/d%3A/%E7%A0%94%E7%A9%B6%E7%94%9F/%E7%A0%94%E4%B8%80/%E4%B8%8B%E5%AD%A6%E6%9C%9F/EECS553/project/mdwsvm-ad/1.ipynb#W4sZmlsZQ%3D%3D?line=28'>29</a>\u001b[0m score \u001b[39m=\u001b[39m \u001b[39m1\u001b[39m \u001b[39m-\u001b[39m within_class_error(y_ture \u001b[39m=\u001b[39m testy, y_pred \u001b[39m=\u001b[39m pred_y)\n",
      "File \u001b[1;32md:\\研究生\\研一\\下学期\\EECS553\\project\\mdwsvm-ad\\mdwsvm.py:22\u001b[0m, in \u001b[0;36mmdwsvm.__init__\u001b[1;34m(self, X, y, W, C, alp)\u001b[0m\n\u001b[0;32m     20\u001b[0m \u001b[39mself\u001b[39m\u001b[39m.\u001b[39mC \u001b[39m=\u001b[39m C\n\u001b[0;32m     21\u001b[0m \u001b[39mself\u001b[39m\u001b[39m.\u001b[39malpha \u001b[39m=\u001b[39m alp\n\u001b[1;32m---> 22\u001b[0m \u001b[39mself\u001b[39m\u001b[39m.\u001b[39mB, \u001b[39mself\u001b[39m\u001b[39m.\u001b[39mbeta \u001b[39m=\u001b[39m \u001b[39mself\u001b[39;49m\u001b[39m.\u001b[39;49mfit()\n",
      "File \u001b[1;32md:\\研究生\\研一\\下学期\\EECS553\\project\\mdwsvm-ad\\mdwsvm.py:27\u001b[0m, in \u001b[0;36mmdwsvm.fit\u001b[1;34m(self)\u001b[0m\n\u001b[0;32m     25\u001b[0m d, n \u001b[39m=\u001b[39m \u001b[39mself\u001b[39m\u001b[39m.\u001b[39mX\u001b[39m.\u001b[39mshape\n\u001b[0;32m     26\u001b[0m k \u001b[39m=\u001b[39m \u001b[39mlen\u001b[39m(np\u001b[39m.\u001b[39munique(\u001b[39mself\u001b[39m\u001b[39m.\u001b[39my))\n\u001b[1;32m---> 27\u001b[0m W_y \u001b[39m=\u001b[39m \u001b[39mself\u001b[39;49m\u001b[39m.\u001b[39;49mW[:,\u001b[39mself\u001b[39;49m\u001b[39m.\u001b[39;49my]\n\u001b[0;32m     29\u001b[0m B \u001b[39m=\u001b[39m cp\u001b[39m.\u001b[39mVariable((d, k\u001b[39m-\u001b[39m\u001b[39m1\u001b[39m))\n\u001b[0;32m     30\u001b[0m beta \u001b[39m=\u001b[39m cp\u001b[39m.\u001b[39mVariable((k\u001b[39m-\u001b[39m\u001b[39m1\u001b[39m, \u001b[39m1\u001b[39m))\n",
      "\u001b[1;31mIndexError\u001b[0m: arrays used as indices must be of integer (or boolean) type"
     ]
    }
   ],
   "source": [
    "# Use cross validation to choose C for MDWSVM based on X_train\n",
    "\n",
    "# Define the range of values for c to evaluate\n",
    "c_values = list(np.arange(2 ** -3, 2 ** 12, 0.5))\n",
    "# Define the number of folds for cross-validation\n",
    "num_folds = 5\n",
    "folder_size = 60\n",
    "\n",
    "# Loop over each value of c and perform cross-validation\n",
    "best_c = None\n",
    "best_score = -1\n",
    "# Set the value for the MDWSVM classifier\n",
    "w = vertices(3)\n",
    "\n",
    "for c in c_values:\n",
    "    scores = np.zeros(5)\n",
    "    \n",
    "    # Perform cross-validation and calculate the average score\n",
    "    for i in range(num_folds):              \n",
    "        testx = X_train[:, i*folder_size:(i+1)*folder_size]\n",
    "        testy = y_train[i*folder_size:(i+1)*folder_size]\n",
    "        \n",
    "        \n",
    "        trainx = np.hstack((X_train[:, 0:(i)*folder_size], X_train[:, (i+1)*folder_size:size]))\n",
    "        trainy = np.hstack((y_train[0:(i)*folder_size], y_train[(i+1)*folder_size:size]))\n",
    "        Mdwsvm = mdwsvm(trainx, trainy, w, c)\n",
    "        \n",
    "        pred_y = Mdwsvm.predict(testx)\n",
    "        score = 1 - within_class_error(y_ture = testy, y_pred = pred_y)\n",
    "        scores[i] = score\n",
    "        \n",
    "    # Check if the current value of c is the best so far\n",
    "    avg_score = np.mean(scores)\n",
    "    if avg_score > best_score:\n",
    "        best_c = c\n",
    "        best_score = avg_score\n",
    "        \n",
    "print(best_c)\n",
    "print(best_score)\n"
   ]
  },
  {
   "cell_type": "code",
   "execution_count": null,
   "metadata": {},
   "outputs": [],
   "source": [
    "# use the optimal C to train X_train and get the final classifier\n",
    "Mdwsvm_666 = mdwsvm(X_train, y_train, w, best_c)\n",
    "\n",
    "# perform the final classifier on X_test\n",
    "pred_y = Mdwsvm_666.predict(X_test)\n",
    "print(within_class_error(y_ture = y_test, y_pred = pred_y))   # store the value for error"
   ]
  },
  {
   "cell_type": "code",
   "execution_count": null,
   "metadata": {},
   "outputs": [
    {
     "name": "stdout",
     "output_type": "stream",
     "text": [
      "[  0.   0. 100.   0.   0.]\n"
     ]
    }
   ],
   "source": []
  }
 ],
 "metadata": {
  "kernelspec": {
   "display_name": "Python 3",
   "language": "python",
   "name": "python3"
  },
  "language_info": {
   "codemirror_mode": {
    "name": "ipython",
    "version": 3
   },
   "file_extension": ".py",
   "mimetype": "text/x-python",
   "name": "python",
   "nbconvert_exporter": "python",
   "pygments_lexer": "ipython3",
   "version": "3.8.10"
  },
  "orig_nbformat": 4
 },
 "nbformat": 4,
 "nbformat_minor": 2
}
