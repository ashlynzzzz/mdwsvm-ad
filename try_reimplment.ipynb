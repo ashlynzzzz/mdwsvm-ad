{
 "cells": [
  {
   "cell_type": "code",
   "execution_count": 5,
   "metadata": {},
   "outputs": [],
   "source": [
    "import numpy as np\n",
    "from mdwsvm import mdwsvm\n",
    "from msvm import msvm\n",
    "from mdwd import mdwd\n",
    "from vertices_generator import vertices\n",
    "from metric import within_class_error\n",
    "import matplotlib.pyplot as plt\n",
    "from sklearn.utils import shuffle\n",
    "from cross_validation import cross_validation\n",
    "   \n",
    "\n",
    "prob = [1/3, 1/2, 2/3] # varying probabilities for class 1\n",
    "dim = [2, 10, 100, 500, 1000]\n",
    "err = np.zeros((5,3,3)) # 5-dim, 3 methods, 3 prob\n",
    "best_c = np.zeros((5,3,3))\n",
    "random_seed_num = 1\n",
    "np.random.seed(random_seed_num)  # set random seed"
   ]
  },
  {
   "cell_type": "code",
   "execution_count": 6,
   "metadata": {},
   "outputs": [
    {
     "name": "stderr",
     "output_type": "stream",
     "text": [
      "C:\\Users\\24232\\AppData\\Local\\Packages\\PythonSoftwareFoundation.Python.3.8_qbz5n2kfra8p0\\LocalCache\\local-packages\\Python38\\site-packages\\cvxpy\\problems\\problem.py:1385: UserWarning: Solution may be inaccurate. Try another solver, adjusting the solver settings, or solve with verbose=True for more information.\n",
      "  warnings.warn(\n"
     ]
    },
    {
     "name": "stdout",
     "output_type": "stream",
     "text": [
      "0.11033333333333334 1.0\n",
      "0.11 1.0\n",
      "0.136 0.5\n",
      "0.20933333333333334 0.5\n",
      "0.29533333333333334 2.0\n",
      "0.10688888888888888 64.0\n",
      "0.09800000000000002 4.0\n",
      "0.17088888888888887 32.0\n",
      "0.24955555555555556 16.0\n",
      "0.2988888888888889 8.0\n",
      "0.14966666666666664 4.0\n",
      "0.13416666666666666 8.0\n",
      "0.21866666666666665 1024.0\n",
      "0.2575 32.0\n",
      "0.33816666666666667 128.0\n"
     ]
    }
   ],
   "source": [
    "for index in range(3):\n",
    "    p1 = prob[index]    # prob of class 1\n",
    "    p2 = (1 - p1) / 2   # prob of class 2,3\n",
    "    size = 300   # size of training data set\n",
    "    size1 = int(300 * p1)    # size of class 1\n",
    "    size2 = int(300 * p2)    # size of class 2,3\n",
    "    sigma = 0.55\n",
    "    \n",
    "    for j in range(5):\n",
    "        d = dim[j]\n",
    "         \n",
    "        # Define the centers of the three groups on the unit ball\n",
    "        u1 = np.concatenate(([1], np.zeros(d-1)))\n",
    "        u2 = np.concatenate(([-1/2], [np.sqrt(3)/2], np.zeros(d-2)))\n",
    "        u3 = np.concatenate(([-1/2], [-np.sqrt(3)/2], np.zeros(d-2)))\n",
    "        \n",
    "        # Generate the dataset\n",
    "        X_train = np.zeros((d, size))  # d-dim training dataset, each column is an obervation\n",
    "        y_train = np.zeros(size, dtype=int)    # labels for training data\n",
    "        X_test = np.zeros((d, 10 * size)) # d-dim test data\n",
    "        y_test = np.zeros(10 * size, dtype=int) # labels for test data\n",
    "        \n",
    "        # Generate training dataset class1\n",
    "        for i in range(size1):\n",
    "            # Class1\n",
    "            X_train[:, i] = np.random.normal(u1, sigma, size = d)\n",
    "            y_train[i] = 0\n",
    "        \n",
    "        # Generate training dataset class2 and class3\n",
    "        for i in range(size2):\n",
    "            # Class2\n",
    "            X_train[:, i + size1] = np.random.normal(u2, sigma, size = d)\n",
    "            y_train[i + size1] = 1\n",
    "            \n",
    "            # Class3\n",
    "            X_train[:, i + size1 + size2] = np.random.normal(u3, sigma, size = d)\n",
    "            y_train[i + size1 + size2] = 2\n",
    "\n",
    "\n",
    "        # Generate testing dataset class1\n",
    "        for i in range(10 * size1):\n",
    "            # Class1\n",
    "            X_test[:, i] = np.random.normal(u1, sigma, size = d)\n",
    "            y_test[i] = 0\n",
    "        \n",
    "        # Generate testing dataset class2 and class3\n",
    "        for i in range(10 * size2):\n",
    "            # Class2\n",
    "            X_test[:, i + 10 * size1] = np.random.normal(u2, sigma, size = d)\n",
    "            y_test[i + 10 * size1] = 1\n",
    "            \n",
    "            # Class3\n",
    "            X_test[:, i + 10 * (size1 + size2)] = np.random.normal(u3, sigma, size = d)\n",
    "            y_test[i + 10 * (size1 + size2)] = 2\n",
    "\n",
    "        # Shuffle the data\n",
    "        X_train, y_train = shuffle(X_train.T, y_train, random_state=random_seed_num)\n",
    "        X_train = X_train.T\n",
    "        \n",
    "        \n",
    "        # Use cross validation to choose C for MDWSVM based on X_train\n",
    "        # Define values for cross_validation\n",
    "        c_values = [2**i for i in range(-3,13)]\n",
    "        w = vertices(3)\n",
    "        \n",
    "        # MDWSVM\n",
    "        err[j,0,index], best_c[j,0,index] = cross_validation(c_values, 5, size, w, X_train, X_test, y_test, y_train, mdwsvm)\n",
    "        print(err[j,0,index], best_c[j,0,index])\n",
    "        # msvm\n",
    "        err[j,1,index], best_c[j,1,index] = cross_validation(c_values, 5, size, w, X_train, X_test, y_test, y_train, msvm)\n",
    "\n",
    "        # mdwd\n",
    "        err[j,2,index], best_c[j,2,index] = cross_validation(c_values, 5, size, w, X_train, X_test, y_test, y_train, mdwd)"
   ]
  },
  {
   "cell_type": "code",
   "execution_count": 7,
   "metadata": {},
   "outputs": [
    {
     "name": "stdout",
     "output_type": "stream",
     "text": [
      "[[[0.11033333 0.10688889 0.14966667]\n",
      "  [0.11233333 0.10844444 0.13      ]\n",
      "  [0.11       0.11022222 0.14716667]]\n",
      "\n",
      " [[0.11       0.098      0.13416667]\n",
      "  [0.11033333 0.09955556 0.16716667]\n",
      "  [0.112      0.10666667 0.13933333]]\n",
      "\n",
      " [[0.136      0.17088889 0.21866667]\n",
      "  [0.136      0.16177778 0.21566667]\n",
      "  [0.144      0.18466667 0.32166667]]\n",
      "\n",
      " [[0.20933333 0.24955556 0.2575    ]\n",
      "  [0.20833333 0.28844444 0.31216667]\n",
      "  [0.21166667 0.38755556 0.6       ]]\n",
      "\n",
      " [[0.29533333 0.29888889 0.33816667]\n",
      "  [0.328      0.328      0.37716667]\n",
      "  [0.295      0.47511111 0.66666667]]]\n",
      "[[[1.000e+00 6.400e+01 4.000e+00]\n",
      "  [1.000e+00 4.000e+00 5.120e+02]\n",
      "  [2.000e+00 2.560e+02 6.400e+01]]\n",
      "\n",
      " [[1.000e+00 4.000e+00 8.000e+00]\n",
      "  [1.000e+00 4.000e+00 4.000e+00]\n",
      "  [2.000e+00 6.400e+01 6.400e+01]]\n",
      "\n",
      " [[5.000e-01 3.200e+01 1.024e+03]\n",
      "  [5.000e-01 6.400e+01 6.400e+01]\n",
      "  [2.000e+00 4.000e+00 8.000e+00]]\n",
      "\n",
      " [[5.000e-01 1.600e+01 3.200e+01]\n",
      "  [5.000e-01 3.200e+01 3.200e+01]\n",
      "  [1.000e+00 2.000e+00 2.000e+00]]\n",
      "\n",
      " [[2.000e+00 8.000e+00 1.280e+02]\n",
      "  [3.200e+01 3.200e+01 6.400e+01]\n",
      "  [1.000e+00 2.000e+00 1.250e-01]]]\n"
     ]
    }
   ],
   "source": [
    "print(err)\n",
    "print(best_c)"
   ]
  },
  {
   "cell_type": "code",
   "execution_count": 8,
   "metadata": {},
   "outputs": [
    {
     "data": {
      "image/png": "[encoded data removed]",
      "text/plain": [
       "<Figure size 576x216 with 3 Axes>"
      ]
     },
     "metadata": {
      "needs_background": "light"
     },
     "output_type": "display_data"
    }
   ],
   "source": [
    "# Plot\n",
    "\n",
    "fig, axs = plt.subplots(nrows=1, ncols=3, sharey=True, figsize=(8, 3))\n",
    "fig.text(0.53, 0, 'Dimension', ha='center')\n",
    "\n",
    "axs[0].set_ylabel('Error')\n",
    "axs[0].set_title('p = 1/3')\n",
    "axs[0].plot(dim, err[:,0,0], color = 'black', linestyle = '-', label = 'MDWSVM')\n",
    "axs[0].plot(dim, err[:,1,0], color = 'red', linestyle = '--', label = 'MSVM')\n",
    "axs[0].plot(dim, err[:,2,0], color = 'blue', linestyle = ':', label = 'MDWD')\n",
    "\n",
    "axs[1].set_title('p = 1/2')\n",
    "axs[1].plot(dim, err[:,0,1], color = 'black', linestyle = '-', label = 'MDWSVM')\n",
    "axs[1].plot(dim, err[:,1,1], color = 'red', linestyle = '--', label = 'MSVM')\n",
    "axs[1].plot(dim, err[:,2,1], color = 'blue', linestyle = ':', label = 'MDWD')\n",
    "\n",
    "axs[2].set_title('p = 2/3')\n",
    "axs[2].plot(dim, err[:,0,2], color = 'black', linestyle = '-', label = 'MDWSVM')\n",
    "axs[2].plot(dim, err[:,1,2], color = 'red', linestyle = '--', label = 'MSVM')\n",
    "axs[2].plot(dim, err[:,2,2], color = 'blue', linestyle = ':', label = 'MDWD')\n",
    "\n",
    "# Create a single legend outside of the subplots\n",
    "handles, labels = axs[0].get_legend_handles_labels()\n",
    "fig.legend(handles, labels, loc='upper left', bbox_to_anchor=(1.0, 0.7))\n",
    "\n",
    "plt.tight_layout()\n",
    "plt.show()"
   ]
  }
 ],
 "metadata": {
  "kernelspec": {
   "display_name": "Python 3",
   "language": "python",
   "name": "python3"
  },
  "language_info": {
   "codemirror_mode": {
    "name": "ipython",
    "version": 3
   },
   "file_extension": ".py",
   "mimetype": "text/x-python",
   "name": "python",
   "nbconvert_exporter": "python",
   "pygments_lexer": "ipython3",
   "version": "3.8.10"
  },
  "orig_nbformat": 4
 },
 "nbformat": 4,
 "nbformat_minor": 2
}
