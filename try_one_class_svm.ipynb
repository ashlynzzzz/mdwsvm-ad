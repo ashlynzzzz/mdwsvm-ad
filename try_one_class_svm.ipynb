{
 "cells": [
  {
   "cell_type": "code",
   "execution_count": 61,
   "metadata": {},
   "outputs": [],
   "source": [
    "import numpy as np\n",
    "import matplotlib.pyplot as plt\n",
    "from emnist import extract_training_samples\n",
    "from functools import partial\n",
    "\n",
    "from vertices_generator import vertices\n",
    "from kernel import Gaussian_kernel\n",
    "from mdwsvm_ad import mdwsvm_ad\n",
    "from mdwsvm import mdwsvm\n",
    "from one_class_svm import one_class_svm\n",
    "from hybrid import hybrid\n",
    "from metric import within_class_error"
   ]
  },
  {
   "cell_type": "code",
   "execution_count": 62,
   "metadata": {},
   "outputs": [
    {
     "name": "stdout",
     "output_type": "stream",
     "text": [
      "7972\n"
     ]
    }
   ],
   "source": [
    "# Load data\n",
    "digits_images, digits_labels = extract_training_samples('digits')\n",
    "letters_images, letters_labels = extract_training_samples('byclass')\n",
    "\n",
    "# Get number 0, 5, 7, 8\n",
    "mask_0 = (digits_labels == 0)\n",
    "digits_images_0 = digits_images[mask_0]\n",
    "digits_labels_0 = digits_labels[mask_0]\n",
    "\n",
    "mask_5 = (digits_labels == 5)\n",
    "digits_images_5 = digits_images[mask_5]\n",
    "digits_labels_5 = digits_labels[mask_5]\n",
    "\n",
    "mask_7 = (digits_labels == 7)\n",
    "digits_images_7 = digits_images[mask_7]\n",
    "digits_labels_7 = digits_labels[mask_7]\n",
    "\n",
    "mask_8 = (digits_labels == 8)\n",
    "digits_images_8 = digits_images[mask_8]\n",
    "digits_labels_8 = digits_labels[mask_8]\n",
    "\n",
    "\n",
    "# Get letter v, w, y\n",
    "mask_vwy = (letters_labels == 57) | (letters_labels == 58) | (letters_labels == 60)\n",
    "letters_images = letters_images[mask_vwy]\n",
    "letters_labels = letters_labels[mask_vwy]\n",
    "print(len(letters_labels))\n",
    "#plt.imshow(letters_images[3,:,:])"
   ]
  },
  {
   "cell_type": "code",
   "execution_count": 63,
   "metadata": {},
   "outputs": [],
   "source": [
    "# Get training and testing data\n",
    "X_train = np.zeros((4000,28,28))\n",
    "y_train = np.zeros((4000), dtype=int)\n",
    "X_test = np.zeros((8000,28,28))\n",
    "y_test = np.zeros((8000), dtype=int)\n",
    "\n",
    "# 4000 digits normalized training data \n",
    "X_train[0:1000,:,:] = digits_images_0[0:1000,:,:] / 255\n",
    "X_train[1000:2000,:,:] = digits_images_5[0:1000,:,:] / 255\n",
    "X_train[2000:3000,:,:] = digits_images_7[0:1000,:,:] / 255\n",
    "X_train[3000:4000,:,:] = digits_images_8[0:1000,:,:] / 255\n",
    "X_train = X_train.reshape(4000,784).T \n",
    "# 4000 digits training label\n",
    "y_train[0:1000] = digits_labels_0[0:1000]\n",
    "y_train[1000:2000] = digits_labels_5[0:1000]\n",
    "y_train[2000:3000] = digits_labels_7[0:1000]\n",
    "y_train[3000:4000] = digits_labels_8[0:1000]\n",
    "\n",
    "# Get 400 digits for test X\n",
    "X_test[0:100,:,:] = digits_images_0[1000:1100,:,:] / 255\n",
    "X_test[100:200,:,:] = digits_images_5[1000:1100,:,:] / 255\n",
    "X_test[200:300,:,:] = digits_images_7[1000:1100,:,:] / 255\n",
    "X_test[300:400,:,:] = digits_images_8[1000:1100,:,:] / 255\n",
    "# 400 digits testing label\n",
    "y_test[0:100] = digits_labels_0[1000:1100]\n",
    "y_test[100:200] = digits_labels_5[1000:1100]\n",
    "y_test[200:300] = digits_labels_7[1000:1100]\n",
    "y_test[300:400] = digits_labels_8[1000:1100]\n",
    "# Get 7600 lowercase letters\n",
    "X_test[400:8000,:,:] = letters_images[0:7600,:,:] / 255\n",
    "y_test[400:8000] = letters_labels[0:7600]\n",
    "\n",
    "# 2000 digits and 38000 letters normalized data, 0-9 are 0-9, 36-61 are a-z\n",
    "X_test = X_test.reshape(8000,784).T"
   ]
  },
  {
   "cell_type": "code",
   "execution_count": 74,
   "metadata": {},
   "outputs": [],
   "source": [
    "err_svm = np.zeros((6,6)) # 6 sigma value, 6 v value\n",
    "sig_values = [0.001, 0.01, 0.1, 1, 10, 100]\n",
    "v_values = [0.001, 0.01, 0.1, 0.3, 0.6, 0.9]\n",
    "# True symbol for testing data\n",
    "y_true = np.ones((8000), dtype=int)\n",
    "y_true[400:8000] = np.full((7600), -1, dtype=int)\n",
    "\n",
    "# Initialize\n",
    "best_v = 0\n",
    "best_sig = 0\n",
    "best_score = -1\n",
    "i = 0\n",
    "j = 0\n",
    "# Loop to find best v and sig value\n",
    "for sig in sig_values:\n",
    "    k = partial(Gaussian_kernel, sigma2 = sig)\n",
    "    \n",
    "    for v in v_values:\n",
    "        model = one_class_svm(X_test, v = v, K = k)\n",
    "        y_pred = model.predict()\n",
    "        score = 1 - within_class_error(y_ture = y_true, y_pred = y_pred)\n",
    "        \n",
    "        # Check if the current value is the best so far\n",
    "        if score > best_score:\n",
    "                best_v = v\n",
    "                best_sig = sig\n",
    "                best_score = score\n",
    "                \n",
    "        # Record the current error and all the parameter values\n",
    "        err_svm[i,j] = score\n",
    "        j += 1\n",
    "    # Set index\n",
    "    i += 1\n",
    "    j = 0\n"
   ]
  },
  {
   "cell_type": "code",
   "execution_count": null,
   "metadata": {},
   "outputs": [],
   "source": [
    "print(best_v)\n",
    "print(best_sig)\n",
    "print(best_score)"
   ]
  },
  {
   "cell_type": "code",
   "execution_count": null,
   "metadata": {},
   "outputs": [
    {
     "ename": "NameError",
     "evalue": "name 'y_test_2' is not defined",
     "output_type": "error",
     "traceback": [
      "\u001b[1;31m---------------------------------------------------------------------------\u001b[0m",
      "\u001b[1;31mNameError\u001b[0m                                 Traceback (most recent call last)",
      "\u001b[1;32md:\\研究生\\研一\\下学期\\EECS553\\project\\mdwsvm-ad\\try_one_class_svm.ipynb Cell 5\u001b[0m in \u001b[0;36m<cell line: 1>\u001b[1;34m()\u001b[0m\n\u001b[1;32m----> <a href='vscode-notebook-cell:/d%3A/%E7%A0%94%E7%A9%B6%E7%94%9F/%E7%A0%94%E4%B8%80/%E4%B8%8B%E5%AD%A6%E6%9C%9F/EECS553/project/mdwsvm-ad/try_one_class_svm.ipynb#W6sZmlsZQ%3D%3D?line=0'>1</a>\u001b[0m within_class_error(y_test_2, y_pred)\n",
      "\u001b[1;31mNameError\u001b[0m: name 'y_test_2' is not defined"
     ]
    }
   ],
   "source": [
    "# Plot\n",
    "fig, axs = plt.subplots(nrows=1, ncols=2, sharey=True, figsize=(8, 3))\n",
    "\n",
    "axs[0].set_ylabel('Error')\n",
    "axs[0].set_title('v')\n",
    "for i in range(6):\n",
    "    axs[0].plot(v_values, err_svm[i,:], color = 'black', linestyle = '-', label = 'v')\n",
    "\n",
    "axs[1].set_title('sig')\n",
    "for i in range(6):\n",
    "    axs[1].plot(sig_values, err_svm[:,i], color = 'black', linestyle = '-', label = 'sig')\n",
    "\n",
    "plt.tight_layout()\n",
    "plt.show()\n"
   ]
  }
 ],
 "metadata": {
  "kernelspec": {
   "display_name": "Python 3",
   "language": "python",
   "name": "python3"
  },
  "language_info": {
   "codemirror_mode": {
    "name": "ipython",
    "version": 3
   },
   "file_extension": ".py",
   "mimetype": "text/x-python",
   "name": "python",
   "nbconvert_exporter": "python",
   "pygments_lexer": "ipython3",
   "version": "3.8.10"
  },
  "orig_nbformat": 4
 },
 "nbformat": 4,
 "nbformat_minor": 2
}
