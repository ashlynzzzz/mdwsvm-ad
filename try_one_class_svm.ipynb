{
 "cells": [
  {
   "cell_type": "code",
   "execution_count": 6,
   "metadata": {},
   "outputs": [],
   "source": [
    "import numpy as np\n",
    "import matplotlib.pyplot as plt\n",
    "from emnist import extract_training_samples\n",
    "from functools import partial\n",
    "\n",
    "from vertices_generator import vertices\n",
    "from kernel import Gaussian_kernel\n",
    "from mdwsvm_ad import mdwsvm_ad\n",
    "from mdwsvm import mdwsvm\n",
    "from one_class_svm import one_class_svm\n",
    "from hybrid import hybrid\n",
    "from metric import within_class_error"
   ]
  },
  {
   "cell_type": "code",
   "execution_count": 7,
   "metadata": {},
   "outputs": [
    {
     "name": "stdout",
     "output_type": "stream",
     "text": [
      "7972\n"
     ]
    }
   ],
   "source": [
    "# Load data\n",
    "digits_images, digits_labels = extract_training_samples('digits')\n",
    "letters_images, letters_labels = extract_training_samples('byclass')\n",
    "\n",
    "# Get number 0, 5, 7, 8\n",
    "mask_0 = (digits_labels == 0)\n",
    "digits_images_0 = digits_images[mask_0]\n",
    "digits_labels_0 = digits_labels[mask_0]\n",
    "\n",
    "mask_5 = (digits_labels == 5)\n",
    "digits_images_5 = digits_images[mask_5]\n",
    "digits_labels_5 = digits_labels[mask_5]\n",
    "\n",
    "mask_7 = (digits_labels == 7)\n",
    "digits_images_7 = digits_images[mask_7]\n",
    "digits_labels_7 = digits_labels[mask_7]\n",
    "\n",
    "mask_8 = (digits_labels == 8)\n",
    "digits_images_8 = digits_images[mask_8]\n",
    "digits_labels_8 = digits_labels[mask_8]\n",
    "\n",
    "\n",
    "# Get letter v, w, y\n",
    "mask_vwy = (letters_labels == 57) | (letters_labels == 58) | (letters_labels == 60)\n",
    "letters_images = letters_images[mask_vwy]\n",
    "letters_labels = letters_labels[mask_vwy]\n",
    "print(len(letters_labels))\n",
    "#plt.imshow(letters_images[3,:,:])"
   ]
  },
  {
   "cell_type": "code",
   "execution_count": 8,
   "metadata": {},
   "outputs": [],
   "source": [
    "# Get training and testing data\n",
    "X_train = np.zeros((4000,28,28))\n",
    "y_train = np.zeros((4000), dtype=int)\n",
    "X_test = np.zeros((8000,28,28))\n",
    "y_test = np.zeros((8000), dtype=int)\n",
    "\n",
    "# 4000 digits normalized training data \n",
    "X_train[0:1000,:,:] = digits_images_0[0:1000,:,:] / 255\n",
    "X_train[1000:2000,:,:] = digits_images_5[0:1000,:,:] / 255\n",
    "X_train[2000:3000,:,:] = digits_images_7[0:1000,:,:] / 255\n",
    "X_train[3000:4000,:,:] = digits_images_8[0:1000,:,:] / 255\n",
    "X_train = X_train.reshape(4000,784).T \n",
    "# 4000 digits training label\n",
    "y_train[0:1000] = digits_labels_0[0:1000]\n",
    "y_train[1000:2000] = digits_labels_5[0:1000]\n",
    "y_train[2000:3000] = digits_labels_7[0:1000]\n",
    "y_train[3000:4000] = digits_labels_8[0:1000]\n",
    "\n",
    "# Get 400 digits for test X\n",
    "X_test[0:100,:,:] = digits_images_0[1000:1100,:,:] / 255\n",
    "X_test[100:200,:,:] = digits_images_5[1000:1100,:,:] / 255\n",
    "X_test[200:300,:,:] = digits_images_7[1000:1100,:,:] / 255\n",
    "X_test[300:400,:,:] = digits_images_8[1000:1100,:,:] / 255\n",
    "# 400 digits testing label\n",
    "y_test[0:100] = digits_labels_0[1000:1100]\n",
    "y_test[100:200] = digits_labels_5[1000:1100]\n",
    "y_test[200:300] = digits_labels_7[1000:1100]\n",
    "y_test[300:400] = digits_labels_8[1000:1100]\n",
    "# Get 7600 lowercase letters\n",
    "X_test[400:8000,:,:] = letters_images[0:7600,:,:] / 255\n",
    "y_test[400:8000] = letters_labels[0:7600]\n",
    "\n",
    "# 2000 digits and 38000 letters normalized data, 0-9 are 0-9, 36-61 are a-z\n",
    "X_test = X_test.reshape(8000,784).T"
   ]
  },
  {
   "cell_type": "code",
   "execution_count": 9,
   "metadata": {},
   "outputs": [
    {
     "name": "stdout",
     "output_type": "stream",
     "text": [
      "0.503157894736842\n",
      "0.505328947368421\n",
      "0.3426973684210526\n",
      "0.18993421052631576\n",
      "0.26421052631578945\n",
      "0.49407894736842106\n",
      "0.4826973684210526\n",
      "0.48585526315789473\n",
      "0.6113157894736843\n",
      "0.4635526315789473\n",
      "0.4486184210526316\n",
      "0.45164473684210527\n",
      "0.7699342105263158\n",
      "0.770921052631579\n",
      "0.77125\n",
      "0.77\n",
      "0.76875\n",
      "0.77\n",
      "0.2421052631578947\n",
      "0.24078947368421055\n",
      "0.24118421052631578\n",
      "0.24092105263157904\n",
      "0.24092105263157904\n",
      "0.18328947368421056\n",
      "0.17835526315789474\n",
      "0.1796052631578947\n",
      "0.18046052631578946\n",
      "0.18046052631578946\n",
      "0.1623684210526316\n",
      "0.16546052631578956\n",
      "0.22690789473684214\n",
      "0.22802631578947374\n",
      "0.22730263157894737\n",
      "0.24414473684210525\n",
      "0.35526315789473684\n",
      "0.3971710526315789\n"
     ]
    }
   ],
   "source": [
    "err_svm = np.zeros((6,6)) # 6 sigma value, 6 v value\n",
    "sig_values = [0.1, 0.5, 1, 3, 5, 10]\n",
    "v_values = [0.001, 0.01, 0.1, 0.3, 0.6, 0.9]\n",
    "# True symbol for testing data\n",
    "y_true = np.ones((8000), dtype=int)\n",
    "y_true[400:8000] = np.full((7600), -1, dtype=int)\n",
    "\n",
    "# Initialize\n",
    "best_v = 0\n",
    "best_sig = 0\n",
    "best_score = -1\n",
    "i = 0\n",
    "j = 0\n",
    "# Loop to find best v and sig value\n",
    "for sig in sig_values:\n",
    "    k = partial(Gaussian_kernel, sigma2 = sig)\n",
    "    \n",
    "    for v in v_values:\n",
    "        model = one_class_svm(X_test, v = v, K = k)\n",
    "        y_pred = model.predict()\n",
    "        score = 1 - within_class_error(y_ture = y_true, y_pred = y_pred)\n",
    "        \n",
    "        # Check if the current value is the best so far\n",
    "        if score > best_score:\n",
    "                best_v = v\n",
    "                best_sig = sig\n",
    "                best_score = score\n",
    "                \n",
    "        # Record the current error and all the parameter values\n",
    "        err_svm[i,j] = 1 - score\n",
    "        j += 1\n",
    "        print(score)\n",
    "    # Set index\n",
    "    i += 1\n",
    "    j = 0\n"
   ]
  },
  {
   "cell_type": "code",
   "execution_count": 10,
   "metadata": {},
   "outputs": [
    {
     "name": "stdout",
     "output_type": "stream",
     "text": [
      "0.1\n",
      "1\n",
      "0.77125\n",
      "[[0.49684211 0.49467105 0.65730263 0.81006579 0.73578947 0.50592105]\n",
      " [0.51730263 0.51414474 0.38868421 0.53644737 0.55138158 0.54835526]\n",
      " [0.23006579 0.22907895 0.22875    0.23       0.23125    0.23      ]\n",
      " [0.75789474 0.75921053 0.75881579 0.75907895 0.75907895 0.81671053]\n",
      " [0.82164474 0.82039474 0.81953947 0.81953947 0.83763158 0.83453947]\n",
      " [0.77309211 0.77197368 0.77269737 0.75585526 0.64473684 0.60282895]]\n"
     ]
    }
   ],
   "source": [
    "print(best_v)\n",
    "print(best_sig)\n",
    "print(best_score)\n",
    "print(err_svm)"
   ]
  },
  {
   "cell_type": "code",
   "execution_count": 13,
   "metadata": {},
   "outputs": [
    {
     "data": {
      "image/png": "[encoded data removed]",
      "text/plain": [
       "<Figure size 576x216 with 2 Axes>"
      ]
     },
     "metadata": {
      "needs_background": "light"
     },
     "output_type": "display_data"
    }
   ],
   "source": [
    "# Plot\n",
    "fig, axs = plt.subplots(nrows=1, ncols=2, sharey=True, figsize=(8, 3))\n",
    "\n",
    "axs[0].set_ylim([0, 1])\n",
    "axs[0].set_ylabel('Error')\n",
    "axs[0].set_title('v')\n",
    "for i in range(6):\n",
    "    axs[0].plot(v_values, err_svm[i,:], color = 'black', linestyle = '-', label = 'v')\n",
    "\n",
    "axs[1].set_title('sig')\n",
    "for i in range(6):\n",
    "    axs[1].plot(sig_values, err_svm[:,i], color = 'black', linestyle = '-', label = 'sig')\n",
    "\n",
    "plt.tight_layout()\n",
    "plt.show()\n"
   ]
  }
 ],
 "metadata": {
  "kernelspec": {
   "display_name": "Python 3",
   "language": "python",
   "name": "python3"
  },
  "language_info": {
   "codemirror_mode": {
    "name": "ipython",
    "version": 3
   },
   "file_extension": ".py",
   "mimetype": "text/x-python",
   "name": "python",
   "nbconvert_exporter": "python",
   "pygments_lexer": "ipython3",
   "version": "3.8.10"
  },
  "orig_nbformat": 4
 },
 "nbformat": 4,
 "nbformat_minor": 2
}
