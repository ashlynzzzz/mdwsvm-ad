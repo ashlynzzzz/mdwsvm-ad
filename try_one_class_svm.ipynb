{
 "cells": [
  {
   "cell_type": "code",
   "execution_count": 3,
   "metadata": {},
   "outputs": [],
   "source": [
    "import numpy as np\n",
    "import matplotlib.pyplot as plt\n",
    "from emnist import extract_training_samples\n",
    "from functools import partial\n",
    "\n",
    "from vertices_generator import vertices\n",
    "from kernel import Gaussian_kernel\n",
    "from mdwsvm_ad import mdwsvm_ad\n",
    "from mdwsvm import mdwsvm\n",
    "from one_class_svm import one_class_svm\n",
    "from hybrid import hybrid\n",
    "from metric import within_class_error"
   ]
  },
  {
   "cell_type": "code",
   "execution_count": 4,
   "metadata": {},
   "outputs": [],
   "source": [
    "# Load data\n",
    "digits_images, digits_labels = extract_training_samples('digits')\n",
    "letters_images, letters_labels = extract_training_samples('byclass')\n",
    "\n",
    "# Get number \n",
    "mask_1 = (digits_labels == 1)\n",
    "digits_images_1 = digits_images[mask_1]\n",
    "digits_labels_1 = digits_labels[mask_1]\n",
    "\n",
    "mask_3 = (digits_labels == 3)\n",
    "digits_images_3 = digits_images[mask_3]\n",
    "digits_labels_3 = digits_labels[mask_3]\n",
    "\n",
    "mask_5 = (digits_labels == 5)\n",
    "digits_images_5 = digits_images[mask_5]\n",
    "digits_labels_5 = digits_labels[mask_5]\n",
    "\n",
    "mask_7 = (digits_labels == 7)\n",
    "digits_images_7 = digits_images[mask_7]\n",
    "digits_labels_7 = digits_labels[mask_7]\n",
    "\n",
    "\n",
    "# Get letter u, v, w, x, y, z\n",
    "mask_uvwxyz = (letters_labels == 56) | (letters_labels == 57) | (letters_labels == 58) | (letters_labels == 59) | (letters_labels == 60) | (letters_labels == 61)\n",
    "letters_images = letters_images[mask_uvwxyz]\n",
    "letters_labels = letters_labels[mask_uvwxyz]"
   ]
  },
  {
   "cell_type": "code",
   "execution_count": 5,
   "metadata": {},
   "outputs": [],
   "source": [
    "# Get training and testing data\n",
    "X_train = np.zeros((800,28,28))\n",
    "y_train = np.zeros((800), dtype=int)\n",
    "X_val = np.zeros((8000,28,28))\n",
    "y_val = np.zeros((8000), dtype=int)\n",
    "X_test = np.zeros((8000,28,28))\n",
    "y_test = np.zeros((8000), dtype=int)\n",
    "\n",
    "# 800 digits normalized training data \n",
    "X_train[0:150,:,:] = digits_images_1[0:150,:,:] / 255\n",
    "X_train[150:300,:,:] = digits_images_3[0:150,:,:] / 255\n",
    "X_train[300:550,:,:] = digits_images_5[0:250,:,:] / 255\n",
    "X_train[550:800,:,:] = digits_images_7[0:250,:,:] / 255\n",
    "X_train = X_train.reshape(800,784).T \n",
    "# 800 digits training label\n",
    "y_train[0:150] = digits_labels_1[0:150] - 1\n",
    "y_train[150:300] = digits_labels_3[0:150] - 2\n",
    "y_train[300:550] = digits_labels_5[0:250] - 3\n",
    "y_train[550:800] = digits_labels_7[0:250] - 4\n",
    "\n",
    "# Used for hybrid\n",
    "# Get 400 digits for validation X\n",
    "X_val[0:100,:,:] = digits_images_1[1000:1100,:,:] / 255\n",
    "X_val[100:200,:,:] = digits_images_3[1000:1100,:,:] / 255\n",
    "X_val[200:300,:,:] = digits_images_5[1000:1100,:,:] / 255\n",
    "X_val[300:400,:,:] = digits_images_7[1000:1100,:,:] / 255\n",
    "# 400 digits validation label\n",
    "y_val[0:100] = digits_labels_1[1000:1100] - 1\n",
    "y_val[100:200] = digits_labels_3[1000:1100] - 2\n",
    "y_val[200:300] = digits_labels_5[1000:1100] - 3\n",
    "y_val[300:400] = digits_labels_7[1000:1100] - 4\n",
    "# Get 7600 lowercase letters\n",
    "X_val[400:8000,:,:] = letters_images[0:7600,:,:] / 255\n",
    "y_val[400:8000] = letters_labels[0:7600]\n",
    "# Get true y label to calculate hybrid error\n",
    "y_val_true_hybrid = -np.ones((8000), dtype=int)\n",
    "y_val_true_hybrid[0:400] = y_val[0:400]\n",
    "# Get true y label to calculate mdwsvm_ad error\n",
    "y_val_true_mdwsvm_ad = 4 * np.ones((8000), dtype=int)\n",
    "y_val_true_mdwsvm_ad[0:400] = y_val[0:400]\n",
    "# 400 digits and 7600 letters normalized data\n",
    "X_val = X_val.reshape(8000,784).T\n",
    "\n",
    "# Get 400 digits for test X\n",
    "X_test[0:100,:,:] = digits_images_1[1100:1200,:,:] / 255\n",
    "X_test[100:200,:,:] = digits_images_3[1100:1200,:,:] / 255\n",
    "X_test[200:300,:,:] = digits_images_5[1100:1200,:,:] / 255\n",
    "X_test[300:400,:,:] = digits_images_7[1100:1200,:,:] / 255\n",
    "# 400 digits test label\n",
    "y_test[0:100] = digits_labels_1[1100:1200] - 1\n",
    "y_test[100:200] = digits_labels_3[1100:1200] - 2\n",
    "y_test[200:300] = digits_labels_5[1100:1200] - 3\n",
    "y_test[300:400] = digits_labels_7[1100:1200] - 4\n",
    "# Get 7600 lowercase letters\n",
    "X_test[400:8000,:,:] = letters_images[8000:15600,:,:] / 255\n",
    "y_test[400:8000] = letters_labels[8000:15600]\n",
    "# Get true y label to calculate hybrid error\n",
    "y_test_true_hybrid = -np.ones((8000), dtype=int)\n",
    "y_test_true_hybrid[0:400] = y_test[0:400]\n",
    "# Get true y label to calculate mdwsvm_ad error\n",
    "y_test_true_mdwsvm_ad = 4 * np.ones((8000), dtype=int)\n",
    "y_test_true_mdwsvm_ad[0:400] = y_test[0:400]\n",
    "# 400 digits and 7600 letters normalized data\n",
    "X_test = X_test.reshape(8000,784).T\n",
    "\n",
    "# y_test: 0,1,2,3,56-61\n",
    "# y_test_true_hybrid: -1,0,1,2,3\n",
    "# y_test_true_mdwsvm_ad: 0,1,2,3,4"
   ]
  },
  {
   "cell_type": "code",
   "execution_count": 6,
   "metadata": {},
   "outputs": [
    {
     "name": "stdout",
     "output_type": "stream",
     "text": [
      "0.5232236842105262\n"
     ]
    }
   ],
   "source": [
    "err_svm = np.zeros((6,6)) # 6 sigma value, 6 v value\n",
    "sig_values = [0.1, 0.3, 0.5, 0.7, 0.9, 1]\n",
    "v_values = [0.01, 0.1, 0.3, 0.5, 0.7, 0.9]\n",
    "# True symbol for testing data\n",
    "y_true = np.ones((8000), dtype=int)\n",
    "y_true[400:8000] = np.full((7600), -1, dtype=int)\n",
    "\n",
    "# Initialize\n",
    "best_v = 0\n",
    "best_sig = 0\n",
    "best_score = -1\n",
    "i = 0\n",
    "j = 0\n",
    "# Loop to find best v and sig value\n",
    "for sig in sig_values:\n",
    "    k = partial(Gaussian_kernel, sigma2 = sig)\n",
    "    \n",
    "    for v in v_values:\n",
    "        model = one_class_svm(X_test, v = v, K = k)\n",
    "        y_pred = model.predict()\n",
    "        score = 1 - within_class_error(y_true = y_true, y_pred = y_pred)\n",
    "        \n",
    "        # Check if the current value is the best so far\n",
    "        if score > best_score:\n",
    "                best_v = v\n",
    "                best_sig = sig\n",
    "                best_score = score\n",
    "                \n",
    "        # Record the current error and all the parameter values\n",
    "        err_svm[i,j] = 1 - score\n",
    "        j += 1\n",
    "        print(score)\n",
    "    # Set index\n",
    "    i += 1\n",
    "    j = 0\n"
   ]
  },
  {
   "cell_type": "code",
   "execution_count": null,
   "metadata": {},
   "outputs": [
    {
     "name": "stdout",
     "output_type": "stream",
     "text": [
      "0.01\n",
      "0.1\n",
      "0.5232236842105262\n",
      "[[0.50519737 0.55151316 0.71368421 0.60348684 0.66671053 0.6775    ]\n",
      " [0.47677632 0.49657895 0.57       0.51348684 0.64967105 0.53263158]\n",
      " [0.58934211 0.58940789 0.58940789 0.58940789 0.58940789 0.58940789]\n",
      " [0.50361842 0.50361842 0.50486842 0.50486842 0.50486842 0.47782895]\n",
      " [0.60611842 0.60414474 0.61907895 0.60967105 0.61480263 0.57835526]\n",
      " [0.58177632 0.59539474 0.61947368 0.61618421 0.60703947 0.58184211]]\n"
     ]
    }
   ],
   "source": [
    "print(best_v)\n",
    "print(best_sig)\n",
    "print(best_score)\n",
    "print(err_svm)"
   ]
  },
  {
   "cell_type": "code",
   "execution_count": null,
   "metadata": {},
   "outputs": [
    {
     "data": {
      "image/png": "[encoded data removed]",
      "text/plain": [
       "<Figure size 576x216 with 2 Axes>"
      ]
     },
     "metadata": {
      "needs_background": "light"
     },
     "output_type": "display_data"
    }
   ],
   "source": [
    "# Plot\n",
    "fig, axs = plt.subplots(nrows=1, ncols=2, sharey=True, figsize=(8, 3))\n",
    "\n",
    "axs[0].set_ylim([0, 1])\n",
    "axs[0].set_ylabel('Error')\n",
    "axs[0].set_title('v')\n",
    "for i in range(6):\n",
    "    axs[0].plot(v_values, err_svm[i,:], color = 'black', linestyle = '-', label = 'v')\n",
    "\n",
    "axs[1].set_title('sig')\n",
    "for i in range(6):\n",
    "    axs[1].plot(sig_values, err_svm[:,i], color = 'black', linestyle = '-', label = 'sig')\n",
    "\n",
    "plt.tight_layout()\n",
    "plt.show()\n"
   ]
  },
  {
   "cell_type": "code",
   "execution_count": null,
   "metadata": {},
   "outputs": [
    {
     "ename": "ValueError",
     "evalue": "Incompatible dimensions (800, 3) (4, 800)",
     "output_type": "error",
     "traceback": [
      "\u001b[1;31m---------------------------------------------------------------------------\u001b[0m",
      "\u001b[1;31mValueError\u001b[0m                                Traceback (most recent call last)",
      "\u001b[1;32md:\\研究生\\研一\\下学期\\EECS553\\project\\mdwsvm-ad\\try_one_class_svm.ipynb Cell 7\u001b[0m in \u001b[0;36m<cell line: 5>\u001b[1;34m()\u001b[0m\n\u001b[0;32m      <a href='vscode-notebook-cell:/d%3A/%E7%A0%94%E7%A9%B6%E7%94%9F/%E7%A0%94%E4%B8%80/%E4%B8%8B%E5%AD%A6%E6%9C%9F/EECS553/project/mdwsvm-ad/try_one_class_svm.ipynb#W6sZmlsZQ%3D%3D?line=2'>3</a>\u001b[0m c \u001b[39m=\u001b[39m \u001b[39m10\u001b[39m\n\u001b[0;32m      <a href='vscode-notebook-cell:/d%3A/%E7%A0%94%E7%A9%B6%E7%94%9F/%E7%A0%94%E4%B8%80/%E4%B8%8B%E5%AD%A6%E6%9C%9F/EECS553/project/mdwsvm-ad/try_one_class_svm.ipynb#W6sZmlsZQ%3D%3D?line=3'>4</a>\u001b[0m k \u001b[39m=\u001b[39m partial(Gaussian_kernel, sigma2\u001b[39m=\u001b[39m\u001b[39m1\u001b[39m)\n\u001b[1;32m----> <a href='vscode-notebook-cell:/d%3A/%E7%A0%94%E7%A9%B6%E7%94%9F/%E7%A0%94%E4%B8%80/%E4%B8%8B%E5%AD%A6%E6%9C%9F/EECS553/project/mdwsvm-ad/try_one_class_svm.ipynb#W6sZmlsZQ%3D%3D?line=4'>5</a>\u001b[0m y_pred \u001b[39m=\u001b[39m hybrid(X_train, y_train, X_test, v, w, c, k)\n",
      "File \u001b[1;32md:\\研究生\\研一\\下学期\\EECS553\\project\\mdwsvm-ad\\hybrid.py:36\u001b[0m, in \u001b[0;36mhybrid\u001b[1;34m(X_train, y_train, X_test, v, W, C, K, alp)\u001b[0m\n\u001b[0;32m     34\u001b[0m y_test[y_anomaly \u001b[39m==\u001b[39m \u001b[39m-\u001b[39m\u001b[39m1\u001b[39m] \u001b[39m=\u001b[39m \u001b[39m-\u001b[39m\u001b[39m1\u001b[39m \u001b[39m# Use -1 to denote the label of anomalous data\u001b[39;00m\n\u001b[0;32m     35\u001b[0m \u001b[39m# train mdwsvm\u001b[39;00m\n\u001b[1;32m---> 36\u001b[0m model2 \u001b[39m=\u001b[39m mdwsvm(X_train, y_train, W, C, alp)\n\u001b[0;32m     38\u001b[0m \u001b[39m#second perform mdwsvm on the rest data\u001b[39;00m\n\u001b[0;32m     39\u001b[0m index_normal \u001b[39m=\u001b[39m np\u001b[39m.\u001b[39mwhere(y_anomaly \u001b[39m!=\u001b[39m \u001b[39m-\u001b[39m\u001b[39m1\u001b[39m)[\u001b[39m0\u001b[39m]\n",
      "File \u001b[1;32md:\\研究生\\研一\\下学期\\EECS553\\project\\mdwsvm-ad\\mdwsvm.py:22\u001b[0m, in \u001b[0;36mmdwsvm.__init__\u001b[1;34m(self, X, y, W, C, alp)\u001b[0m\n\u001b[0;32m     20\u001b[0m \u001b[39mself\u001b[39m\u001b[39m.\u001b[39mC \u001b[39m=\u001b[39m C\n\u001b[0;32m     21\u001b[0m \u001b[39mself\u001b[39m\u001b[39m.\u001b[39malp \u001b[39m=\u001b[39m alp\n\u001b[1;32m---> 22\u001b[0m \u001b[39mself\u001b[39m\u001b[39m.\u001b[39mB, \u001b[39mself\u001b[39m\u001b[39m.\u001b[39mbeta \u001b[39m=\u001b[39m \u001b[39mself\u001b[39;49m\u001b[39m.\u001b[39;49mfit()\n",
      "File \u001b[1;32md:\\研究生\\研一\\下学期\\EECS553\\project\\mdwsvm-ad\\mdwsvm.py:39\u001b[0m, in \u001b[0;36mmdwsvm.fit\u001b[1;34m(self)\u001b[0m\n\u001b[0;32m     37\u001b[0m objective \u001b[39m=\u001b[39m cp\u001b[39m.\u001b[39mMinimize(cp\u001b[39m.\u001b[39msum(\u001b[39mself\u001b[39m\u001b[39m.\u001b[39malp \u001b[39m*\u001b[39m (cp\u001b[39m.\u001b[39mpower(r, \u001b[39m-\u001b[39m\u001b[39m1\u001b[39m) \u001b[39m+\u001b[39m eta) \u001b[39m+\u001b[39m (\u001b[39m1\u001b[39m\u001b[39m-\u001b[39m\u001b[39mself\u001b[39m\u001b[39m.\u001b[39malp) \u001b[39m*\u001b[39m xi))\n\u001b[0;32m     38\u001b[0m \u001b[39m# Constraints\u001b[39;00m\n\u001b[1;32m---> 39\u001b[0m constraints \u001b[39m=\u001b[39m [r \u001b[39m==\u001b[39m cp\u001b[39m.\u001b[39mdiag((B\u001b[39m.\u001b[39;49mT \u001b[39m@\u001b[39;49m \u001b[39mself\u001b[39;49m\u001b[39m.\u001b[39;49mX \u001b[39m+\u001b[39;49m beta_0)\u001b[39m.\u001b[39;49mT \u001b[39m@\u001b[39;49m W_y) \u001b[39m+\u001b[39m eta,\n\u001b[0;32m     40\u001b[0m                r \u001b[39m>\u001b[39m\u001b[39m=\u001b[39m \u001b[39m0\u001b[39m,\n\u001b[0;32m     41\u001b[0m                eta \u001b[39m>\u001b[39m\u001b[39m=\u001b[39m \u001b[39m0\u001b[39m,\n\u001b[0;32m     42\u001b[0m                cp\u001b[39m.\u001b[39mdiag((B\u001b[39m.\u001b[39mT \u001b[39m@\u001b[39m \u001b[39mself\u001b[39m\u001b[39m.\u001b[39mX \u001b[39m+\u001b[39m beta)\u001b[39m.\u001b[39mT \u001b[39m@\u001b[39m W_y) \u001b[39m+\u001b[39m xi \u001b[39m>\u001b[39m\u001b[39m=\u001b[39m \u001b[39m1\u001b[39m,\n\u001b[0;32m     43\u001b[0m                xi \u001b[39m>\u001b[39m\u001b[39m=\u001b[39m \u001b[39m0\u001b[39m, \n\u001b[0;32m     44\u001b[0m                cp\u001b[39m.\u001b[39msum([cp\u001b[39m.\u001b[39mpower(cp\u001b[39m.\u001b[39mpnorm(B[:,i], p\u001b[39m=\u001b[39m\u001b[39m2\u001b[39m), \u001b[39m2\u001b[39m) \u001b[39mfor\u001b[39;00m i \u001b[39min\u001b[39;00m \u001b[39mrange\u001b[39m(k\u001b[39m-\u001b[39m\u001b[39m1\u001b[39m)]) \u001b[39m<\u001b[39m\u001b[39m=\u001b[39m \u001b[39mself\u001b[39m\u001b[39m.\u001b[39mC]\n\u001b[0;32m     45\u001b[0m prob \u001b[39m=\u001b[39m cp\u001b[39m.\u001b[39mProblem(objective, constraints)\n\u001b[0;32m     46\u001b[0m prob\u001b[39m.\u001b[39msolve(solver\u001b[39m=\u001b[39mcp\u001b[39m.\u001b[39mSCS)\n",
      "File \u001b[1;32m~\\AppData\\Local\\Packages\\PythonSoftwareFoundation.Python.3.8_qbz5n2kfra8p0\\LocalCache\\local-packages\\Python38\\site-packages\\cvxpy\\expressions\\expression.py:50\u001b[0m, in \u001b[0;36m_cast_other.<locals>.cast_op\u001b[1;34m(self, other)\u001b[0m\n\u001b[0;32m     47\u001b[0m \u001b[39m\"\"\"A wrapped binary operator that can handle non-Expression arguments.\u001b[39;00m\n\u001b[0;32m     48\u001b[0m \u001b[39m\"\"\"\u001b[39;00m\n\u001b[0;32m     49\u001b[0m other \u001b[39m=\u001b[39m \u001b[39mself\u001b[39m\u001b[39m.\u001b[39mcast_to_const(other)\n\u001b[1;32m---> 50\u001b[0m \u001b[39mreturn\u001b[39;00m binary_op(\u001b[39mself\u001b[39;49m, other)\n",
      "File \u001b[1;32m~\\AppData\\Local\\Packages\\PythonSoftwareFoundation.Python.3.8_qbz5n2kfra8p0\\LocalCache\\local-packages\\Python38\\site-packages\\cvxpy\\expressions\\expression.py:632\u001b[0m, in \u001b[0;36mExpression.__matmul__\u001b[1;34m(self, other)\u001b[0m\n\u001b[0;32m    629\u001b[0m         \u001b[39mfrom\u001b[39;00m \u001b[39mcvxpy\u001b[39;00m\u001b[39m.\u001b[39;00m\u001b[39mexpressions\u001b[39;00m\u001b[39m.\u001b[39;00m\u001b[39mcvxtypes\u001b[39;00m \u001b[39mimport\u001b[39;00m quad_form\n\u001b[0;32m    630\u001b[0m         \u001b[39mreturn\u001b[39;00m quad_form()(other, \u001b[39mself\u001b[39m\u001b[39m.\u001b[39margs[\u001b[39m1\u001b[39m])\n\u001b[1;32m--> 632\u001b[0m \u001b[39mreturn\u001b[39;00m cvxtypes\u001b[39m.\u001b[39;49mmatmul_expr()(\u001b[39mself\u001b[39;49m, other)\n",
      "File \u001b[1;32m~\\AppData\\Local\\Packages\\PythonSoftwareFoundation.Python.3.8_qbz5n2kfra8p0\\LocalCache\\local-packages\\Python38\\site-packages\\cvxpy\\atoms\\affine\\binary_operators.py:50\u001b[0m, in \u001b[0;36mBinaryOperator.__init__\u001b[1;34m(self, lh_exp, rh_exp)\u001b[0m\n\u001b[0;32m     49\u001b[0m \u001b[39mdef\u001b[39;00m \u001b[39m__init__\u001b[39m(\u001b[39mself\u001b[39m, lh_exp, rh_exp) \u001b[39m-\u001b[39m\u001b[39m>\u001b[39m \u001b[39mNone\u001b[39;00m:\n\u001b[1;32m---> 50\u001b[0m     \u001b[39msuper\u001b[39;49m(BinaryOperator, \u001b[39mself\u001b[39;49m)\u001b[39m.\u001b[39;49m\u001b[39m__init__\u001b[39;49m(lh_exp, rh_exp)\n",
      "File \u001b[1;32m~\\AppData\\Local\\Packages\\PythonSoftwareFoundation.Python.3.8_qbz5n2kfra8p0\\LocalCache\\local-packages\\Python38\\site-packages\\cvxpy\\atoms\\atom.py:51\u001b[0m, in \u001b[0;36mAtom.__init__\u001b[1;34m(self, *args)\u001b[0m\n\u001b[0;32m     49\u001b[0m \u001b[39mself\u001b[39m\u001b[39m.\u001b[39margs \u001b[39m=\u001b[39m [Atom\u001b[39m.\u001b[39mcast_to_const(arg) \u001b[39mfor\u001b[39;00m arg \u001b[39min\u001b[39;00m args]\n\u001b[0;32m     50\u001b[0m \u001b[39mself\u001b[39m\u001b[39m.\u001b[39mvalidate_arguments()\n\u001b[1;32m---> 51\u001b[0m \u001b[39mself\u001b[39m\u001b[39m.\u001b[39m_shape \u001b[39m=\u001b[39m \u001b[39mself\u001b[39;49m\u001b[39m.\u001b[39;49mshape_from_args()\n\u001b[0;32m     52\u001b[0m \u001b[39mif\u001b[39;00m \u001b[39mlen\u001b[39m(\u001b[39mself\u001b[39m\u001b[39m.\u001b[39m_shape) \u001b[39m>\u001b[39m \u001b[39m2\u001b[39m:\n\u001b[0;32m     53\u001b[0m     \u001b[39mraise\u001b[39;00m \u001b[39mValueError\u001b[39;00m(\u001b[39m\"\u001b[39m\u001b[39mAtoms must be at most 2D.\u001b[39m\u001b[39m\"\u001b[39m)\n",
      "File \u001b[1;32m~\\AppData\\Local\\Packages\\PythonSoftwareFoundation.Python.3.8_qbz5n2kfra8p0\\LocalCache\\local-packages\\Python38\\site-packages\\cvxpy\\atoms\\affine\\binary_operators.py:120\u001b[0m, in \u001b[0;36mMulExpression.shape_from_args\u001b[1;34m(self)\u001b[0m\n\u001b[0;32m    117\u001b[0m \u001b[39mdef\u001b[39;00m \u001b[39mshape_from_args\u001b[39m(\u001b[39mself\u001b[39m) \u001b[39m-\u001b[39m\u001b[39m>\u001b[39m Tuple[\u001b[39mint\u001b[39m, \u001b[39m.\u001b[39m\u001b[39m.\u001b[39m\u001b[39m.\u001b[39m]:\n\u001b[0;32m    118\u001b[0m     \u001b[39m\"\"\"Returns the (row, col) shape of the expression.\u001b[39;00m\n\u001b[0;32m    119\u001b[0m \u001b[39m    \"\"\"\u001b[39;00m\n\u001b[1;32m--> 120\u001b[0m     \u001b[39mreturn\u001b[39;00m u\u001b[39m.\u001b[39;49mshape\u001b[39m.\u001b[39;49mmul_shapes(\u001b[39mself\u001b[39;49m\u001b[39m.\u001b[39;49margs[\u001b[39m0\u001b[39;49m]\u001b[39m.\u001b[39;49mshape, \u001b[39mself\u001b[39;49m\u001b[39m.\u001b[39;49margs[\u001b[39m1\u001b[39;49m]\u001b[39m.\u001b[39;49mshape)\n",
      "File \u001b[1;32m~\\AppData\\Local\\Packages\\PythonSoftwareFoundation.Python.3.8_qbz5n2kfra8p0\\LocalCache\\local-packages\\Python38\\site-packages\\cvxpy\\utilities\\shape.py:144\u001b[0m, in \u001b[0;36mmul_shapes\u001b[1;34m(lh_shape, rh_shape)\u001b[0m\n\u001b[0;32m    142\u001b[0m lh_old \u001b[39m=\u001b[39m lh_shape\n\u001b[0;32m    143\u001b[0m rh_old \u001b[39m=\u001b[39m rh_shape\n\u001b[1;32m--> 144\u001b[0m lh_shape, rh_shape, shape \u001b[39m=\u001b[39m mul_shapes_promote(lh_shape, rh_shape)\n\u001b[0;32m    145\u001b[0m \u001b[39mif\u001b[39;00m lh_shape \u001b[39m!=\u001b[39m lh_old:\n\u001b[0;32m    146\u001b[0m     shape \u001b[39m=\u001b[39m shape[\u001b[39m1\u001b[39m:]\n",
      "File \u001b[1;32m~\\AppData\\Local\\Packages\\PythonSoftwareFoundation.Python.3.8_qbz5n2kfra8p0\\LocalCache\\local-packages\\Python38\\site-packages\\cvxpy\\utilities\\shape.py:110\u001b[0m, in \u001b[0;36mmul_shapes_promote\u001b[1;34m(lh_shape, rh_shape)\u001b[0m\n\u001b[0;32m    108\u001b[0m rh_mat_shape \u001b[39m=\u001b[39m rh_shape[\u001b[39m-\u001b[39m\u001b[39m2\u001b[39m:]\n\u001b[0;32m    109\u001b[0m \u001b[39mif\u001b[39;00m lh_mat_shape[\u001b[39m1\u001b[39m] \u001b[39m!=\u001b[39m rh_mat_shape[\u001b[39m0\u001b[39m]:\n\u001b[1;32m--> 110\u001b[0m     \u001b[39mraise\u001b[39;00m \u001b[39mValueError\u001b[39;00m(\u001b[39m\"\u001b[39m\u001b[39mIncompatible dimensions \u001b[39m\u001b[39m%s\u001b[39;00m\u001b[39m \u001b[39m\u001b[39m%s\u001b[39;00m\u001b[39m\"\u001b[39m \u001b[39m%\u001b[39m (\n\u001b[0;32m    111\u001b[0m         lh_shape, rh_shape))\n\u001b[0;32m    112\u001b[0m \u001b[39mif\u001b[39;00m lh_shape[:\u001b[39m-\u001b[39m\u001b[39m2\u001b[39m] \u001b[39m!=\u001b[39m rh_shape[:\u001b[39m-\u001b[39m\u001b[39m2\u001b[39m]:\n\u001b[0;32m    113\u001b[0m     \u001b[39mraise\u001b[39;00m \u001b[39mValueError\u001b[39;00m(\u001b[39m\"\u001b[39m\u001b[39mIncompatible dimensions \u001b[39m\u001b[39m%s\u001b[39;00m\u001b[39m \u001b[39m\u001b[39m%s\u001b[39;00m\u001b[39m\"\u001b[39m \u001b[39m%\u001b[39m (\n\u001b[0;32m    114\u001b[0m         lh_shape, rh_shape))\n",
      "\u001b[1;31mValueError\u001b[0m: Incompatible dimensions (800, 3) (4, 800)"
     ]
    }
   ],
   "source": [
    "v = 0.1\n",
    "w = vertices(5)\n",
    "c = 10\n",
    "k = partial(Gaussian_kernel, sigma2=1)\n",
    "y_pred = hybrid(X_train, y_train, X_test, v, w, c, k)"
   ]
  },
  {
   "cell_type": "code",
   "execution_count": null,
   "metadata": {},
   "outputs": [],
   "source": [
    "within_class_error(y_test_2, y_pred)"
   ]
  }
 ],
 "metadata": {
  "kernelspec": {
   "display_name": "Python 3",
   "language": "python",
   "name": "python3"
  },
  "language_info": {
   "codemirror_mode": {
    "name": "ipython",
    "version": 3
   },
   "file_extension": ".py",
   "mimetype": "text/x-python",
   "name": "python",
   "nbconvert_exporter": "python",
   "pygments_lexer": "ipython3",
   "version": "3.8.10"
  },
  "orig_nbformat": 4
 },
 "nbformat": 4,
 "nbformat_minor": 2
}
